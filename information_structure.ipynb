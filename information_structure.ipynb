{
 "cells": [
  {
   "cell_type": "code",
   "execution_count": 1,
   "id": "d345c52c",
   "metadata": {},
   "outputs": [],
   "source": [
    "import numpy as np\n",
    "import pandas as pd \n",
    "import matplotlib.pyplot as plt\n",
    "import time\n",
    "from algo import *\n",
    "from util import *\n",
    "from environment import *\n",
    "from ids import *"
   ]
  },
  {
   "cell_type": "code",
   "execution_count": 2,
   "id": "2f8fee8c",
   "metadata": {},
   "outputs": [],
   "source": [
    "def set_experiment_app(price_list=np.linspace(0.01,1,100), segments=1000, update_freq=10, T=2000):\n",
    "    start = time.time()\n",
    "    exp_MAB_1 = pricing_MAB(price_list=price_list, segments=segments,update_freq=update_freq, exp='exp6', T=T)\n",
    "    exp_MAB_1.segments_means(param1=2,param2=8)\n",
    "    df1, df2 = exp_MAB_1.true_optimal()\n",
    "    print('time:',time.time()-start)\n",
    "    return exp_MAB_1, df1, df2"
   ]
  },
  {
   "cell_type": "code",
   "execution_count": 3,
   "id": "6f7fbe32",
   "metadata": {},
   "outputs": [
    {
     "name": "stdout",
     "output_type": "stream",
     "text": [
      "The true optimal arm in first 300 rounds is: 4\n",
      "The true optimal arm in the rest is: 12\n",
      "time: 26.404364109039307\n"
     ]
    }
   ],
   "source": [
    "#changeable parameters\n",
    "np.random.seed(777)\n",
    "price_list=np.linspace(0.01,1,20)\n",
    "T = 600\n",
    "\n",
    "#fix parameters\n",
    "segments = 1000\n",
    "update_freq = 10\n",
    "trial_rounds = 10\n",
    "exp_MAB_1, df1, df2 = set_experiment_app(price_list=price_list, segments=segments, update_freq =update_freq, T=T)"
   ]
  },
  {
   "cell_type": "code",
   "execution_count": 4,
   "id": "379588e9",
   "metadata": {},
   "outputs": [],
   "source": [
    "T = 305"
   ]
  },
  {
   "cell_type": "code",
   "execution_count": 90,
   "id": "eb86fa18",
   "metadata": {},
   "outputs": [
    {
     "data": {
      "text/plain": [
       "500"
      ]
     },
     "execution_count": 90,
     "metadata": {},
     "output_type": "execute_result"
    }
   ],
   "source": [
    "exp_MAB_1.t"
   ]
  },
  {
   "cell_type": "code",
   "execution_count": 6,
   "id": "9bf677eb",
   "metadata": {},
   "outputs": [
    {
     "name": "stdout",
     "output_type": "stream",
     "text": [
      "Reward change detected at time: 302\n",
      "Detected Sign: 1\n",
      "eg triggered at  302\n",
      "arm\n",
      "1.0     3.000187e-01\n",
      "4.0     5.673759e-04\n",
      "6.0     1.811375e-03\n",
      "7.0     2.090868e-03\n",
      "11.0    2.975562e-07\n",
      "14.0    1.814087e-02\n",
      "17.0    8.933317e-06\n",
      "Name: pvalue, dtype: float64\n",
      "demand shape does not match\n"
     ]
    }
   ],
   "source": [
    "IDS_1 = IDS_pull(price_list=price_list, N=update_freq+1, start_L=2, update_L=2,\n",
    "                     simulate_time_initiate=1, simulate_time_update=1, window_width=100, eg_p=1)\n",
    "IDS_1_sum, IDS_1_pt, IDS_1_re, IDS_1_arm, IDS_1_post = IDS_1.IDS(T=T, pricing_MAB=exp_MAB_1, mode='mode1',\n",
    "                                                                     update_style='none', base=1000, p=np.nan,\n",
    "                                                                     p_y=np.nan, R=np.nan)\n",
    "exp_MAB_1.t = 0"
   ]
  },
  {
   "cell_type": "code",
   "execution_count": 7,
   "id": "47fa2123",
   "metadata": {},
   "outputs": [
    {
     "name": "stdout",
     "output_type": "stream",
     "text": [
      "Reward change detected at time: 304\n",
      "Detected Sign: -1\n",
      "eg triggered at  304\n",
      "arm\n",
      "1.0     1.338470e-01\n",
      "4.0     2.279851e-03\n",
      "5.0     7.738361e-04\n",
      "7.0     1.199975e-04\n",
      "11.0    1.101111e-04\n",
      "14.0    3.006665e-06\n",
      "17.0    8.178081e-07\n",
      "Name: pvalue, dtype: float64\n",
      "demand shape does not match\n"
     ]
    }
   ],
   "source": [
    "IDST_1 = IDS_theta_pull(price_list=price_list, N=update_freq+1, start_L=2, update_L=2,\n",
    "                     simulate_time_initiate=1, simulate_time_update=1, window_width=100, eg_p=1)\n",
    "IDST_1_sum, IDST_1_pt, IDST_1_re, IDST_1_arm, IDST_1_post = IDST_1.IDS(T=T, pricing_MAB=exp_MAB_1, mode='mode1',\n",
    "                                                                     update_style='none', base=1000, p=np.nan,\n",
    "                                                                     p_y=np.nan, R=np.nan)\n",
    "exp_MAB_1.t = T"
   ]
  },
  {
   "cell_type": "code",
   "execution_count": 13,
   "id": "a1098a33",
   "metadata": {},
   "outputs": [
    {
     "data": {
      "text/plain": [
       "349"
      ]
     },
     "execution_count": 13,
     "metadata": {},
     "output_type": "execute_result"
    }
   ],
   "source": []
  },
  {
   "cell_type": "code",
   "execution_count": 87,
   "id": "27ded483",
   "metadata": {
    "scrolled": false
   },
   "outputs": [
    {
     "name": "stdout",
     "output_type": "stream",
     "text": [
      "Reward change detected at time: 482\n",
      "Detected Sign: -1\n",
      "eg triggered at  487\n",
      "arm\n",
      "1.0     0.000001\n",
      "4.0     0.165965\n",
      "7.0     0.677070\n",
      "11.0    1.000000\n",
      "12.0    1.000000\n",
      "14.0    1.000000\n",
      "17.0    0.514328\n",
      "Name: pvalue, dtype: float64\n",
      "demand shape does not match\n"
     ]
    }
   ],
   "source": [
    "IDS_1_sum, IDS_1_pt, IDS_1_re, IDS_1_arm, IDS_1_post = IDS_1.IDS(T=500, pricing_MAB=exp_MAB_1, mode='mode2',\n",
    "                                                                     update_style='none', base=1000, p=IDS_1.p,\n",
    "                                                                     p_y=IDS_1.p_y, R=IDS_1.R)\n",
    "exp_MAB_1.t = 355\n",
    "IDST_1_sum, IDST_1_pt, IDST_1_re, IDST_1_arm, IDST_1_post = IDST_1.IDS(T=500, pricing_MAB=exp_MAB_1, mode='mode2',\n",
    "                                                                     update_style='none', base=1000, p=IDST_1.p,\n",
    "                                                                     p_y=IDST_1.p_y, R=IDST_1.R)"
   ]
  },
  {
   "cell_type": "code",
   "execution_count": 88,
   "id": "e3cf2427",
   "metadata": {},
   "outputs": [
    {
     "data": {
      "text/plain": [
       "<AxesSubplot:>"
      ]
     },
     "execution_count": 88,
     "metadata": {},
     "output_type": "execute_result"
    },
    {
     "data": {
      "image/png": "[encoded data removed]",
      "text/plain": [
       "<Figure size 432x288 with 1 Axes>"
      ]
     },
     "metadata": {
      "needs_background": "light"
     },
     "output_type": "display_data"
    }
   ],
   "source": [
    "sns.lineplot(data=IDS_1_arm)"
   ]
  },
  {
   "cell_type": "code",
   "execution_count": 89,
   "id": "60a1f4ee",
   "metadata": {},
   "outputs": [
    {
     "data": {
      "text/plain": [
       "<AxesSubplot:>"
      ]
     },
     "execution_count": 89,
     "metadata": {},
     "output_type": "execute_result"
    },
    {
     "data": {
      "image/png": "[encoded data removed]",
      "text/plain": [
       "<Figure size 432x288 with 1 Axes>"
      ]
     },
     "metadata": {
      "needs_background": "light"
     },
     "output_type": "display_data"
    }
   ],
   "source": [
    "sns.lineplot(data=IDST_1_arm)"
   ]
  },
  {
   "cell_type": "code",
   "execution_count": 79,
   "id": "1204a7bc",
   "metadata": {},
   "outputs": [],
   "source": [
    "t = 349\n",
    "lamb = 1"
   ]
  },
  {
   "cell_type": "code",
   "execution_count": 80,
   "id": "f28e33f6",
   "metadata": {},
   "outputs": [
    {
     "name": "stdout",
     "output_type": "stream",
     "text": [
      "p(a_star)\n",
      "[0.   0.   0.   0.   0.   0.   0.   0.   0.   0.   0.14 0.32 0.47 0.08\n",
      " 0.   0.   0.   0.   0.   0.  ]\n",
      "[12 11 10 13 14  9 15 16  7  6  4  3  5  1  8  2 17 19 18  0]\n",
      "\n",
      "posterior\n",
      "[0.   0.   0.   0.   0.   0.   0.   0.   0.   0.   0.   0.   0.   0.\n",
      " 0.   0.   0.   0.   0.   0.   0.   0.   0.   0.   0.   0.   0.   0.\n",
      " 0.   0.   0.   0.   0.   0.   0.   0.01 0.02 0.02 0.02 0.01 0.   0.\n",
      " 0.   0.   0.02 0.   0.   0.   0.   0.   0.   0.   0.   0.03 0.11 0.19\n",
      " 0.21 0.15 0.13 0.07 0.01 0.   0.   0.   0.  ]\n",
      "\n",
      "delta\n",
      "[4.1  3.64 3.07 2.69 2.25 2.51 1.62 1.53 0.44 0.83 0.95 0.23 1.6  0.74\n",
      " 1.96 0.34 0.1  3.05 0.54 2.17]\n",
      "[16 11 15  8 18 13  9 10  7 12  6 14 19  4  5  3 17  2  1  0]\n",
      "\n",
      "info gain\n",
      "[0.03 0.12 0.28 0.3  0.32 0.34 0.11 0.33 0.33 0.33 0.33 0.33 0.33 0.33\n",
      " 0.12 0.34 0.35 0.35 0.36 0.35]\n",
      "[18 19 16 17 15  5  8 13 11 10 12  9  7  4  3  2 14  1  6  0]\n",
      "\n",
      "IR\n",
      "[1.624e+01 1.183e+01 7.390e+00 5.570e+00 3.850e+00 4.700e+00 2.360e+00\n",
      " 1.760e+00 1.500e-01 5.200e-01 6.800e-01 4.000e-02 1.930e+00 4.100e-01\n",
      " 3.430e+00 9.000e-02 1.000e-02 6.890e+00 2.200e-01 3.460e+00]\n",
      "[16 11 15  8 18 13  9 10  7 12  6 14 19  4  5  3 17  2  1  0]\n",
      "\n",
      "tunable\n",
      "[ 4.06  3.52  2.8   2.39  1.93  2.17  1.51  1.2   0.11  0.5   0.62 -0.11\n",
      "  1.27  0.41  1.84  0.   -0.24  2.7   0.19  1.81]\n",
      "[16 11 15  8 18 13  9 10  7 12  6 19 14  4  5  3 17  2  1  0]\n"
     ]
    }
   ],
   "source": [
    "print('p(a_star)')\n",
    "print(IDS_1.get_pa_star().round(2))\n",
    "print(np.argsort(IDS_1.get_pa_star())[::-1])\n",
    "print('\\nposterior')\n",
    "print(IDS_1.all_posterior[t].round(2))\n",
    "print('\\ndelta')\n",
    "print(np.array(IDS_1.IDS_results['delta'][t]).round(2))\n",
    "print(np.argsort(np.array(IDS_1.IDS_results['delta'][t])))\n",
    "print('\\ninfo gain')\n",
    "print(np.array(IDS_1.IDS_results['g'][t]).round(2))\n",
    "print(np.argsort(np.array(IDS_1.IDS_results['g'][t]))[::-1])\n",
    "print('\\nIR')\n",
    "print(np.array(IDS_1.IDS_results['IR'][t]).round(2))\n",
    "print(np.argsort(np.array(IDS_1.IDS_results['IR'][t])))\n",
    "print('\\ntunable')\n",
    "print((IDS_1.IDS_results['delta'][t] - lamb * IDS_1.IDS_results['g'][t]).round(2))\n",
    "print(np.argsort(IDS_1.IDS_results['delta'][t] - lamb * IDS_1.IDS_results['g'][t]))"
   ]
  },
  {
   "cell_type": "code",
   "execution_count": 73,
   "id": "bea177bf",
   "metadata": {
    "scrolled": false
   },
   "outputs": [
    {
     "name": "stdout",
     "output_type": "stream",
     "text": [
      "p(a_star)\n",
      "[0.   0.   0.   0.   0.   0.   0.   0.01 0.03 0.21 0.62 0.02 0.1  0.01\n",
      " 0.   0.   0.   0.   0.   0.  ]\n",
      "[10  9 12  8 11 13  7 15 14  6  3  5  4 17  2 16  1 19 18  0]\n",
      "\n",
      "posterior\n",
      "[0.   0.   0.   0.   0.   0.   0.   0.   0.   0.   0.   0.   0.   0.\n",
      " 0.   0.   0.   0.   0.   0.   0.   0.   0.   0.   0.   0.   0.   0.\n",
      " 0.   0.   0.   0.   0.   0.02 0.02 0.02 0.02 0.01 0.   0.   0.   0.\n",
      " 0.   0.   0.   0.   0.   0.   0.   0.   0.   0.02 0.04 0.17 0.24 0.22\n",
      " 0.15 0.06 0.01 0.   0.   0.   0.   0.   0.  ]\n",
      "\n",
      "delta\n",
      "[3.61 3.1  2.6  2.13 1.69 1.3  0.95 0.65 0.4  0.23 0.13 0.13 0.22 0.42\n",
      " 0.63 1.   1.4  1.89 2.44 2.96]\n",
      "[10 11 12  9  8 13 14  7  6 15  5 16  4 17  3 18  2 19  1  0]\n",
      "\n",
      "info gain\n",
      "[0.07 0.11 0.15 0.19 0.21 0.19 0.18 0.16 0.16 0.17 0.21 0.23 0.25 0.24\n",
      " 0.26 0.31 0.36 0.44 0.43 0.39]\n",
      "[17 18 19 16 15 14 12 13 11  4 10  5  3  6  9  7  8  2  1  0]\n",
      "\n",
      "IR\n",
      "[1.217e+01 8.670e+00 5.880e+00 3.810e+00 2.360e+00 1.410e+00 7.600e-01\n",
      " 3.600e-01 1.400e-01 4.000e-02 1.000e-02 1.000e-02 4.000e-02 1.400e-01\n",
      " 3.200e-01 7.500e-01 1.440e+00 2.480e+00 4.150e+00 6.310e+00]\n",
      "[10 11 12  9  8 13 14  7 15  6  5 16  4 17  3 18  2 19  1  0]\n",
      "\n",
      "tunable\n",
      "[ 3.54  2.99  2.45  1.94  1.48  1.1   0.77  0.49  0.24  0.06 -0.08 -0.09\n",
      " -0.02  0.18  0.38  0.68  1.04  1.45  2.01  2.57]\n",
      "[11 10 12  9 13  8 14  7 15  6 16  5 17  4  3 18  2 19  1  0]\n"
     ]
    }
   ],
   "source": [
    "print('p(a_star)')\n",
    "print(IDST_1.get_pa_star().round(2))\n",
    "print(np.argsort(IDST_1.get_pa_star())[::-1])\n",
    "print('\\nposterior')\n",
    "print(IDST_1.all_posterior[t].round(2))\n",
    "print('\\ndelta')\n",
    "print(np.array(IDST_1.IDS_results['delta'][t]).round(2))\n",
    "print(np.argsort(np.array(IDST_1.IDS_results['delta'][t])))\n",
    "print('\\ninfo gain')\n",
    "print(np.array(IDST_1.IDS_results['g'][t]).round(2))\n",
    "print(np.argsort(np.array(IDST_1.IDS_results['g'][t]))[::-1])\n",
    "print('\\nIR')\n",
    "print(np.array(IDST_1.IDS_results['IR'][t]).round(2))\n",
    "print(np.argsort(np.array(IDST_1.IDS_results['IR'][t])))\n",
    "print('\\ntunable')\n",
    "print((IDST_1.IDS_results['delta'][t] - lamb * IDST_1.IDS_results['g'][t]).round(2))\n",
    "print(np.argsort(IDST_1.IDS_results['delta'][t] - lamb * IDST_1.IDS_results['g'][t]))"
   ]
  },
  {
   "cell_type": "code",
   "execution_count": 47,
   "id": "259c7945",
   "metadata": {},
   "outputs": [
    {
     "data": {
      "text/plain": [
       "355"
      ]
     },
     "execution_count": 47,
     "metadata": {},
     "output_type": "execute_result"
    }
   ],
   "source": [
    "len(IDST_1.IDS_results['delta'])"
   ]
  },
  {
   "cell_type": "code",
   "execution_count": 66,
   "id": "42ab3b55",
   "metadata": {},
   "outputs": [
    {
     "data": {
      "text/plain": [
       "array([19., 10., 10., 10., 10.])"
      ]
     },
     "execution_count": 66,
     "metadata": {},
     "output_type": "execute_result"
    }
   ],
   "source": [
    "IDST_1.arm_sequence[350:]"
   ]
  },
  {
   "cell_type": "code",
   "execution_count": 69,
   "id": "360f5d60",
   "metadata": {},
   "outputs": [
    {
     "data": {
      "text/plain": [
       "array([[0.  , 0.  , 0.  , 0.  , 0.  , 0.  , 0.  , 0.  , 0.  , 0.  , 0.  ,\n",
       "        0.  , 0.  , 0.  , 0.  , 0.  , 0.  , 0.  , 0.  , 0.  , 0.  , 0.  ,\n",
       "        0.  , 0.  , 0.  , 0.  , 0.  , 0.  , 0.  , 0.  , 0.01, 0.01, 0.01,\n",
       "        0.01, 0.01, 0.01, 0.02, 0.01, 0.  , 0.  , 0.  , 0.  , 0.  , 0.  ,\n",
       "        0.  , 0.  , 0.  , 0.  , 0.01, 0.02, 0.05, 0.06, 0.09, 0.12, 0.13,\n",
       "        0.14, 0.12, 0.08, 0.04, 0.02, 0.01, 0.  , 0.  , 0.  , 0.  ],\n",
       "       [0.  , 0.  , 0.  , 0.  , 0.  , 0.  , 0.  , 0.  , 0.  , 0.  , 0.  ,\n",
       "        0.  , 0.  , 0.  , 0.  , 0.  , 0.  , 0.  , 0.  , 0.  , 0.  , 0.  ,\n",
       "        0.  , 0.  , 0.  , 0.  , 0.  , 0.  , 0.  , 0.  , 0.  , 0.  , 0.  ,\n",
       "        0.01, 0.02, 0.02, 0.02, 0.02, 0.01, 0.  , 0.  , 0.  , 0.  , 0.  ,\n",
       "        0.  , 0.  , 0.  , 0.  , 0.  , 0.  , 0.01, 0.02, 0.04, 0.13, 0.17,\n",
       "        0.21, 0.18, 0.1 , 0.04, 0.01, 0.  , 0.  , 0.  , 0.  , 0.  ],\n",
       "       [0.  , 0.  , 0.  , 0.  , 0.  , 0.  , 0.  , 0.  , 0.  , 0.  , 0.  ,\n",
       "        0.  , 0.  , 0.  , 0.  , 0.  , 0.  , 0.  , 0.  , 0.  , 0.  , 0.  ,\n",
       "        0.  , 0.  , 0.  , 0.  , 0.  , 0.  , 0.  , 0.  , 0.  , 0.  , 0.  ,\n",
       "        0.02, 0.02, 0.02, 0.02, 0.01, 0.  , 0.  , 0.  , 0.  , 0.  , 0.  ,\n",
       "        0.  , 0.  , 0.  , 0.  , 0.  , 0.  , 0.  , 0.02, 0.04, 0.17, 0.24,\n",
       "        0.22, 0.15, 0.06, 0.01, 0.  , 0.  , 0.  , 0.  , 0.  , 0.  ],\n",
       "       [0.  , 0.  , 0.  , 0.  , 0.  , 0.  , 0.  , 0.  , 0.  , 0.  , 0.  ,\n",
       "        0.  , 0.  , 0.  , 0.  , 0.  , 0.  , 0.  , 0.  , 0.  , 0.  , 0.  ,\n",
       "        0.  , 0.  , 0.  , 0.  , 0.  , 0.  , 0.  , 0.  , 0.  , 0.  , 0.  ,\n",
       "        0.01, 0.02, 0.03, 0.03, 0.02, 0.01, 0.  , 0.  , 0.  , 0.  , 0.  ,\n",
       "        0.  , 0.  , 0.  , 0.  , 0.  , 0.  , 0.  , 0.  , 0.  , 0.07, 0.22,\n",
       "        0.28, 0.2 , 0.09, 0.02, 0.  , 0.  , 0.  , 0.  , 0.  , 0.  ],\n",
       "       [0.  , 0.  , 0.  , 0.  , 0.  , 0.  , 0.  , 0.  , 0.  , 0.  , 0.  ,\n",
       "        0.  , 0.  , 0.  , 0.  , 0.  , 0.  , 0.  , 0.  , 0.  , 0.  , 0.  ,\n",
       "        0.  , 0.  , 0.  , 0.  , 0.  , 0.  , 0.  , 0.  , 0.  , 0.  , 0.  ,\n",
       "        0.03, 0.03, 0.02, 0.01, 0.01, 0.  , 0.  , 0.  , 0.  , 0.  , 0.  ,\n",
       "        0.  , 0.  , 0.  , 0.  , 0.  , 0.  , 0.  , 0.01, 0.02, 0.21, 0.36,\n",
       "        0.2 , 0.07, 0.01, 0.  , 0.  , 0.  , 0.  , 0.  , 0.  , 0.  ]])"
      ]
     },
     "execution_count": 69,
     "metadata": {},
     "output_type": "execute_result"
    }
   ],
   "source": [
    "np.array(IDST_1.all_posterior[350:]).round(2)"
   ]
  },
  {
   "cell_type": "code",
   "execution_count": 35,
   "id": "a85ab688",
   "metadata": {},
   "outputs": [
    {
     "name": "stdout",
     "output_type": "stream",
     "text": [
      "[0.37 0.41 0.45 0.5  0.54 0.58 0.61 0.64 0.67 0.68 0.69 0.7  0.72 0.73\n",
      " 0.75 0.76 0.78 0.78 0.8  0.79 0.82 0.82 0.8  0.79 0.78 0.76 0.75 0.73\n",
      " 0.71 0.71 0.71 0.67 0.62 0.59 0.55 0.52 0.48 0.44 0.42 0.4  0.37 0.33\n",
      " 0.31 0.31 0.29 0.27 0.25 0.23 0.21 0.19]\n"
     ]
    }
   ],
   "source": [
    "print(np.array(IDS_1.IDS_results['g'][302]).round(2))"
   ]
  },
  {
   "cell_type": "code",
   "execution_count": 33,
   "id": "f1bece47",
   "metadata": {},
   "outputs": [
    {
     "name": "stdout",
     "output_type": "stream",
     "text": [
      "[0.34 0.36 0.39 0.41 0.44 0.47 0.5  0.52 0.54 0.57 0.6  0.62 0.65 1.08\n",
      " 1.02 0.77 0.79 0.81 0.85 1.11 1.1  1.12 1.12 1.11 1.12 1.12 1.11 1.18\n",
      " 1.1  1.08 1.08 1.05 1.05 0.8  0.78 0.76 0.69 0.97 0.67 0.6  0.57 0.54\n",
      " 0.52 0.49 0.45 0.42 0.39 0.37 0.34 0.32]\n"
     ]
    }
   ],
   "source": [
    "print(np.array(IDST_1.IDS_results['g'][302]).round(2))"
   ]
  }
 ],
 "metadata": {
  "kernelspec": {
   "display_name": "Python 3",
   "language": "python",
   "name": "python3"
  },
  "language_info": {
   "codemirror_mode": {
    "name": "ipython",
    "version": 3
   },
   "file_extension": ".py",
   "mimetype": "text/x-python",
   "name": "python",
   "nbconvert_exporter": "python",
   "pygments_lexer": "ipython3",
   "version": "3.8.8"
  }
 },
 "nbformat": 4,
 "nbformat_minor": 5
}
