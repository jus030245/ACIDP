{
 "cells": [
  {
   "cell_type": "code",
   "execution_count": 1,
   "id": "429f1299",
   "metadata": {},
   "outputs": [],
   "source": [
    "import numpy as np\n",
    "import pandas as pd \n",
    "import matplotlib.pyplot as plt\n",
    "import time\n",
    "from algo import *\n",
    "from util import *\n",
    "from environment import *\n",
    "from ids import *\n",
    "from tqdm import tqdm"
   ]
  },
  {
   "cell_type": "code",
   "execution_count": 2,
   "id": "4a68a11a",
   "metadata": {},
   "outputs": [],
   "source": [
    "# low to high to middle\n",
    "class pricing_criteo():\n",
    "    def __init__(self, price_list=np.linspace(10,500,50), update_freq=100, T=3000):\n",
    "        self.price_list = price_list\n",
    "        self.update_freq = update_freq\n",
    "        self.t = 0\n",
    "        self.T = T\n",
    "        self.stage_1 = pd.read_csv('./criteo data/value_low.csv')['demand']\n",
    "        self.stage_2 = pd.read_csv('./criteo data/value_high.csv')['demand']\n",
    "        self.stage_3 = pd.read_csv('./criteo data/value_middle.csv')['demand']\n",
    "        self.click = pd.read_csv('./criteo data/click_data.csv')['click']\n",
    "        self.conversion = pd.read_csv('./criteo data/click_data.csv')['conversion_rate'].mean()\n",
    "        self.conversion = 1\n",
    "        \n",
    "    def customer_simulation(self, price, within=True):\n",
    "        \n",
    "        T_stage_1 = int(self.T / 3)\n",
    "        T_stage_2 = T_stage_1 * 2\n",
    "        click = 1000\n",
    "        \n",
    "        if self.t < T_stage_1:\n",
    "            # click = np.random.choice(self.click)\n",
    "            conversion = self.conversion * self.stage_1.loc[int((price-10)/10)]\n",
    "            reaction = np.random.binomial(1, conversion, click)\n",
    "#             reaction = np.zeros(click)\n",
    "#             reaction[np.random.choice(click, int(conversion*click))] = 1\n",
    "            self.t += 1\n",
    "            \n",
    "        elif (self.t >= T_stage_1) & (self.t < T_stage_2):\n",
    "            # click = np.random.choice(self.click)\n",
    "            conversion = self.conversion * self.stage_2.loc[int((price-10)/10)]\n",
    "            reaction = np.random.binomial(1, conversion, click)\n",
    "#             reaction = np.zeros(click)\n",
    "#             reaction[np.random.choice(click, int(conversion*click))] = 1\n",
    "            self.t += 1\n",
    "            \n",
    "        else:\n",
    "#             click = np.random.choice(self.click)\n",
    "            conversion = self.conversion * self.stage_3.loc[int((price-10)/10)]\n",
    "            reaction = np.random.binomial(1, conversion, click)\n",
    "#             reaction = np.zeros(click)\n",
    "#             reaction[np.random.choice(click, int(conversion*click))] = 1\n",
    "            self.t += 1\n",
    "            \n",
    "        if self.t == self.T:\n",
    "            self.reset_t()\n",
    "        \n",
    "        # this line is for normalizing observation to 0 to 100 for comparison\n",
    "        reward = sum(reaction) * price / click\n",
    "        reaction = reaction / click * update_freq\n",
    "        chosen_index = 0\n",
    "        return reward, chosen_index, reaction\n",
    "\n",
    "        \n",
    "    def reset_t(self):\n",
    "        self.t = 0\n",
    "    \n",
    "    def simulator_exp(self, simu=100):\n",
    "        df = pd.DataFrame(columns=['t','arm','price','reward'])\n",
    "        for t in [0, self.T/3, self.T*2/3]:\n",
    "            for arm in tqdm(range(self.price_list.shape[0])):\n",
    "                price = self.price_list[arm]\n",
    "                observation = []\n",
    "                all_p_y = np.zeros(shape=(update_freq+1))\n",
    "                for rounds in range(simu):\n",
    "                    self.t = t\n",
    "                    reward, _, reaction = self.customer_simulation(self.price_list[arm])\n",
    "                    df = pd.concat([df, pd.DataFrame({'t':t,'arm':arm,'price':price, 'reward':reward},index=[rounds])])\n",
    "                    observation.append(sum(reaction))\n",
    "                for i in range(update_freq+1):\n",
    "                    all_p_y[i] = observation.count(i) / simu\n",
    "        df_groups = df.groupby(['t','arm'])['reward'].mean()\n",
    "        optimal_arm_1 = np.argmax(df_groups.loc[df_groups.index[0:self.price_list.shape[0]]])\n",
    "        optimal_arm_2 = np.argmax(df_groups.loc[df_groups.index[self.price_list.shape[0]:self.price_list.shape[0]*2]])\n",
    "        optimal_arm_3 = np.argmax(df_groups.loc[df_groups.index[self.price_list.shape[0]*2:self.price_list.shape[0]*3]])\n",
    "        self.reset_t()\n",
    "        return df, optimal_arm_1, optimal_arm_2, optimal_arm_3\n",
    "    \n",
    "    def true_optimal(self):\n",
    "        df, optimal_arm_1, optimal_arm_2, optimal_arm_3= self.simulator_exp()\n",
    "        print(\"The true optimal arm is:\", optimal_arm_1, optimal_arm_2, optimal_arm_3)\n",
    "        return df"
   ]
  },
  {
   "cell_type": "code",
   "execution_count": 3,
   "id": "ea890264",
   "metadata": {},
   "outputs": [],
   "source": [
    "def set_experiment_criteo(price_list=np.linspace(10,500,50), update_freq=100, T=3000):\n",
    "    start = time.time()\n",
    "    exp_MAB_1 = pricing_criteo(price_list=price_list,update_freq=update_freq, T=T)\n",
    "    df = exp_MAB_1.true_optimal()\n",
    "#     df = 0\n",
    "    print('time:',time.time()-start)\n",
    "    return exp_MAB_1, df"
   ]
  },
  {
   "cell_type": "code",
   "execution_count": 4,
   "id": "53f78a16",
   "metadata": {
    "scrolled": true
   },
   "outputs": [
    {
     "name": "stderr",
     "output_type": "stream",
     "text": [
      "100%|██████████| 50/50 [00:03<00:00, 16.28it/s]\n",
      "100%|██████████| 50/50 [00:03<00:00, 12.77it/s]\n",
      "100%|██████████| 50/50 [00:04<00:00, 11.63it/s]"
     ]
    },
    {
     "name": "stdout",
     "output_type": "stream",
     "text": [
      "The true optimal arm is: 6 27 14\n",
      "time: 11.324127912521362\n"
     ]
    },
    {
     "name": "stderr",
     "output_type": "stream",
     "text": [
      "\n"
     ]
    }
   ],
   "source": [
    "#changeable parameters\n",
    "np.random.seed(777)\n",
    "K = 50\n",
    "price_list = np.linspace(10,500,K)\n",
    "T = 6000\n",
    "\n",
    "#fix parameters\n",
    "update_freq = 100\n",
    "trial_rounds = 10\n",
    "exp_MAB_1, df = set_experiment_criteo(price_list=price_list, update_freq=update_freq, T=T)"
   ]
  },
  {
   "cell_type": "code",
   "execution_count": 5,
   "id": "fc4771b4",
   "metadata": {},
   "outputs": [
    {
     "data": {
      "image/png": "[encoded data removed]",
      "text/plain": [
       "<Figure size 432x288 with 1 Axes>"
      ]
     },
     "metadata": {
      "needs_background": "light"
     },
     "output_type": "display_data"
    }
   ],
   "source": [
    "# Simulation\n",
    "t_list = df['t'].unique()\n",
    "sns.lineplot(data=df[df['t']==t_list[0]].groupby('arm')['reward'].mean())\n",
    "sns.lineplot(data=df[df['t']==t_list[1]].groupby('arm')['reward'].mean())\n",
    "sns.lineplot(data=df[df['t']==t_list[2]].groupby('arm')['reward'].mean())\n",
    "plt.legend(['high', 'low', 'middle'])\n",
    "plt.show()\n",
    "# Truth\n",
    "# sns.lineplot(data=exp_MAB_1.stage_1 * price_list)\n",
    "# sns.lineplot(data=exp_MAB_1.stage_2 * price_list)\n",
    "# sns.lineplot(data=exp_MAB_1.stage_3 * price_list)\n",
    "# plt.show()"
   ]
  },
  {
   "cell_type": "code",
   "execution_count": 6,
   "id": "e240e956",
   "metadata": {
    "scrolled": true
   },
   "outputs": [],
   "source": [
    "# #IDS_1\n",
    "# IDS_1_df = pd.DataFrame()\n",
    "# IDS_1_df_arm = pd.DataFrame()\n",
    "# for i in range(trial_rounds):\n",
    "#     start = time.time()\n",
    "#     IDS_1 = IDS_pull(price_list=price_list, N=update_freq+1, start_L=2, update_L=2,\n",
    "#                      simulate_time_initiate=1, simulate_time_update=1, window_width=100, eg_p=0.1)\n",
    "#     IDS_1_sum, IDS_1_pt, IDS_1_re, IDS_1_arm, IDS_1_post = IDS_1.IDS(T=T, pricing_MAB=exp_MAB_1, mode='mode1',\n",
    "#                                                                      update_style='none', base=1000, p=np.nan,\n",
    "#                                                                      p_y=np.nan, R=np.nan)\n",
    "#     end = time.time()\n",
    "#     print('trial',i, 'IDS_1 time:',end-start)\n",
    "#     exp_MAB_1.reset_t()\n",
    "#     IDS_1_df = IDS_1_df.append([np.cumsum(IDS_1_re)])\n",
    "\n",
    "#     IDS_1_df_arm = IDS_1_df_arm.append([IDS_1_arm])"
   ]
  },
  {
   "cell_type": "code",
   "execution_count": 7,
   "id": "37cc21f5",
   "metadata": {
    "scrolled": true
   },
   "outputs": [],
   "source": [
    "# #IDST_1\n",
    "# IDST_1_df = pd.DataFrame()\n",
    "# IDST_1_df_arm = pd.DataFrame()\n",
    "# for i in range(trial_rounds):\n",
    "#     start = time.time()\n",
    "#     IDST_1 = IDS_theta_pull(price_list=price_list, N=update_freq+1, start_L=2, update_L=2,\n",
    "#                      simulate_time_initiate=1, simulate_time_update=1, window_width=100, eg_p=0.1)\n",
    "#     IDST_1_sum, IDST_1_pt, IDST_1_re, IDST_1_arm, IDST_1_post = IDST_1.IDS(T=T, pricing_MAB=exp_MAB_1, mode='mode1',\n",
    "#                                                                      update_style='none', base=1000, p=np.nan,\n",
    "#                                                                      p_y=np.nan, R=np.nan)\n",
    "#     end = time.time()\n",
    "#     print('trial',i, 'IDST_1 time:',end-start)\n",
    "#     exp_MAB_1.reset_t()\n",
    "#     IDST_1_df = IDST_1_df.append([np.cumsum(IDST_1_re)])\n",
    "#     IDST_1_df_arm = IDST_1_df_arm.append([IDST_1_arm])"
   ]
  },
  {
   "cell_type": "code",
   "execution_count": 8,
   "id": "e0e4c57f",
   "metadata": {
    "scrolled": true
   },
   "outputs": [
    {
     "name": "stdout",
     "output_type": "stream",
     "text": [
      "Reward change detected at time: 1656\n",
      "Detected Sign: 1\n",
      "eg triggered at  1716\n",
      "arm\n",
      "4.0     8.455153e-01\n",
      "6.0     6.424936e-35\n",
      "7.0     4.589716e-01\n",
      "12.0    1.000000e+00\n",
      "20.0    1.000000e+00\n",
      "28.0    8.516179e-01\n",
      "36.0    6.053853e-01\n",
      "44.0    7.420659e-01\n",
      "Name: pvalue, dtype: float64\n",
      "demand shape does not match\n"
     ]
    },
    {
     "name": "stderr",
     "output_type": "stream",
     "text": [
      "/opt/anaconda3/lib/python3.8/site-packages/scipy/stats/_discrete_distns.py:67: RuntimeWarning: divide by zero encountered in _binom_pdf\n",
      "  return _boost._binom_pdf(x, n, p)\n"
     ]
    },
    {
     "name": "stdout",
     "output_type": "stream",
     "text": [
      "Reward change detected at time: 2001\n",
      "Detected Sign: 1\n",
      "Detector cooling\n",
      "eg triggered at  2026\n",
      "arm\n",
      "4.0     5.525065e-02\n",
      "5.0     2.966368e-01\n",
      "6.0     1.295621e-01\n",
      "12.0    5.441819e-11\n",
      "20.0    1.766750e-17\n",
      "28.0    1.369042e-11\n",
      "36.0    2.049348e-04\n",
      "44.0    7.831516e-02\n",
      "Name: pvalue, dtype: float64\n",
      "demand shape does not match\n",
      "Reward change detected at time: 2719\n",
      "Detected Sign: 1\n",
      "eg triggered at  2741\n",
      "arm\n",
      "4.0     0.142238\n",
      "12.0    0.764612\n",
      "20.0    0.919280\n",
      "26.0    0.084362\n",
      "28.0    1.000000\n",
      "36.0    0.409700\n",
      "44.0    0.336070\n",
      "Name: pvalue, dtype: float64\n",
      "tested non-significant , eg_p decayed to 0.010000000000000002\n",
      "eg triggered at  2798\n",
      "arm\n",
      "4.0     0.111165\n",
      "12.0    0.764754\n",
      "20.0    0.361395\n",
      "26.0    0.016092\n",
      "28.0    0.748487\n",
      "36.0    0.743689\n",
      "44.0    0.113621\n",
      "Name: pvalue, dtype: float64\n",
      "tested non-significant , eg_p decayed to 0.001\n"
     ]
    },
    {
     "name": "stderr",
     "output_type": "stream",
     "text": [
      "/opt/anaconda3/lib/python3.8/site-packages/scipy/stats/_discrete_distns.py:67: RuntimeWarning: divide by zero encountered in _binom_pdf\n",
      "  return _boost._binom_pdf(x, n, p)\n"
     ]
    },
    {
     "name": "stdout",
     "output_type": "stream",
     "text": [
      "Reward change detected at time: 2907\n",
      "Detected Sign: 1\n",
      "Detector cooling\n",
      "eg triggered at  2939\n",
      "arm\n",
      "4.0     0.137161\n",
      "12.0    0.549234\n",
      "20.0    0.761321\n",
      "26.0    0.011255\n",
      "28.0    0.831135\n",
      "36.0    0.745030\n",
      "44.0    0.193422\n",
      "Name: pvalue, dtype: float64\n",
      "tested non-significant , eg_p decayed to 0.010000000000000002\n",
      "eg triggered at  2996\n",
      "arm\n",
      "4.0     0.222696\n",
      "12.0    0.920513\n",
      "20.0    1.000000\n",
      "26.0    0.022075\n",
      "28.0    0.669854\n",
      "36.0    1.000000\n",
      "44.0    0.114083\n",
      "Name: pvalue, dtype: float64\n",
      "tested non-significant , eg_p decayed to 0.001\n"
     ]
    },
    {
     "name": "stderr",
     "output_type": "stream",
     "text": [
      "/opt/anaconda3/lib/python3.8/site-packages/scipy/stats/_discrete_distns.py:67: RuntimeWarning: divide by zero encountered in _binom_pdf\n",
      "  return _boost._binom_pdf(x, n, p)\n"
     ]
    },
    {
     "name": "stdout",
     "output_type": "stream",
     "text": [
      "Reward change detected at time: 3110\n",
      "Detected Sign: 1\n",
      "Detector cooling\n",
      "eg triggered at  3133\n",
      "arm\n",
      "4.0     0.176344\n",
      "12.0    1.000000\n",
      "20.0    0.611957\n",
      "26.0    0.239238\n",
      "28.0    0.523015\n",
      "36.0    1.000000\n",
      "44.0    0.318286\n",
      "Name: pvalue, dtype: float64\n",
      "tested non-significant , eg_p decayed to 0.010000000000000002\n",
      "eg triggered at  3148\n",
      "arm\n",
      "4.0     0.222600\n",
      "12.0    0.689304\n",
      "20.0    0.760846\n",
      "26.0    0.328049\n",
      "28.0    0.914774\n",
      "36.0    0.741731\n",
      "44.0    0.103345\n",
      "Name: pvalue, dtype: float64\n",
      "tested non-significant , eg_p decayed to 0.001\n",
      "Reward change detected at time: 4001\n",
      "Detected Sign: -1\n",
      "eg triggered at  4026\n",
      "arm\n",
      "4.0     5.095921e-10\n",
      "12.0    1.039474e-07\n",
      "20.0    8.384465e-01\n",
      "25.0    2.246676e-01\n",
      "26.0    2.414066e-01\n",
      "28.0    4.500953e-02\n",
      "36.0    2.417407e-01\n",
      "44.0    8.493806e-03\n",
      "Name: pvalue, dtype: float64\n",
      "demand shape does not match\n"
     ]
    },
    {
     "name": "stderr",
     "output_type": "stream",
     "text": [
      "/opt/anaconda3/lib/python3.8/site-packages/scipy/stats/_discrete_distns.py:67: RuntimeWarning: divide by zero encountered in _binom_pdf\n",
      "  return _boost._binom_pdf(x, n, p)\n"
     ]
    },
    {
     "name": "stdout",
     "output_type": "stream",
     "text": [
      "trial 0 IDS_2 time: 1150.6155581474304\n"
     ]
    },
    {
     "name": "stderr",
     "output_type": "stream",
     "text": [
      "<ipython-input-8-cf9ecd5c1fc8>:13: FutureWarning: The frame.append method is deprecated and will be removed from pandas in a future version. Use pandas.concat instead.\n",
      "  IDS_2_df = IDS_2_df.append([np.cumsum(IDS_2_re)])\n",
      "<ipython-input-8-cf9ecd5c1fc8>:14: FutureWarning: The frame.append method is deprecated and will be removed from pandas in a future version. Use pandas.concat instead.\n",
      "  IDS_2_df_arm = IDS_2_df_arm.append([IDS_2_arm])\n"
     ]
    },
    {
     "name": "stdout",
     "output_type": "stream",
     "text": [
      "Reward change detected at time: 2001\n",
      "Detected Sign: 1\n",
      "Detector cooling\n",
      "eg triggered at  2027\n",
      "arm\n",
      "4.0     1.120663e-16\n",
      "5.0     9.160257e-01\n",
      "6.0     2.648127e-03\n",
      "12.0    5.346092e-11\n",
      "20.0    3.055703e-17\n",
      "28.0    8.737396e-15\n",
      "36.0    9.565858e-06\n",
      "44.0    8.390569e-03\n",
      "Name: pvalue, dtype: float64\n",
      "demand shape does not match\n",
      "Reward change detected at time: 4003\n",
      "Detected Sign: -1\n",
      "Detector cooling\n",
      "eg triggered at  4069\n",
      "arm\n",
      "4.0     2.674542e-14\n",
      "12.0    2.702610e-08\n",
      "20.0    4.648597e-01\n",
      "24.0    8.417124e-01\n",
      "25.0    5.201392e-01\n",
      "26.0    8.012151e-01\n",
      "27.0    2.200138e-01\n",
      "28.0    1.676636e-01\n",
      "36.0    6.946927e-01\n",
      "44.0    9.618772e-02\n",
      "Name: pvalue, dtype: float64\n",
      "demand shape does not match\n"
     ]
    },
    {
     "name": "stderr",
     "output_type": "stream",
     "text": [
      "/opt/anaconda3/lib/python3.8/site-packages/scipy/stats/_discrete_distns.py:67: RuntimeWarning: divide by zero encountered in _binom_pdf\n",
      "  return _boost._binom_pdf(x, n, p)\n"
     ]
    },
    {
     "name": "stdout",
     "output_type": "stream",
     "text": [
      "trial 1 IDS_2 time: 1068.7693779468536\n"
     ]
    },
    {
     "name": "stderr",
     "output_type": "stream",
     "text": [
      "<ipython-input-8-cf9ecd5c1fc8>:13: FutureWarning: The frame.append method is deprecated and will be removed from pandas in a future version. Use pandas.concat instead.\n",
      "  IDS_2_df = IDS_2_df.append([np.cumsum(IDS_2_re)])\n",
      "<ipython-input-8-cf9ecd5c1fc8>:14: FutureWarning: The frame.append method is deprecated and will be removed from pandas in a future version. Use pandas.concat instead.\n",
      "  IDS_2_df_arm = IDS_2_df_arm.append([IDS_2_arm])\n"
     ]
    },
    {
     "name": "stdout",
     "output_type": "stream",
     "text": [
      "Reward change detected at time: 2001\n",
      "Detected Sign: 1\n",
      "Detector cooling\n",
      "eg triggered at  2013\n",
      "arm\n",
      "4.0     6.808732e-06\n",
      "5.0     3.004190e-01\n",
      "6.0     4.862277e-03\n",
      "12.0    6.526926e-12\n",
      "20.0    2.031220e-19\n",
      "28.0    8.368531e-15\n",
      "36.0    6.736729e-04\n",
      "44.0    1.251814e-02\n",
      "Name: pvalue, dtype: float64\n",
      "demand shape does not match\n",
      "Reward change detected at time: 2803\n",
      "Detected Sign: 1\n",
      "eg triggered at  2809\n",
      "arm\n",
      "4.0     0.384567\n",
      "12.0    0.764259\n",
      "20.0    0.839387\n",
      "26.0    0.834926\n",
      "27.0    0.830091\n",
      "28.0    0.915409\n",
      "36.0    1.000000\n",
      "44.0    1.000000\n",
      "Name: pvalue, dtype: float64\n",
      "tested non-significant , eg_p decayed to 0.010000000000000002\n",
      "eg triggered at  2986\n",
      "arm\n",
      "4.0     0.465293\n",
      "12.0    0.920700\n",
      "20.0    0.919222\n",
      "27.0    0.000648\n",
      "28.0    0.915432\n",
      "36.0    1.000000\n",
      "44.0    1.000000\n",
      "Name: pvalue, dtype: float64\n",
      "demand shape does not match\n"
     ]
    },
    {
     "name": "stderr",
     "output_type": "stream",
     "text": [
      "/opt/anaconda3/lib/python3.8/site-packages/scipy/stats/_discrete_distns.py:67: RuntimeWarning: divide by zero encountered in _binom_pdf\n",
      "  return _boost._binom_pdf(x, n, p)\n"
     ]
    },
    {
     "name": "stdout",
     "output_type": "stream",
     "text": [
      "Reward change detected at time: 3359\n",
      "Detected Sign: 1\n",
      "eg triggered at  3376\n",
      "arm\n",
      "4.0     0.016272\n",
      "12.0    0.484399\n",
      "20.0    0.919385\n",
      "27.0    0.980298\n",
      "28.0    0.598375\n",
      "36.0    1.000000\n",
      "44.0    1.000000\n",
      "Name: pvalue, dtype: float64\n",
      "tested non-significant , eg_p decayed to 0.010000000000000002\n"
     ]
    },
    {
     "name": "stderr",
     "output_type": "stream",
     "text": [
      "/opt/anaconda3/lib/python3.8/site-packages/scipy/stats/_discrete_distns.py:67: RuntimeWarning: divide by zero encountered in _binom_pdf\n",
      "  return _boost._binom_pdf(x, n, p)\n"
     ]
    },
    {
     "name": "stdout",
     "output_type": "stream",
     "text": [
      "eg triggered at  3485\n",
      "arm\n",
      "4.0     0.011195\n",
      "12.0    0.422030\n",
      "20.0    0.612731\n",
      "27.0    0.204044\n",
      "28.0    0.752094\n",
      "36.0    0.646102\n",
      "44.0    0.851972\n",
      "Name: pvalue, dtype: float64\n",
      "tested non-significant , eg_p decayed to 0.001\n"
     ]
    },
    {
     "name": "stderr",
     "output_type": "stream",
     "text": [
      "/opt/anaconda3/lib/python3.8/site-packages/scipy/stats/_discrete_distns.py:67: RuntimeWarning: divide by zero encountered in _binom_pdf\n",
      "  return _boost._binom_pdf(x, n, p)\n"
     ]
    },
    {
     "name": "stdout",
     "output_type": "stream",
     "text": [
      "Reward change detected at time: 4002\n",
      "Detected Sign: -1\n",
      "eg triggered at  4034\n",
      "arm\n",
      "4.0     4.173707e-13\n",
      "12.0    3.372936e-07\n",
      "20.0    9.185024e-01\n",
      "25.0    4.996617e-02\n",
      "26.0    5.651894e-01\n",
      "28.0    5.711262e-02\n",
      "36.0    2.723323e-01\n",
      "44.0    2.946383e-02\n",
      "Name: pvalue, dtype: float64\n",
      "demand shape does not match\n"
     ]
    },
    {
     "name": "stderr",
     "output_type": "stream",
     "text": [
      "/opt/anaconda3/lib/python3.8/site-packages/scipy/stats/_discrete_distns.py:67: RuntimeWarning: divide by zero encountered in _binom_pdf\n",
      "  return _boost._binom_pdf(x, n, p)\n"
     ]
    },
    {
     "name": "stdout",
     "output_type": "stream",
     "text": [
      "Reward change detected at time: 5487\n",
      "Detected Sign: 1\n",
      "eg triggered at  5487\n",
      "arm\n",
      "4.0     0.802841\n",
      "12.0    0.908243\n",
      "14.0    0.824957\n",
      "20.0    0.419924\n",
      "28.0    0.905096\n",
      "36.0    0.452832\n",
      "44.0    0.066987\n",
      "Name: pvalue, dtype: float64\n",
      "tested non-significant , eg_p decayed to 0.010000000000000002\n",
      "eg triggered at  5537\n",
      "arm\n",
      "4.0     0.450685\n",
      "12.0    0.908237\n",
      "14.0    0.008939\n",
      "15.0    0.049399\n",
      "20.0    0.419889\n",
      "28.0    0.632503\n",
      "36.0    0.453958\n",
      "44.0    0.008679\n",
      "Name: pvalue, dtype: float64\n",
      "tested non-significant , eg_p decayed to 0.001\n"
     ]
    },
    {
     "name": "stderr",
     "output_type": "stream",
     "text": [
      "/opt/anaconda3/lib/python3.8/site-packages/scipy/stats/_discrete_distns.py:67: RuntimeWarning: divide by zero encountered in _binom_pdf\n",
      "  return _boost._binom_pdf(x, n, p)\n"
     ]
    },
    {
     "name": "stdout",
     "output_type": "stream",
     "text": [
      "trial 2 IDS_2 time: 1138.7807250022888\n"
     ]
    },
    {
     "name": "stderr",
     "output_type": "stream",
     "text": [
      "<ipython-input-8-cf9ecd5c1fc8>:13: FutureWarning: The frame.append method is deprecated and will be removed from pandas in a future version. Use pandas.concat instead.\n",
      "  IDS_2_df = IDS_2_df.append([np.cumsum(IDS_2_re)])\n",
      "<ipython-input-8-cf9ecd5c1fc8>:14: FutureWarning: The frame.append method is deprecated and will be removed from pandas in a future version. Use pandas.concat instead.\n",
      "  IDS_2_df_arm = IDS_2_df_arm.append([IDS_2_arm])\n"
     ]
    },
    {
     "name": "stdout",
     "output_type": "stream",
     "text": [
      "Reward change detected at time: 2001\n",
      "Detected Sign: 1\n",
      "Detector cooling\n",
      "eg triggered at  2022\n",
      "arm\n",
      "4.0     4.100185e-08\n",
      "5.0     6.007346e-01\n",
      "6.0     3.567048e-03\n",
      "12.0    2.792271e-12\n",
      "20.0    2.956623e-16\n",
      "28.0    3.147511e-13\n",
      "36.0    5.519640e-03\n",
      "44.0    4.785169e-02\n",
      "Name: pvalue, dtype: float64\n",
      "demand shape does not match\n",
      "Reward change detected at time: 4001\n",
      "Detected Sign: -1\n",
      "Detector cooling\n",
      "Detector cooling\n",
      "eg triggered at  4082\n",
      "arm\n",
      "4.0     3.705013e-15\n",
      "12.0    1.038451e-11\n",
      "20.0    5.344537e-01\n",
      "24.0    3.786009e-01\n",
      "26.0    3.670596e-01\n",
      "27.0    8.175573e-02\n",
      "28.0    1.324200e-01\n",
      "36.0    6.923766e-01\n",
      "44.0    2.798241e-02\n",
      "Name: pvalue, dtype: float64\n",
      "demand shape does not match\n"
     ]
    },
    {
     "name": "stderr",
     "output_type": "stream",
     "text": [
      "/opt/anaconda3/lib/python3.8/site-packages/scipy/stats/_discrete_distns.py:67: RuntimeWarning: divide by zero encountered in _binom_pdf\n",
      "  return _boost._binom_pdf(x, n, p)\n"
     ]
    },
    {
     "name": "stdout",
     "output_type": "stream",
     "text": [
      "Reward change detected at time: 5083\n",
      "Detected Sign: 1\n",
      "eg triggered at  5207\n",
      "arm\n",
      "4.0     0.743365\n",
      "12.0    0.633834\n",
      "14.0    0.002049\n",
      "15.0    0.007135\n",
      "20.0    0.266521\n",
      "28.0    0.546535\n",
      "36.0    0.548999\n",
      "44.0    0.045203\n",
      "Name: pvalue, dtype: float64\n",
      "demand shape does not match\n"
     ]
    },
    {
     "name": "stderr",
     "output_type": "stream",
     "text": [
      "/opt/anaconda3/lib/python3.8/site-packages/scipy/stats/_discrete_distns.py:67: RuntimeWarning: divide by zero encountered in _binom_pdf\n",
      "  return _boost._binom_pdf(x, n, p)\n"
     ]
    },
    {
     "name": "stdout",
     "output_type": "stream",
     "text": [
      "trial 3 IDS_2 time: 1065.851968050003\n"
     ]
    },
    {
     "name": "stderr",
     "output_type": "stream",
     "text": [
      "<ipython-input-8-cf9ecd5c1fc8>:13: FutureWarning: The frame.append method is deprecated and will be removed from pandas in a future version. Use pandas.concat instead.\n",
      "  IDS_2_df = IDS_2_df.append([np.cumsum(IDS_2_re)])\n",
      "<ipython-input-8-cf9ecd5c1fc8>:14: FutureWarning: The frame.append method is deprecated and will be removed from pandas in a future version. Use pandas.concat instead.\n",
      "  IDS_2_df_arm = IDS_2_df_arm.append([IDS_2_arm])\n"
     ]
    },
    {
     "name": "stdout",
     "output_type": "stream",
     "text": [
      "Reward change detected at time: 2001\n",
      "Detected Sign: 1\n",
      "eg triggered at  2001\n",
      "arm\n",
      "4.0     3.570547e-07\n",
      "6.0     5.311183e-05\n",
      "12.0    7.455094e-07\n",
      "20.0    2.098651e-13\n",
      "28.0    1.479895e-11\n",
      "36.0    1.974491e-02\n",
      "44.0    5.740596e-01\n",
      "Name: pvalue, dtype: float64\n",
      "demand shape does not match\n",
      "Reward change detected at time: 2407\n",
      "Detected Sign: 1\n",
      "eg triggered at  2439\n",
      "arm\n",
      "4.0     0.624646\n",
      "12.0    1.000000\n",
      "20.0    0.759347\n",
      "24.0    0.080757\n",
      "25.0    0.734244\n",
      "28.0    1.000000\n",
      "36.0    0.622407\n",
      "44.0    0.027063\n",
      "Name: pvalue, dtype: float64\n",
      "tested non-significant , eg_p decayed to 0.010000000000000002\n",
      "eg triggered at  2456\n",
      "arm\n",
      "4.0     0.136382\n",
      "12.0    0.920395\n",
      "20.0    0.759698\n",
      "24.0    0.436009\n",
      "25.0    0.835389\n",
      "28.0    0.668265\n",
      "36.0    0.625080\n",
      "44.0    0.000716\n",
      "Name: pvalue, dtype: float64\n",
      "demand shape does not match\n",
      "Reward change detected at time: 3095\n",
      "Detected Sign: -1\n",
      "eg triggered at  3111\n",
      "arm\n",
      "4.0     0.000455\n",
      "12.0    0.615713\n",
      "20.0    0.614825\n",
      "27.0    0.899226\n",
      "28.0    0.833684\n",
      "36.0    0.763282\n",
      "44.0    0.757729\n",
      "Name: pvalue, dtype: float64\n",
      "demand shape does not match\n",
      "Reward change detected at time: 3737\n",
      "Detected Sign: -1\n",
      "Detector cooling\n",
      "Detector cooling\n",
      "eg triggered at  3739\n",
      "arm\n",
      "4.0     0.000001\n",
      "12.0    0.920088\n",
      "20.0    0.761275\n",
      "27.0    0.674588\n",
      "28.0    0.529043\n",
      "36.0    0.471888\n",
      "44.0    0.331636\n",
      "Name: pvalue, dtype: float64\n",
      "demand shape does not match\n",
      "Reward change detected at time: 4001\n",
      "Detected Sign: -1\n",
      "Detector cooling\n",
      "eg triggered at  4097\n",
      "arm\n",
      "4.0     2.508784e-13\n",
      "12.0    2.660457e-10\n",
      "20.0    5.338440e-01\n",
      "23.0    5.727093e-01\n",
      "24.0    6.381752e-01\n",
      "25.0    7.487889e-01\n",
      "26.0    5.879360e-01\n",
      "27.0    3.215240e-01\n",
      "28.0    2.090814e-01\n",
      "36.0    1.626977e-01\n",
      "44.0    3.386137e-02\n",
      "Name: pvalue, dtype: float64\n",
      "demand shape does not match\n"
     ]
    },
    {
     "name": "stderr",
     "output_type": "stream",
     "text": [
      "/opt/anaconda3/lib/python3.8/site-packages/scipy/stats/_discrete_distns.py:67: RuntimeWarning: divide by zero encountered in _binom_pdf\n",
      "  return _boost._binom_pdf(x, n, p)\n"
     ]
    },
    {
     "name": "stdout",
     "output_type": "stream",
     "text": [
      "trial 4 IDS_2 time: 1194.3204808235168\n"
     ]
    },
    {
     "name": "stderr",
     "output_type": "stream",
     "text": [
      "<ipython-input-8-cf9ecd5c1fc8>:13: FutureWarning: The frame.append method is deprecated and will be removed from pandas in a future version. Use pandas.concat instead.\n",
      "  IDS_2_df = IDS_2_df.append([np.cumsum(IDS_2_re)])\n",
      "<ipython-input-8-cf9ecd5c1fc8>:14: FutureWarning: The frame.append method is deprecated and will be removed from pandas in a future version. Use pandas.concat instead.\n",
      "  IDS_2_df_arm = IDS_2_df_arm.append([IDS_2_arm])\n"
     ]
    },
    {
     "name": "stdout",
     "output_type": "stream",
     "text": [
      "Reward change detected at time: 2001\n",
      "Detected Sign: 1\n",
      "Detector cooling\n",
      "eg triggered at  2014\n",
      "arm\n",
      "4.0     6.680351e-06\n",
      "5.0     2.244234e-01\n",
      "6.0     6.375812e-04\n",
      "12.0    3.926032e-10\n",
      "20.0    9.095760e-19\n",
      "28.0    5.174212e-19\n",
      "36.0    4.544376e-04\n",
      "44.0    3.059050e-02\n",
      "Name: pvalue, dtype: float64\n",
      "demand shape does not match\n",
      "Reward change detected at time: 3502\n",
      "Detected Sign: -1\n",
      "eg triggered at  3511\n",
      "arm\n",
      "4.0     0.000485\n",
      "12.0    0.763679\n",
      "20.0    0.761380\n",
      "26.0    0.597216\n",
      "28.0    1.000000\n",
      "36.0    0.457626\n",
      "44.0    0.402192\n",
      "Name: pvalue, dtype: float64\n",
      "demand shape does not match\n",
      "Reward change detected at time: 3739\n",
      "Detected Sign: -1\n",
      "Detector cooling\n",
      "Detector cooling\n",
      "eg triggered at  3760\n",
      "arm\n",
      "4.0     0.539347\n",
      "12.0    1.000000\n",
      "20.0    0.760631\n",
      "26.0    0.340537\n",
      "28.0    0.748442\n",
      "36.0    0.763045\n",
      "44.0    0.549324\n",
      "Name: pvalue, dtype: float64\n",
      "tested non-significant , eg_p decayed to 0.010000000000000002\n",
      "eg triggered at  3827\n",
      "arm\n",
      "4.0     0.220662\n",
      "12.0    0.920340\n",
      "20.0    1.000000\n",
      "26.0    0.558004\n",
      "28.0    1.000000\n",
      "36.0    0.878809\n",
      "44.0    0.212699\n",
      "Name: pvalue, dtype: float64\n",
      "tested non-significant , eg_p decayed to 0.001\n"
     ]
    },
    {
     "name": "stderr",
     "output_type": "stream",
     "text": [
      "/opt/anaconda3/lib/python3.8/site-packages/scipy/stats/_discrete_distns.py:67: RuntimeWarning: divide by zero encountered in _binom_pdf\n",
      "  return _boost._binom_pdf(x, n, p)\n"
     ]
    },
    {
     "name": "stdout",
     "output_type": "stream",
     "text": [
      "Reward change detected at time: 4002\n",
      "Detected Sign: -1\n",
      "Detector cooling\n",
      "Detector cooling\n",
      "eg triggered at  4032\n",
      "arm\n",
      "4.0     4.634079e-11\n",
      "12.0    1.007556e-07\n",
      "20.0    6.084713e-01\n",
      "24.0    8.914745e-03\n",
      "25.0    4.588440e-01\n",
      "26.0    1.000000e+00\n",
      "28.0    1.422128e-01\n",
      "36.0    2.592833e-01\n",
      "44.0    9.043981e-03\n",
      "Name: pvalue, dtype: float64\n",
      "demand shape does not match\n"
     ]
    },
    {
     "name": "stderr",
     "output_type": "stream",
     "text": [
      "/opt/anaconda3/lib/python3.8/site-packages/scipy/stats/_discrete_distns.py:67: RuntimeWarning: divide by zero encountered in _binom_pdf\n",
      "  return _boost._binom_pdf(x, n, p)\n"
     ]
    },
    {
     "name": "stdout",
     "output_type": "stream",
     "text": [
      "Reward change detected at time: 4233\n",
      "Detected Sign: 1\n",
      "eg triggered at  4242\n",
      "arm\n",
      "4.0     1.000000\n",
      "12.0    0.816525\n",
      "14.0    0.073026\n",
      "20.0    0.314580\n",
      "28.0    0.713075\n",
      "36.0    0.266157\n",
      "44.0    0.036029\n",
      "Name: pvalue, dtype: float64\n",
      "tested non-significant , eg_p decayed to 0.010000000000000002\n",
      "eg triggered at  4363\n",
      "arm\n",
      "4.0     0.764676\n",
      "12.0    1.000000\n",
      "14.0    0.000010\n",
      "15.0    0.395000\n",
      "20.0    0.421486\n",
      "28.0    0.713043\n",
      "36.0    0.457507\n",
      "44.0    0.010545\n",
      "Name: pvalue, dtype: float64\n",
      "demand shape does not match\n"
     ]
    },
    {
     "name": "stderr",
     "output_type": "stream",
     "text": [
      "/opt/anaconda3/lib/python3.8/site-packages/scipy/stats/_discrete_distns.py:67: RuntimeWarning: divide by zero encountered in _binom_pdf\n",
      "  return _boost._binom_pdf(x, n, p)\n"
     ]
    },
    {
     "name": "stdout",
     "output_type": "stream",
     "text": [
      "Reward change detected at time: 4604\n",
      "Detected Sign: 1\n",
      "eg triggered at  4631\n",
      "arm\n",
      "4.0     0.764945\n",
      "12.0    1.000000\n",
      "14.0    0.043755\n",
      "20.0    0.227588\n",
      "28.0    0.902464\n",
      "36.0    0.457885\n",
      "44.0    0.098953\n",
      "Name: pvalue, dtype: float64\n",
      "tested non-significant , eg_p decayed to 0.010000000000000002\n"
     ]
    },
    {
     "name": "stderr",
     "output_type": "stream",
     "text": [
      "/opt/anaconda3/lib/python3.8/site-packages/scipy/stats/_discrete_distns.py:67: RuntimeWarning: divide by zero encountered in _binom_pdf\n",
      "  return _boost._binom_pdf(x, n, p)\n"
     ]
    },
    {
     "name": "stdout",
     "output_type": "stream",
     "text": [
      "eg triggered at  4753\n",
      "arm\n",
      "4.0     0.537892\n",
      "12.0    0.907296\n",
      "14.0    0.000003\n",
      "20.0    0.227506\n",
      "28.0    0.623356\n",
      "36.0    0.265541\n",
      "44.0    0.003967\n",
      "Name: pvalue, dtype: float64\n",
      "demand shape does not match\n"
     ]
    },
    {
     "name": "stderr",
     "output_type": "stream",
     "text": [
      "/opt/anaconda3/lib/python3.8/site-packages/scipy/stats/_discrete_distns.py:67: RuntimeWarning: divide by zero encountered in _binom_pdf\n",
      "  return _boost._binom_pdf(x, n, p)\n"
     ]
    },
    {
     "name": "stdout",
     "output_type": "stream",
     "text": [
      "trial 5 IDS_2 time: 1143.5733938217163\n"
     ]
    },
    {
     "name": "stderr",
     "output_type": "stream",
     "text": [
      "<ipython-input-8-cf9ecd5c1fc8>:13: FutureWarning: The frame.append method is deprecated and will be removed from pandas in a future version. Use pandas.concat instead.\n",
      "  IDS_2_df = IDS_2_df.append([np.cumsum(IDS_2_re)])\n",
      "<ipython-input-8-cf9ecd5c1fc8>:14: FutureWarning: The frame.append method is deprecated and will be removed from pandas in a future version. Use pandas.concat instead.\n",
      "  IDS_2_df_arm = IDS_2_df_arm.append([IDS_2_arm])\n"
     ]
    },
    {
     "name": "stdout",
     "output_type": "stream",
     "text": [
      "Reward change detected at time: 2001\n",
      "Detected Sign: 1\n",
      "Detector cooling\n",
      "eg triggered at  2012\n",
      "arm\n",
      "4.0     3.984379e-06\n",
      "5.0     5.037803e-01\n",
      "6.0     2.530773e-03\n",
      "12.0    6.811858e-10\n",
      "20.0    8.880153e-17\n",
      "28.0    8.785860e-14\n",
      "36.0    2.888490e-03\n",
      "44.0    1.166103e-01\n",
      "Name: pvalue, dtype: float64\n",
      "demand shape does not match\n",
      "Reward change detected at time: 4002\n",
      "Detected Sign: -1\n",
      "eg triggered at  4066\n",
      "arm\n",
      "4.0     1.259967e-13\n",
      "12.0    4.493745e-10\n",
      "20.0    5.343837e-01\n",
      "24.0    2.391546e-01\n",
      "25.0    1.000000e+00\n",
      "26.0    6.435735e-01\n",
      "27.0    4.362368e-01\n",
      "28.0    2.092691e-01\n",
      "36.0    4.343453e-01\n",
      "44.0    6.581110e-02\n",
      "Name: pvalue, dtype: float64\n",
      "demand shape does not match\n"
     ]
    },
    {
     "name": "stderr",
     "output_type": "stream",
     "text": [
      "/opt/anaconda3/lib/python3.8/site-packages/scipy/stats/_discrete_distns.py:67: RuntimeWarning: divide by zero encountered in _binom_pdf\n",
      "  return _boost._binom_pdf(x, n, p)\n"
     ]
    },
    {
     "name": "stdout",
     "output_type": "stream",
     "text": [
      "trial 6 IDS_2 time: 1102.4518520832062\n"
     ]
    },
    {
     "name": "stderr",
     "output_type": "stream",
     "text": [
      "<ipython-input-8-cf9ecd5c1fc8>:13: FutureWarning: The frame.append method is deprecated and will be removed from pandas in a future version. Use pandas.concat instead.\n",
      "  IDS_2_df = IDS_2_df.append([np.cumsum(IDS_2_re)])\n",
      "<ipython-input-8-cf9ecd5c1fc8>:14: FutureWarning: The frame.append method is deprecated and will be removed from pandas in a future version. Use pandas.concat instead.\n",
      "  IDS_2_df_arm = IDS_2_df_arm.append([IDS_2_arm])\n"
     ]
    },
    {
     "name": "stdout",
     "output_type": "stream",
     "text": [
      "Reward change detected at time: 2001\n",
      "Detected Sign: 1\n",
      "eg triggered at  2001\n",
      "arm\n",
      "4.0     1.124840e-07\n",
      "6.0     1.905238e-04\n",
      "12.0    2.203480e-07\n",
      "20.0    9.729968e-15\n",
      "28.0    2.496953e-11\n",
      "36.0    4.272691e-02\n",
      "44.0    7.855167e-02\n",
      "Name: pvalue, dtype: float64\n",
      "demand shape does not match\n",
      "Reward change detected at time: 2360\n",
      "Detected Sign: -1\n",
      "eg triggered at  2380\n",
      "arm\n",
      "4.0     0.273978\n",
      "12.0    0.617882\n",
      "20.0    0.838192\n",
      "27.0    0.631295\n",
      "28.0    1.000000\n",
      "36.0    0.742365\n",
      "44.0    0.118326\n",
      "Name: pvalue, dtype: float64\n",
      "tested non-significant , eg_p decayed to 0.010000000000000002\n",
      "eg triggered at  2417\n",
      "arm\n",
      "4.0     0.392582\n",
      "12.0    1.000000\n",
      "20.0    0.918904\n",
      "27.0    0.534860\n",
      "28.0    1.000000\n",
      "36.0    0.513197\n",
      "44.0    0.042307\n",
      "Name: pvalue, dtype: float64\n",
      "tested non-significant , eg_p decayed to 0.001\n",
      "Reward change detected at time: 2957\n",
      "Detected Sign: -1\n",
      "eg triggered at  2967\n",
      "arm\n",
      "4.0     0.175370\n",
      "12.0    0.617068\n",
      "20.0    0.918922\n",
      "27.0    0.527707\n",
      "28.0    0.672090\n",
      "36.0    0.621653\n",
      "44.0    0.325457\n",
      "Name: pvalue, dtype: float64\n",
      "tested non-significant , eg_p decayed to 0.010000000000000002\n",
      "eg triggered at  3116\n",
      "arm\n",
      "4.0     0.218107\n",
      "12.0    1.000000\n",
      "20.0    0.918866\n",
      "27.0    0.063296\n",
      "28.0    0.672021\n",
      "36.0    1.000000\n",
      "44.0    0.172004\n",
      "Name: pvalue, dtype: float64\n",
      "tested non-significant , eg_p decayed to 0.001\n"
     ]
    },
    {
     "name": "stderr",
     "output_type": "stream",
     "text": [
      "/opt/anaconda3/lib/python3.8/site-packages/scipy/stats/_discrete_distns.py:67: RuntimeWarning: divide by zero encountered in _binom_pdf\n",
      "  return _boost._binom_pdf(x, n, p)\n"
     ]
    },
    {
     "name": "stdout",
     "output_type": "stream",
     "text": [
      "Reward change detected at time: 3818\n",
      "Detected Sign: -1\n",
      "Detector cooling\n",
      "eg triggered at  3824\n",
      "arm\n",
      "4.0     0.172982\n",
      "12.0    1.000000\n",
      "20.0    0.760158\n",
      "27.0    0.362665\n",
      "28.0    1.000000\n",
      "36.0    1.000000\n",
      "44.0    0.325543\n",
      "Name: pvalue, dtype: float64\n",
      "tested non-significant , eg_p decayed to 0.010000000000000002\n",
      "Reward change detected at time: 4001\n",
      "Detected Sign: -1\n",
      "Detector cooling\n",
      "eg triggered at  4042\n",
      "arm\n",
      "4.0     4.270556e-11\n",
      "12.0    4.338917e-10\n",
      "20.0    8.364078e-01\n",
      "23.0    9.533411e-01\n",
      "24.0    1.000000e+00\n",
      "25.0    4.560137e-01\n",
      "26.0    2.982775e-01\n",
      "27.0    6.507730e-01\n",
      "28.0    4.858304e-01\n",
      "36.0    3.342573e-01\n",
      "44.0    5.522469e-03\n",
      "Name: pvalue, dtype: float64\n",
      "demand shape does not match\n",
      "Reward change detected at time: 5222\n",
      "Detected Sign: 1\n",
      "eg triggered at  5243\n",
      "arm\n",
      "4.0     0.757546\n",
      "12.0    0.482139\n",
      "14.0    0.140663\n",
      "15.0    0.069483\n",
      "20.0    0.421290\n",
      "28.0    0.809279\n",
      "36.0    0.726407\n",
      "44.0    0.164735\n",
      "Name: pvalue, dtype: float64\n",
      "tested non-significant , eg_p decayed to 0.010000000000000002\n"
     ]
    },
    {
     "name": "stderr",
     "output_type": "stream",
     "text": [
      "/opt/anaconda3/lib/python3.8/site-packages/scipy/stats/_discrete_distns.py:67: RuntimeWarning: divide by zero encountered in _binom_pdf\n",
      "  return _boost._binom_pdf(x, n, p)\n"
     ]
    },
    {
     "name": "stdout",
     "output_type": "stream",
     "text": [
      "eg triggered at  5889\n",
      "arm\n",
      "4.0     1.000000e+00\n",
      "12.0    4.917397e-01\n",
      "14.0    2.401576e-51\n",
      "15.0    1.033927e-27\n",
      "20.0    5.441849e-01\n",
      "28.0    3.981027e-01\n",
      "36.0    4.561211e-01\n",
      "44.0    1.777671e-02\n",
      "Name: pvalue, dtype: float64\n",
      "demand shape does not match\n"
     ]
    },
    {
     "name": "stderr",
     "output_type": "stream",
     "text": [
      "/opt/anaconda3/lib/python3.8/site-packages/scipy/stats/_discrete_distns.py:67: RuntimeWarning: divide by zero encountered in _binom_pdf\n",
      "  return _boost._binom_pdf(x, n, p)\n"
     ]
    },
    {
     "name": "stdout",
     "output_type": "stream",
     "text": [
      "trial 7 IDS_2 time: 1150.6268103122711\n"
     ]
    },
    {
     "name": "stderr",
     "output_type": "stream",
     "text": [
      "<ipython-input-8-cf9ecd5c1fc8>:13: FutureWarning: The frame.append method is deprecated and will be removed from pandas in a future version. Use pandas.concat instead.\n",
      "  IDS_2_df = IDS_2_df.append([np.cumsum(IDS_2_re)])\n",
      "<ipython-input-8-cf9ecd5c1fc8>:14: FutureWarning: The frame.append method is deprecated and will be removed from pandas in a future version. Use pandas.concat instead.\n",
      "  IDS_2_df_arm = IDS_2_df_arm.append([IDS_2_arm])\n"
     ]
    },
    {
     "name": "stdout",
     "output_type": "stream",
     "text": [
      "Reward change detected at time: 2001\n",
      "Detected Sign: 1\n",
      "Detector cooling\n",
      "eg triggered at  2012\n",
      "arm\n",
      "4.0     8.004685e-08\n",
      "5.0     7.081514e-01\n",
      "6.0     9.114611e-03\n",
      "12.0    7.265538e-12\n",
      "20.0    1.485942e-15\n",
      "28.0    1.006834e-14\n",
      "36.0    3.784551e-04\n",
      "44.0    7.138089e-03\n",
      "Name: pvalue, dtype: float64\n",
      "demand shape does not match\n",
      "Reward change detected at time: 2607\n",
      "Detected Sign: 1\n",
      "Detector cooling\n",
      "eg triggered at  2626\n",
      "arm\n",
      "4.0     0.020430\n",
      "12.0    0.920672\n",
      "20.0    0.759774\n",
      "27.0    0.313075\n",
      "28.0    0.672233\n",
      "36.0    0.529412\n",
      "44.0    0.329001\n",
      "Name: pvalue, dtype: float64\n",
      "tested non-significant , eg_p decayed to 0.010000000000000002\n",
      "eg triggered at  2744\n",
      "arm\n",
      "4.0     0.002598\n",
      "12.0    1.000000\n",
      "20.0    1.000000\n",
      "27.0    0.015554\n",
      "28.0    0.397048\n",
      "36.0    1.000000\n",
      "44.0    0.039942\n",
      "Name: pvalue, dtype: float64\n",
      "demand shape does not match\n"
     ]
    },
    {
     "name": "stderr",
     "output_type": "stream",
     "text": [
      "/opt/anaconda3/lib/python3.8/site-packages/scipy/stats/_discrete_distns.py:67: RuntimeWarning: divide by zero encountered in _binom_pdf\n",
      "  return _boost._binom_pdf(x, n, p)\n"
     ]
    },
    {
     "name": "stdout",
     "output_type": "stream",
     "text": [
      "Reward change detected at time: 4003\n",
      "Detected Sign: -1\n",
      "Detector cooling\n",
      "Detector cooling\n",
      "Detector cooling\n",
      "Detector cooling\n",
      "Detector cooling\n",
      "Detector cooling\n",
      "Detector cooling\n",
      "Detector cooling\n",
      "eg triggered at  4025\n",
      "arm\n",
      "4.0     4.558966e-11\n",
      "12.0    3.205365e-08\n",
      "20.0    1.000000e+00\n",
      "25.0    1.696254e-02\n",
      "26.0    3.266686e-01\n",
      "28.0    7.519460e-02\n",
      "36.0    3.431068e-01\n",
      "44.0    1.020154e-02\n",
      "Name: pvalue, dtype: float64\n",
      "demand shape does not match\n"
     ]
    },
    {
     "name": "stderr",
     "output_type": "stream",
     "text": [
      "/opt/anaconda3/lib/python3.8/site-packages/scipy/stats/_discrete_distns.py:67: RuntimeWarning: divide by zero encountered in _binom_pdf\n",
      "  return _boost._binom_pdf(x, n, p)\n"
     ]
    },
    {
     "name": "stdout",
     "output_type": "stream",
     "text": [
      "Reward change detected at time: 4268\n",
      "Detected Sign: 1\n",
      "eg triggered at  4280\n",
      "arm\n",
      "4.0     1.000000\n",
      "12.0    0.646686\n",
      "14.0    0.176062\n",
      "20.0    0.615048\n",
      "28.0    0.721850\n",
      "36.0    0.076724\n",
      "44.0    0.013240\n",
      "Name: pvalue, dtype: float64\n",
      "tested non-significant , eg_p decayed to 0.010000000000000002\n"
     ]
    },
    {
     "name": "stderr",
     "output_type": "stream",
     "text": [
      "/opt/anaconda3/lib/python3.8/site-packages/scipy/stats/_discrete_distns.py:67: RuntimeWarning: divide by zero encountered in _binom_pdf\n",
      "  return _boost._binom_pdf(x, n, p)\n"
     ]
    },
    {
     "name": "stdout",
     "output_type": "stream",
     "text": [
      "eg triggered at  4326\n",
      "arm\n",
      "4.0     1.000000\n",
      "12.0    0.908965\n",
      "14.0    0.009963\n",
      "20.0    0.481402\n",
      "28.0    0.405529\n",
      "36.0    0.076518\n",
      "44.0    0.004995\n",
      "Name: pvalue, dtype: float64\n",
      "demand shape does not match\n"
     ]
    },
    {
     "name": "stderr",
     "output_type": "stream",
     "text": [
      "/opt/anaconda3/lib/python3.8/site-packages/scipy/stats/_discrete_distns.py:67: RuntimeWarning: divide by zero encountered in _binom_pdf\n",
      "  return _boost._binom_pdf(x, n, p)\n"
     ]
    },
    {
     "name": "stdout",
     "output_type": "stream",
     "text": [
      "Reward change detected at time: 4707\n",
      "Detected Sign: 1\n",
      "eg triggered at  4715\n",
      "arm\n",
      "4.0     1.000000\n",
      "12.0    1.000000\n",
      "14.0    0.096338\n",
      "20.0    0.267876\n",
      "28.0    0.721849\n",
      "36.0    0.437246\n",
      "44.0    0.040568\n",
      "Name: pvalue, dtype: float64\n",
      "tested non-significant , eg_p decayed to 0.010000000000000002\n",
      "Reward change detected at time: 4772\n",
      "Detected Sign: 1\n",
      "eg triggered at  4800\n",
      "arm\n",
      "4.0     1.000000\n",
      "12.0    1.000000\n",
      "14.0    0.012709\n",
      "20.0    0.481181\n",
      "28.0    0.905568\n",
      "36.0    0.169178\n",
      "44.0    0.040639\n",
      "Name: pvalue, dtype: float64\n",
      "tested non-significant , eg_p decayed to 0.010000000000000002\n"
     ]
    },
    {
     "name": "stderr",
     "output_type": "stream",
     "text": [
      "/opt/anaconda3/lib/python3.8/site-packages/scipy/stats/_discrete_distns.py:67: RuntimeWarning: divide by zero encountered in _binom_pdf\n",
      "  return _boost._binom_pdf(x, n, p)\n"
     ]
    },
    {
     "name": "stdout",
     "output_type": "stream",
     "text": [
      "eg triggered at  4913\n",
      "arm\n",
      "4.0     0.799938\n",
      "12.0    0.251045\n",
      "14.0    0.000007\n",
      "20.0    0.481402\n",
      "28.0    0.552758\n",
      "36.0    0.076517\n",
      "44.0    0.004995\n",
      "Name: pvalue, dtype: float64\n",
      "demand shape does not match\n"
     ]
    },
    {
     "name": "stderr",
     "output_type": "stream",
     "text": [
      "/opt/anaconda3/lib/python3.8/site-packages/scipy/stats/_discrete_distns.py:67: RuntimeWarning: divide by zero encountered in _binom_pdf\n",
      "  return _boost._binom_pdf(x, n, p)\n"
     ]
    },
    {
     "name": "stdout",
     "output_type": "stream",
     "text": [
      "Reward change detected at time: 5195\n",
      "Detected Sign: -1\n",
      "eg triggered at  5201\n",
      "arm\n",
      "4.0     1.000000\n",
      "12.0    0.564019\n",
      "14.0    0.932674\n",
      "20.0    0.419679\n",
      "28.0    0.632347\n",
      "36.0    0.167430\n",
      "44.0    0.037986\n",
      "Name: pvalue, dtype: float64\n",
      "tested non-significant , eg_p decayed to 0.010000000000000002\n",
      "eg triggered at  5342\n",
      "arm\n",
      "4.0     0.590283\n",
      "12.0    0.564559\n",
      "14.0    0.000006\n",
      "20.0    0.686172\n",
      "28.0    0.473176\n",
      "36.0    0.243390\n",
      "44.0    0.004673\n",
      "Name: pvalue, dtype: float64\n",
      "demand shape does not match\n"
     ]
    },
    {
     "name": "stderr",
     "output_type": "stream",
     "text": [
      "/opt/anaconda3/lib/python3.8/site-packages/scipy/stats/_discrete_distns.py:67: RuntimeWarning: divide by zero encountered in _binom_pdf\n",
      "  return _boost._binom_pdf(x, n, p)\n"
     ]
    },
    {
     "name": "stdout",
     "output_type": "stream",
     "text": [
      "Reward change detected at time: 5649\n",
      "Detected Sign: 1\n",
      "eg triggered at  5658\n",
      "arm\n",
      "4.0     1.000000\n",
      "12.0    0.818774\n",
      "14.0    0.131551\n",
      "20.0    0.615014\n",
      "28.0    0.552753\n",
      "36.0    0.437071\n",
      "44.0    0.013245\n",
      "Name: pvalue, dtype: float64\n",
      "tested non-significant , eg_p decayed to 0.010000000000000002\n",
      "eg triggered at  5671\n",
      "arm\n",
      "4.0     1.000000\n",
      "12.0    0.908926\n",
      "14.0    0.257914\n",
      "20.0    0.615053\n",
      "28.0    0.721850\n",
      "36.0    0.076725\n",
      "44.0    0.001790\n",
      "Name: pvalue, dtype: float64\n",
      "demand shape does not match\n",
      "trial 8 IDS_2 time: 1177.2085092067719\n"
     ]
    },
    {
     "name": "stderr",
     "output_type": "stream",
     "text": [
      "<ipython-input-8-cf9ecd5c1fc8>:13: FutureWarning: The frame.append method is deprecated and will be removed from pandas in a future version. Use pandas.concat instead.\n",
      "  IDS_2_df = IDS_2_df.append([np.cumsum(IDS_2_re)])\n",
      "<ipython-input-8-cf9ecd5c1fc8>:14: FutureWarning: The frame.append method is deprecated and will be removed from pandas in a future version. Use pandas.concat instead.\n",
      "  IDS_2_df_arm = IDS_2_df_arm.append([IDS_2_arm])\n"
     ]
    },
    {
     "name": "stdout",
     "output_type": "stream",
     "text": [
      "Reward change detected at time: 2001\n",
      "Detected Sign: 1\n",
      "Detector cooling\n",
      "eg triggered at  2015\n",
      "arm\n",
      "4.0     1.819409e-05\n",
      "5.0     7.649867e-01\n",
      "6.0     8.976201e-03\n",
      "12.0    6.417479e-12\n",
      "20.0    5.009957e-18\n",
      "28.0    3.113913e-16\n",
      "36.0    2.798991e-03\n",
      "44.0    6.746888e-02\n",
      "Name: pvalue, dtype: float64\n",
      "demand shape does not match\n",
      "Reward change detected at time: 2368\n",
      "Detected Sign: -1\n",
      "eg triggered at  2437\n",
      "arm\n",
      "4.0     0.264226\n",
      "12.0    0.920405\n",
      "20.0    0.919100\n",
      "26.0    0.091964\n",
      "28.0    0.670192\n",
      "36.0    0.738485\n",
      "44.0    0.048960\n",
      "Name: pvalue, dtype: float64\n",
      "tested non-significant , eg_p decayed to 0.010000000000000002\n"
     ]
    },
    {
     "name": "stderr",
     "output_type": "stream",
     "text": [
      "/opt/anaconda3/lib/python3.8/site-packages/scipy/stats/_discrete_distns.py:67: RuntimeWarning: divide by zero encountered in _binom_pdf\n",
      "  return _boost._binom_pdf(x, n, p)\n"
     ]
    },
    {
     "name": "stdout",
     "output_type": "stream",
     "text": [
      "Detector cooling\n",
      "Detector cooling\n",
      "Detector cooling\n",
      "Detector cooling\n",
      "Detector cooling\n",
      "eg triggered at  2745\n",
      "arm\n",
      "4.0     3.249702e-01\n",
      "12.0    6.903994e-01\n",
      "20.0    9.191260e-01\n",
      "26.0    3.179726e-08\n",
      "28.0    3.915216e-01\n",
      "36.0    6.148117e-01\n",
      "44.0    3.627527e-03\n",
      "Name: pvalue, dtype: float64\n",
      "demand shape does not match\n"
     ]
    },
    {
     "name": "stderr",
     "output_type": "stream",
     "text": [
      "/opt/anaconda3/lib/python3.8/site-packages/scipy/stats/_discrete_distns.py:67: RuntimeWarning: divide by zero encountered in _binom_pdf\n",
      "  return _boost._binom_pdf(x, n, p)\n"
     ]
    },
    {
     "name": "stdout",
     "output_type": "stream",
     "text": [
      "Reward change detected at time: 3856\n",
      "Detected Sign: 1\n",
      "eg triggered at  3862\n",
      "arm\n",
      "4.0     0.269547\n",
      "12.0    0.842074\n",
      "20.0    1.000000\n",
      "26.0    0.429298\n",
      "28.0    1.000000\n",
      "36.0    0.399909\n",
      "44.0    0.033819\n",
      "Name: pvalue, dtype: float64\n",
      "tested non-significant , eg_p decayed to 0.010000000000000002\n",
      "eg triggered at  3898\n",
      "arm\n",
      "4.0     0.393178\n",
      "12.0    0.920453\n",
      "20.0    0.477239\n",
      "26.0    0.311274\n",
      "28.0    0.519438\n",
      "36.0    0.396111\n",
      "44.0    0.000993\n",
      "Name: pvalue, dtype: float64\n",
      "demand shape does not match\n",
      "Reward change detected at time: 5769\n",
      "Detected Sign: -1\n",
      "Detector cooling\n",
      "Detector cooling\n",
      "eg triggered at  5780\n",
      "arm\n",
      "4.0     2.523751e-13\n",
      "12.0    1.064187e-10\n",
      "20.0    6.768431e-01\n",
      "24.0    5.194210e-01\n",
      "28.0    2.983084e-01\n",
      "36.0    1.614036e-01\n",
      "44.0    2.971978e-02\n",
      "Name: pvalue, dtype: float64\n",
      "demand shape does not match\n",
      "trial 9 IDS_2 time: 1014.8798098564148\n"
     ]
    },
    {
     "name": "stderr",
     "output_type": "stream",
     "text": [
      "<ipython-input-8-cf9ecd5c1fc8>:13: FutureWarning: The frame.append method is deprecated and will be removed from pandas in a future version. Use pandas.concat instead.\n",
      "  IDS_2_df = IDS_2_df.append([np.cumsum(IDS_2_re)])\n",
      "<ipython-input-8-cf9ecd5c1fc8>:14: FutureWarning: The frame.append method is deprecated and will be removed from pandas in a future version. Use pandas.concat instead.\n",
      "  IDS_2_df_arm = IDS_2_df_arm.append([IDS_2_arm])\n"
     ]
    }
   ],
   "source": [
    "#IDS_2 L=4 n=1\n",
    "IDS_2_df = pd.DataFrame()\n",
    "IDS_2_df_arm = pd.DataFrame()\n",
    "for i in range(trial_rounds):\n",
    "    start = time.time()\n",
    "    IDS_2 = IDS_pull(price_list=price_list, N=update_freq+1, start_L=4, update_L=2,\n",
    "                     simulate_time_initiate=1, simulate_time_update=1, window_width=100, eg_p=0.1)\n",
    "    IDS_2_sum, IDS_2_pt, IDS_2_re, IDS_2_arm, IDS_2_post = IDS_2.IDS(T=T, pricing_MAB=exp_MAB_1, mode='mode1',\n",
    "                                                                     update_style='none', base=1000, p=np.nan,\n",
    "                                                                     p_y=np.nan, R=np.nan)\n",
    "    end = time.time()\n",
    "    print('trial',i, 'IDS_2 time:',end-start)\n",
    "    IDS_2_df = IDS_2_df.append([np.cumsum(IDS_2_re)])\n",
    "    IDS_2_df_arm = IDS_2_df_arm.append([IDS_2_arm])\n",
    "    \n",
    "# #IDS_3 L=2 n=2\n",
    "# IDS_3_df = pd.DataFrame()\n",
    "# IDS_3_df_arm = pd.DataFrame()\n",
    "# for i in range(trial_rounds):\n",
    "#     start = time.time()\n",
    "#     IDS_3 = IDS_pull(price_list=price_list, N=update_freq+1, start_L=2, update_L=2,\n",
    "#                      simulate_time_initiate=2, simulate_time_update=1, window_width=100, eg_p=0.1)\n",
    "#     IDS_3_sum, IDS_3_pt, IDS_3_re, IDS_3_arm, IDS_3_post = IDS_3.IDS(T=T, pricing_MAB=exp_MAB_1, mode='mode1',\n",
    "#                                                                      update_style='none', base=1000, p=np.nan,\n",
    "#                                                                      p_y=np.nan, R=np.nan)\n",
    "#     end = time.time()\n",
    "#     print('trial',i, 'IDS_3 time:',end-start)\n",
    "#     IDS_3_df = IDS_3_df.append([np.cumsum(IDS_3_re)])\n",
    "#     IDS_3_df_arm = IDS_3_df_arm.append([IDS_3_arm])"
   ]
  },
  {
   "cell_type": "code",
   "execution_count": 9,
   "id": "cb6208b1",
   "metadata": {},
   "outputs": [
    {
     "name": "stdout",
     "output_type": "stream",
     "text": [
      "trial 0 IDSW time: 1763.7441141605377\n"
     ]
    },
    {
     "name": "stderr",
     "output_type": "stream",
     "text": [
      "<ipython-input-9-fc7c875b105a>:13: FutureWarning: The frame.append method is deprecated and will be removed from pandas in a future version. Use pandas.concat instead.\n",
      "  IDSW_df = IDSW_df.append([np.cumsum(IDSW_re)])\n",
      "<ipython-input-9-fc7c875b105a>:14: FutureWarning: The frame.append method is deprecated and will be removed from pandas in a future version. Use pandas.concat instead.\n",
      "  IDSW_df_arm = IDSW_df_arm.append([IDSW_arm])\n"
     ]
    },
    {
     "name": "stdout",
     "output_type": "stream",
     "text": [
      "trial 1 IDSW time: 10501.962987184525\n",
      "trial 2 IDSW time: 2128.5384612083435\n"
     ]
    },
    {
     "name": "stderr",
     "output_type": "stream",
     "text": [
      "<ipython-input-9-fc7c875b105a>:14: FutureWarning: The frame.append method is deprecated and will be removed from pandas in a future version. Use pandas.concat instead.\n",
      "  IDSW_df_arm = IDSW_df_arm.append([IDSW_arm])\n"
     ]
    },
    {
     "name": "stdout",
     "output_type": "stream",
     "text": [
      "trial 3 IDSW time: 1777.123305797577\n"
     ]
    },
    {
     "name": "stderr",
     "output_type": "stream",
     "text": [
      "<ipython-input-9-fc7c875b105a>:13: FutureWarning: The frame.append method is deprecated and will be removed from pandas in a future version. Use pandas.concat instead.\n",
      "  IDSW_df = IDSW_df.append([np.cumsum(IDSW_re)])\n",
      "<ipython-input-9-fc7c875b105a>:14: FutureWarning: The frame.append method is deprecated and will be removed from pandas in a future version. Use pandas.concat instead.\n",
      "  IDSW_df_arm = IDSW_df_arm.append([IDSW_arm])\n"
     ]
    },
    {
     "name": "stdout",
     "output_type": "stream",
     "text": [
      "trial 4 IDSW time: 1784.1291899681091\n"
     ]
    },
    {
     "name": "stderr",
     "output_type": "stream",
     "text": [
      "<ipython-input-9-fc7c875b105a>:13: FutureWarning: The frame.append method is deprecated and will be removed from pandas in a future version. Use pandas.concat instead.\n",
      "  IDSW_df = IDSW_df.append([np.cumsum(IDSW_re)])\n",
      "<ipython-input-9-fc7c875b105a>:14: FutureWarning: The frame.append method is deprecated and will be removed from pandas in a future version. Use pandas.concat instead.\n",
      "  IDSW_df_arm = IDSW_df_arm.append([IDSW_arm])\n"
     ]
    },
    {
     "name": "stdout",
     "output_type": "stream",
     "text": [
      "trial 5 IDSW time: 1783.0719521045685\n"
     ]
    },
    {
     "name": "stderr",
     "output_type": "stream",
     "text": [
      "<ipython-input-9-fc7c875b105a>:13: FutureWarning: The frame.append method is deprecated and will be removed from pandas in a future version. Use pandas.concat instead.\n",
      "  IDSW_df = IDSW_df.append([np.cumsum(IDSW_re)])\n",
      "<ipython-input-9-fc7c875b105a>:14: FutureWarning: The frame.append method is deprecated and will be removed from pandas in a future version. Use pandas.concat instead.\n",
      "  IDSW_df_arm = IDSW_df_arm.append([IDSW_arm])\n"
     ]
    },
    {
     "name": "stdout",
     "output_type": "stream",
     "text": [
      "trial 6 IDSW time: 1787.4127218723297\n"
     ]
    },
    {
     "name": "stderr",
     "output_type": "stream",
     "text": [
      "<ipython-input-9-fc7c875b105a>:13: FutureWarning: The frame.append method is deprecated and will be removed from pandas in a future version. Use pandas.concat instead.\n",
      "  IDSW_df = IDSW_df.append([np.cumsum(IDSW_re)])\n",
      "<ipython-input-9-fc7c875b105a>:14: FutureWarning: The frame.append method is deprecated and will be removed from pandas in a future version. Use pandas.concat instead.\n",
      "  IDSW_df_arm = IDSW_df_arm.append([IDSW_arm])\n"
     ]
    },
    {
     "name": "stdout",
     "output_type": "stream",
     "text": [
      "trial 7 IDSW time: 1784.046266078949\n"
     ]
    },
    {
     "name": "stderr",
     "output_type": "stream",
     "text": [
      "<ipython-input-9-fc7c875b105a>:13: FutureWarning: The frame.append method is deprecated and will be removed from pandas in a future version. Use pandas.concat instead.\n",
      "  IDSW_df = IDSW_df.append([np.cumsum(IDSW_re)])\n",
      "<ipython-input-9-fc7c875b105a>:14: FutureWarning: The frame.append method is deprecated and will be removed from pandas in a future version. Use pandas.concat instead.\n",
      "  IDSW_df_arm = IDSW_df_arm.append([IDSW_arm])\n"
     ]
    },
    {
     "name": "stdout",
     "output_type": "stream",
     "text": [
      "trial 8 IDSW time: 7620.406838178635\n"
     ]
    },
    {
     "name": "stderr",
     "output_type": "stream",
     "text": [
      "<ipython-input-9-fc7c875b105a>:13: FutureWarning: The frame.append method is deprecated and will be removed from pandas in a future version. Use pandas.concat instead.\n",
      "  IDSW_df = IDSW_df.append([np.cumsum(IDSW_re)])\n",
      "<ipython-input-9-fc7c875b105a>:14: FutureWarning: The frame.append method is deprecated and will be removed from pandas in a future version. Use pandas.concat instead.\n",
      "  IDSW_df_arm = IDSW_df_arm.append([IDSW_arm])\n"
     ]
    },
    {
     "name": "stdout",
     "output_type": "stream",
     "text": [
      "trial 9 IDSW time: 1764.0095429420471\n"
     ]
    },
    {
     "name": "stderr",
     "output_type": "stream",
     "text": [
      "<ipython-input-9-fc7c875b105a>:13: FutureWarning: The frame.append method is deprecated and will be removed from pandas in a future version. Use pandas.concat instead.\n",
      "  IDSW_df = IDSW_df.append([np.cumsum(IDSW_re)])\n",
      "<ipython-input-9-fc7c875b105a>:14: FutureWarning: The frame.append method is deprecated and will be removed from pandas in a future version. Use pandas.concat instead.\n",
      "  IDSW_df_arm = IDSW_df_arm.append([IDSW_arm])\n"
     ]
    }
   ],
   "source": [
    "#IDS with window likelihood\n",
    "IDSW_df = pd.DataFrame()\n",
    "IDSW_df_arm = pd.DataFrame()\n",
    "for i in range(trial_rounds):\n",
    "    start = time.time()\n",
    "    IDSW = IDS_pull(price_list=price_list, N=update_freq+1, start_L=4, update_L=0, update_during_exploit=True,\n",
    "                     simulate_time_initiate=1, simulate_time_update=1, window_width=100, eg_p=0)\n",
    "    IDSW_sum, IDSW_pt, IDSW_re, IDSW_arm, IDSW_post = IDSW.IDS(T=T, pricing_MAB=exp_MAB_1, mode='mode1',\n",
    "                                                                     update_style='none', base=1000, p=np.nan,\n",
    "                                                                     p_y=np.nan, R=np.nan)\n",
    "    end = time.time()\n",
    "    print('trial',i, 'IDSW time:',end-start)\n",
    "    IDSW_df = IDSW_df.append([np.cumsum(IDSW_re)])\n",
    "    IDSW_df_arm = IDSW_df_arm.append([IDSW_arm])"
   ]
  },
  {
   "cell_type": "code",
   "execution_count": 10,
   "id": "fc9764f6",
   "metadata": {
    "scrolled": true
   },
   "outputs": [
    {
     "name": "stdout",
     "output_type": "stream",
     "text": [
      "trial 0 UCB_1 time: 1.2958250045776367\n"
     ]
    },
    {
     "name": "stderr",
     "output_type": "stream",
     "text": [
      "<ipython-input-10-8e78e3575a62>:11: FutureWarning: The frame.append method is deprecated and will be removed from pandas in a future version. Use pandas.concat instead.\n",
      "  UCB_1_df = UCB_1_df.append([np.cumsum(UCB1_re)])\n",
      "<ipython-input-10-8e78e3575a62>:12: FutureWarning: The frame.append method is deprecated and will be removed from pandas in a future version. Use pandas.concat instead.\n",
      "  UCB_1_df_arm = UCB_1_df_arm.append([UCB1_arm])\n"
     ]
    },
    {
     "name": "stdout",
     "output_type": "stream",
     "text": [
      "trial 1 UCB_1 time: 1.3317770957946777\n",
      "trial 2 UCB_1 time: 1.3003599643707275\n"
     ]
    },
    {
     "name": "stderr",
     "output_type": "stream",
     "text": [
      "<ipython-input-10-8e78e3575a62>:12: FutureWarning: The frame.append method is deprecated and will be removed from pandas in a future version. Use pandas.concat instead.\n",
      "  UCB_1_df_arm = UCB_1_df_arm.append([UCB1_arm])\n"
     ]
    },
    {
     "name": "stdout",
     "output_type": "stream",
     "text": [
      "trial 3 UCB_1 time: 1.3369901180267334\n"
     ]
    },
    {
     "name": "stderr",
     "output_type": "stream",
     "text": [
      "<ipython-input-10-8e78e3575a62>:11: FutureWarning: The frame.append method is deprecated and will be removed from pandas in a future version. Use pandas.concat instead.\n",
      "  UCB_1_df = UCB_1_df.append([np.cumsum(UCB1_re)])\n",
      "<ipython-input-10-8e78e3575a62>:12: FutureWarning: The frame.append method is deprecated and will be removed from pandas in a future version. Use pandas.concat instead.\n",
      "  UCB_1_df_arm = UCB_1_df_arm.append([UCB1_arm])\n"
     ]
    },
    {
     "name": "stdout",
     "output_type": "stream",
     "text": [
      "trial 4 UCB_1 time: 1.2929420471191406\n"
     ]
    },
    {
     "name": "stderr",
     "output_type": "stream",
     "text": [
      "<ipython-input-10-8e78e3575a62>:11: FutureWarning: The frame.append method is deprecated and will be removed from pandas in a future version. Use pandas.concat instead.\n",
      "  UCB_1_df = UCB_1_df.append([np.cumsum(UCB1_re)])\n",
      "<ipython-input-10-8e78e3575a62>:12: FutureWarning: The frame.append method is deprecated and will be removed from pandas in a future version. Use pandas.concat instead.\n",
      "  UCB_1_df_arm = UCB_1_df_arm.append([UCB1_arm])\n"
     ]
    },
    {
     "name": "stdout",
     "output_type": "stream",
     "text": [
      "trial 5 UCB_1 time: 1.3337342739105225\n"
     ]
    },
    {
     "name": "stderr",
     "output_type": "stream",
     "text": [
      "<ipython-input-10-8e78e3575a62>:11: FutureWarning: The frame.append method is deprecated and will be removed from pandas in a future version. Use pandas.concat instead.\n",
      "  UCB_1_df = UCB_1_df.append([np.cumsum(UCB1_re)])\n",
      "<ipython-input-10-8e78e3575a62>:12: FutureWarning: The frame.append method is deprecated and will be removed from pandas in a future version. Use pandas.concat instead.\n",
      "  UCB_1_df_arm = UCB_1_df_arm.append([UCB1_arm])\n"
     ]
    },
    {
     "name": "stdout",
     "output_type": "stream",
     "text": [
      "trial 6 UCB_1 time: 1.296900987625122\n"
     ]
    },
    {
     "name": "stderr",
     "output_type": "stream",
     "text": [
      "<ipython-input-10-8e78e3575a62>:11: FutureWarning: The frame.append method is deprecated and will be removed from pandas in a future version. Use pandas.concat instead.\n",
      "  UCB_1_df = UCB_1_df.append([np.cumsum(UCB1_re)])\n",
      "<ipython-input-10-8e78e3575a62>:12: FutureWarning: The frame.append method is deprecated and will be removed from pandas in a future version. Use pandas.concat instead.\n",
      "  UCB_1_df_arm = UCB_1_df_arm.append([UCB1_arm])\n"
     ]
    },
    {
     "name": "stdout",
     "output_type": "stream",
     "text": [
      "trial 7 UCB_1 time: 1.3380510807037354\n"
     ]
    },
    {
     "name": "stderr",
     "output_type": "stream",
     "text": [
      "<ipython-input-10-8e78e3575a62>:11: FutureWarning: The frame.append method is deprecated and will be removed from pandas in a future version. Use pandas.concat instead.\n",
      "  UCB_1_df = UCB_1_df.append([np.cumsum(UCB1_re)])\n",
      "<ipython-input-10-8e78e3575a62>:12: FutureWarning: The frame.append method is deprecated and will be removed from pandas in a future version. Use pandas.concat instead.\n",
      "  UCB_1_df_arm = UCB_1_df_arm.append([UCB1_arm])\n"
     ]
    },
    {
     "name": "stdout",
     "output_type": "stream",
     "text": [
      "trial 8 UCB_1 time: 1.3202300071716309\n"
     ]
    },
    {
     "name": "stderr",
     "output_type": "stream",
     "text": [
      "<ipython-input-10-8e78e3575a62>:11: FutureWarning: The frame.append method is deprecated and will be removed from pandas in a future version. Use pandas.concat instead.\n",
      "  UCB_1_df = UCB_1_df.append([np.cumsum(UCB1_re)])\n",
      "<ipython-input-10-8e78e3575a62>:12: FutureWarning: The frame.append method is deprecated and will be removed from pandas in a future version. Use pandas.concat instead.\n",
      "  UCB_1_df_arm = UCB_1_df_arm.append([UCB1_arm])\n"
     ]
    },
    {
     "name": "stdout",
     "output_type": "stream",
     "text": [
      "trial 9 UCB_1 time: 1.2956867218017578\n"
     ]
    },
    {
     "name": "stderr",
     "output_type": "stream",
     "text": [
      "<ipython-input-10-8e78e3575a62>:11: FutureWarning: The frame.append method is deprecated and will be removed from pandas in a future version. Use pandas.concat instead.\n",
      "  UCB_1_df = UCB_1_df.append([np.cumsum(UCB1_re)])\n",
      "<ipython-input-10-8e78e3575a62>:12: FutureWarning: The frame.append method is deprecated and will be removed from pandas in a future version. Use pandas.concat instead.\n",
      "  UCB_1_df_arm = UCB_1_df_arm.append([UCB1_arm])\n"
     ]
    },
    {
     "name": "stdout",
     "output_type": "stream",
     "text": [
      "trial 0 UCB_2 time: 1.3325557708740234\n"
     ]
    },
    {
     "name": "stderr",
     "output_type": "stream",
     "text": [
      "<ipython-input-10-8e78e3575a62>:23: FutureWarning: The frame.append method is deprecated and will be removed from pandas in a future version. Use pandas.concat instead.\n",
      "  UCB_2_df = UCB_2_df.append([np.cumsum(UCB1_re)])\n",
      "<ipython-input-10-8e78e3575a62>:24: FutureWarning: The frame.append method is deprecated and will be removed from pandas in a future version. Use pandas.concat instead.\n",
      "  UCB_2_df_arm = UCB_2_df_arm.append([UCB1_arm])\n"
     ]
    },
    {
     "name": "stdout",
     "output_type": "stream",
     "text": [
      "trial 1 UCB_2 time: 1.3371808528900146\n",
      "trial 2 UCB_2 time: 1.3046541213989258\n"
     ]
    },
    {
     "name": "stderr",
     "output_type": "stream",
     "text": [
      "<ipython-input-10-8e78e3575a62>:24: FutureWarning: The frame.append method is deprecated and will be removed from pandas in a future version. Use pandas.concat instead.\n",
      "  UCB_2_df_arm = UCB_2_df_arm.append([UCB1_arm])\n"
     ]
    },
    {
     "name": "stdout",
     "output_type": "stream",
     "text": [
      "trial 3 UCB_2 time: 1.3257801532745361\n"
     ]
    },
    {
     "name": "stderr",
     "output_type": "stream",
     "text": [
      "<ipython-input-10-8e78e3575a62>:23: FutureWarning: The frame.append method is deprecated and will be removed from pandas in a future version. Use pandas.concat instead.\n",
      "  UCB_2_df = UCB_2_df.append([np.cumsum(UCB1_re)])\n",
      "<ipython-input-10-8e78e3575a62>:24: FutureWarning: The frame.append method is deprecated and will be removed from pandas in a future version. Use pandas.concat instead.\n",
      "  UCB_2_df_arm = UCB_2_df_arm.append([UCB1_arm])\n"
     ]
    },
    {
     "name": "stdout",
     "output_type": "stream",
     "text": [
      "trial 4 UCB_2 time: 1.3283820152282715\n"
     ]
    },
    {
     "name": "stderr",
     "output_type": "stream",
     "text": [
      "<ipython-input-10-8e78e3575a62>:23: FutureWarning: The frame.append method is deprecated and will be removed from pandas in a future version. Use pandas.concat instead.\n",
      "  UCB_2_df = UCB_2_df.append([np.cumsum(UCB1_re)])\n",
      "<ipython-input-10-8e78e3575a62>:24: FutureWarning: The frame.append method is deprecated and will be removed from pandas in a future version. Use pandas.concat instead.\n",
      "  UCB_2_df_arm = UCB_2_df_arm.append([UCB1_arm])\n"
     ]
    },
    {
     "name": "stdout",
     "output_type": "stream",
     "text": [
      "trial 5 UCB_2 time: 1.337810754776001\n"
     ]
    },
    {
     "name": "stderr",
     "output_type": "stream",
     "text": [
      "<ipython-input-10-8e78e3575a62>:23: FutureWarning: The frame.append method is deprecated and will be removed from pandas in a future version. Use pandas.concat instead.\n",
      "  UCB_2_df = UCB_2_df.append([np.cumsum(UCB1_re)])\n",
      "<ipython-input-10-8e78e3575a62>:24: FutureWarning: The frame.append method is deprecated and will be removed from pandas in a future version. Use pandas.concat instead.\n",
      "  UCB_2_df_arm = UCB_2_df_arm.append([UCB1_arm])\n"
     ]
    },
    {
     "name": "stdout",
     "output_type": "stream",
     "text": [
      "trial 6 UCB_2 time: 1.2944459915161133\n"
     ]
    },
    {
     "name": "stderr",
     "output_type": "stream",
     "text": [
      "<ipython-input-10-8e78e3575a62>:23: FutureWarning: The frame.append method is deprecated and will be removed from pandas in a future version. Use pandas.concat instead.\n",
      "  UCB_2_df = UCB_2_df.append([np.cumsum(UCB1_re)])\n",
      "<ipython-input-10-8e78e3575a62>:24: FutureWarning: The frame.append method is deprecated and will be removed from pandas in a future version. Use pandas.concat instead.\n",
      "  UCB_2_df_arm = UCB_2_df_arm.append([UCB1_arm])\n"
     ]
    },
    {
     "name": "stdout",
     "output_type": "stream",
     "text": [
      "trial 7 UCB_2 time: 1.3362700939178467\n"
     ]
    },
    {
     "name": "stderr",
     "output_type": "stream",
     "text": [
      "<ipython-input-10-8e78e3575a62>:23: FutureWarning: The frame.append method is deprecated and will be removed from pandas in a future version. Use pandas.concat instead.\n",
      "  UCB_2_df = UCB_2_df.append([np.cumsum(UCB1_re)])\n",
      "<ipython-input-10-8e78e3575a62>:24: FutureWarning: The frame.append method is deprecated and will be removed from pandas in a future version. Use pandas.concat instead.\n",
      "  UCB_2_df_arm = UCB_2_df_arm.append([UCB1_arm])\n"
     ]
    },
    {
     "name": "stdout",
     "output_type": "stream",
     "text": [
      "trial 8 UCB_2 time: 1.3377978801727295\n"
     ]
    },
    {
     "name": "stderr",
     "output_type": "stream",
     "text": [
      "<ipython-input-10-8e78e3575a62>:23: FutureWarning: The frame.append method is deprecated and will be removed from pandas in a future version. Use pandas.concat instead.\n",
      "  UCB_2_df = UCB_2_df.append([np.cumsum(UCB1_re)])\n",
      "<ipython-input-10-8e78e3575a62>:24: FutureWarning: The frame.append method is deprecated and will be removed from pandas in a future version. Use pandas.concat instead.\n",
      "  UCB_2_df_arm = UCB_2_df_arm.append([UCB1_arm])\n"
     ]
    },
    {
     "name": "stdout",
     "output_type": "stream",
     "text": [
      "trial 9 UCB_2 time: 1.3387370109558105\n"
     ]
    },
    {
     "name": "stderr",
     "output_type": "stream",
     "text": [
      "<ipython-input-10-8e78e3575a62>:23: FutureWarning: The frame.append method is deprecated and will be removed from pandas in a future version. Use pandas.concat instead.\n",
      "  UCB_2_df = UCB_2_df.append([np.cumsum(UCB1_re)])\n",
      "<ipython-input-10-8e78e3575a62>:24: FutureWarning: The frame.append method is deprecated and will be removed from pandas in a future version. Use pandas.concat instead.\n",
      "  UCB_2_df_arm = UCB_2_df_arm.append([UCB1_arm])\n"
     ]
    },
    {
     "name": "stdout",
     "output_type": "stream",
     "text": [
      "trial 0 UCB-tuned time: 2.705233097076416\n"
     ]
    },
    {
     "name": "stderr",
     "output_type": "stream",
     "text": [
      "<ipython-input-10-8e78e3575a62>:36: FutureWarning: The frame.append method is deprecated and will be removed from pandas in a future version. Use pandas.concat instead.\n",
      "  UCBT_df = UCBT_df.append([np.cumsum(UCB1_re)])\n",
      "<ipython-input-10-8e78e3575a62>:37: FutureWarning: The frame.append method is deprecated and will be removed from pandas in a future version. Use pandas.concat instead.\n",
      "  UCBT_df_arm = UCBT_df_arm.append([UCB1_arm])\n"
     ]
    },
    {
     "name": "stdout",
     "output_type": "stream",
     "text": [
      "trial 1 UCB-tuned time: 2.6815600395202637\n",
      "trial 2 UCB-tuned time: 2.6675007343292236\n"
     ]
    },
    {
     "name": "stderr",
     "output_type": "stream",
     "text": [
      "<ipython-input-10-8e78e3575a62>:37: FutureWarning: The frame.append method is deprecated and will be removed from pandas in a future version. Use pandas.concat instead.\n",
      "  UCBT_df_arm = UCBT_df_arm.append([UCB1_arm])\n"
     ]
    },
    {
     "name": "stdout",
     "output_type": "stream",
     "text": [
      "trial 3 UCB-tuned time: 2.6870460510253906\n"
     ]
    },
    {
     "name": "stderr",
     "output_type": "stream",
     "text": [
      "<ipython-input-10-8e78e3575a62>:36: FutureWarning: The frame.append method is deprecated and will be removed from pandas in a future version. Use pandas.concat instead.\n",
      "  UCBT_df = UCBT_df.append([np.cumsum(UCB1_re)])\n",
      "<ipython-input-10-8e78e3575a62>:37: FutureWarning: The frame.append method is deprecated and will be removed from pandas in a future version. Use pandas.concat instead.\n",
      "  UCBT_df_arm = UCBT_df_arm.append([UCB1_arm])\n"
     ]
    },
    {
     "name": "stdout",
     "output_type": "stream",
     "text": [
      "trial 4 UCB-tuned time: 2.6820359230041504\n"
     ]
    },
    {
     "name": "stderr",
     "output_type": "stream",
     "text": [
      "<ipython-input-10-8e78e3575a62>:36: FutureWarning: The frame.append method is deprecated and will be removed from pandas in a future version. Use pandas.concat instead.\n",
      "  UCBT_df = UCBT_df.append([np.cumsum(UCB1_re)])\n",
      "<ipython-input-10-8e78e3575a62>:37: FutureWarning: The frame.append method is deprecated and will be removed from pandas in a future version. Use pandas.concat instead.\n",
      "  UCBT_df_arm = UCBT_df_arm.append([UCB1_arm])\n"
     ]
    },
    {
     "name": "stdout",
     "output_type": "stream",
     "text": [
      "trial 5 UCB-tuned time: 2.6789300441741943\n"
     ]
    },
    {
     "name": "stderr",
     "output_type": "stream",
     "text": [
      "<ipython-input-10-8e78e3575a62>:36: FutureWarning: The frame.append method is deprecated and will be removed from pandas in a future version. Use pandas.concat instead.\n",
      "  UCBT_df = UCBT_df.append([np.cumsum(UCB1_re)])\n",
      "<ipython-input-10-8e78e3575a62>:37: FutureWarning: The frame.append method is deprecated and will be removed from pandas in a future version. Use pandas.concat instead.\n",
      "  UCBT_df_arm = UCBT_df_arm.append([UCB1_arm])\n"
     ]
    },
    {
     "name": "stdout",
     "output_type": "stream",
     "text": [
      "trial 6 UCB-tuned time: 2.6717529296875\n"
     ]
    },
    {
     "name": "stderr",
     "output_type": "stream",
     "text": [
      "<ipython-input-10-8e78e3575a62>:36: FutureWarning: The frame.append method is deprecated and will be removed from pandas in a future version. Use pandas.concat instead.\n",
      "  UCBT_df = UCBT_df.append([np.cumsum(UCB1_re)])\n",
      "<ipython-input-10-8e78e3575a62>:37: FutureWarning: The frame.append method is deprecated and will be removed from pandas in a future version. Use pandas.concat instead.\n",
      "  UCBT_df_arm = UCBT_df_arm.append([UCB1_arm])\n"
     ]
    },
    {
     "name": "stdout",
     "output_type": "stream",
     "text": [
      "trial 7 UCB-tuned time: 2.71052622795105\n"
     ]
    },
    {
     "name": "stderr",
     "output_type": "stream",
     "text": [
      "<ipython-input-10-8e78e3575a62>:36: FutureWarning: The frame.append method is deprecated and will be removed from pandas in a future version. Use pandas.concat instead.\n",
      "  UCBT_df = UCBT_df.append([np.cumsum(UCB1_re)])\n",
      "<ipython-input-10-8e78e3575a62>:37: FutureWarning: The frame.append method is deprecated and will be removed from pandas in a future version. Use pandas.concat instead.\n",
      "  UCBT_df_arm = UCBT_df_arm.append([UCB1_arm])\n"
     ]
    },
    {
     "name": "stdout",
     "output_type": "stream",
     "text": [
      "trial 8 UCB-tuned time: 2.6697819232940674\n"
     ]
    },
    {
     "name": "stderr",
     "output_type": "stream",
     "text": [
      "<ipython-input-10-8e78e3575a62>:36: FutureWarning: The frame.append method is deprecated and will be removed from pandas in a future version. Use pandas.concat instead.\n",
      "  UCBT_df = UCBT_df.append([np.cumsum(UCB1_re)])\n",
      "<ipython-input-10-8e78e3575a62>:37: FutureWarning: The frame.append method is deprecated and will be removed from pandas in a future version. Use pandas.concat instead.\n",
      "  UCBT_df_arm = UCBT_df_arm.append([UCB1_arm])\n"
     ]
    },
    {
     "name": "stdout",
     "output_type": "stream",
     "text": [
      "trial 9 UCB-tuned time: 2.710275888442993\n"
     ]
    },
    {
     "name": "stderr",
     "output_type": "stream",
     "text": [
      "<ipython-input-10-8e78e3575a62>:36: FutureWarning: The frame.append method is deprecated and will be removed from pandas in a future version. Use pandas.concat instead.\n",
      "  UCBT_df = UCBT_df.append([np.cumsum(UCB1_re)])\n",
      "<ipython-input-10-8e78e3575a62>:37: FutureWarning: The frame.append method is deprecated and will be removed from pandas in a future version. Use pandas.concat instead.\n",
      "  UCBT_df_arm = UCBT_df_arm.append([UCB1_arm])\n"
     ]
    },
    {
     "name": "stdout",
     "output_type": "stream",
     "text": [
      "trial 0 TS time: 6.3304619789123535\n"
     ]
    },
    {
     "name": "stderr",
     "output_type": "stream",
     "text": [
      "<ipython-input-10-8e78e3575a62>:49: FutureWarning: The frame.append method is deprecated and will be removed from pandas in a future version. Use pandas.concat instead.\n",
      "  TS_df = TS_df.append([np.cumsum(TS_re)])\n",
      "<ipython-input-10-8e78e3575a62>:50: FutureWarning: The frame.append method is deprecated and will be removed from pandas in a future version. Use pandas.concat instead.\n",
      "  TS_df_arm = TS_df_arm.append([TS_arm])\n"
     ]
    },
    {
     "name": "stdout",
     "output_type": "stream",
     "text": [
      "trial 1 TS time: 6.314448833465576\n",
      "trial 2 TS time: 6.3150599002838135\n"
     ]
    },
    {
     "name": "stderr",
     "output_type": "stream",
     "text": [
      "<ipython-input-10-8e78e3575a62>:50: FutureWarning: The frame.append method is deprecated and will be removed from pandas in a future version. Use pandas.concat instead.\n",
      "  TS_df_arm = TS_df_arm.append([TS_arm])\n"
     ]
    },
    {
     "name": "stdout",
     "output_type": "stream",
     "text": [
      "trial 3 TS time: 6.34004020690918\n"
     ]
    },
    {
     "name": "stderr",
     "output_type": "stream",
     "text": [
      "<ipython-input-10-8e78e3575a62>:49: FutureWarning: The frame.append method is deprecated and will be removed from pandas in a future version. Use pandas.concat instead.\n",
      "  TS_df = TS_df.append([np.cumsum(TS_re)])\n",
      "<ipython-input-10-8e78e3575a62>:50: FutureWarning: The frame.append method is deprecated and will be removed from pandas in a future version. Use pandas.concat instead.\n",
      "  TS_df_arm = TS_df_arm.append([TS_arm])\n"
     ]
    },
    {
     "name": "stdout",
     "output_type": "stream",
     "text": [
      "trial 4 TS time: 6.308647871017456\n"
     ]
    },
    {
     "name": "stderr",
     "output_type": "stream",
     "text": [
      "<ipython-input-10-8e78e3575a62>:49: FutureWarning: The frame.append method is deprecated and will be removed from pandas in a future version. Use pandas.concat instead.\n",
      "  TS_df = TS_df.append([np.cumsum(TS_re)])\n",
      "<ipython-input-10-8e78e3575a62>:50: FutureWarning: The frame.append method is deprecated and will be removed from pandas in a future version. Use pandas.concat instead.\n",
      "  TS_df_arm = TS_df_arm.append([TS_arm])\n"
     ]
    },
    {
     "name": "stdout",
     "output_type": "stream",
     "text": [
      "trial 5 TS time: 6.3346641063690186\n"
     ]
    },
    {
     "name": "stderr",
     "output_type": "stream",
     "text": [
      "<ipython-input-10-8e78e3575a62>:49: FutureWarning: The frame.append method is deprecated and will be removed from pandas in a future version. Use pandas.concat instead.\n",
      "  TS_df = TS_df.append([np.cumsum(TS_re)])\n",
      "<ipython-input-10-8e78e3575a62>:50: FutureWarning: The frame.append method is deprecated and will be removed from pandas in a future version. Use pandas.concat instead.\n",
      "  TS_df_arm = TS_df_arm.append([TS_arm])\n"
     ]
    },
    {
     "name": "stdout",
     "output_type": "stream",
     "text": [
      "trial 6 TS time: 6.341614007949829\n"
     ]
    },
    {
     "name": "stderr",
     "output_type": "stream",
     "text": [
      "<ipython-input-10-8e78e3575a62>:49: FutureWarning: The frame.append method is deprecated and will be removed from pandas in a future version. Use pandas.concat instead.\n",
      "  TS_df = TS_df.append([np.cumsum(TS_re)])\n",
      "<ipython-input-10-8e78e3575a62>:50: FutureWarning: The frame.append method is deprecated and will be removed from pandas in a future version. Use pandas.concat instead.\n",
      "  TS_df_arm = TS_df_arm.append([TS_arm])\n"
     ]
    },
    {
     "name": "stdout",
     "output_type": "stream",
     "text": [
      "trial 7 TS time: 6.309184789657593\n"
     ]
    },
    {
     "name": "stderr",
     "output_type": "stream",
     "text": [
      "<ipython-input-10-8e78e3575a62>:49: FutureWarning: The frame.append method is deprecated and will be removed from pandas in a future version. Use pandas.concat instead.\n",
      "  TS_df = TS_df.append([np.cumsum(TS_re)])\n",
      "<ipython-input-10-8e78e3575a62>:50: FutureWarning: The frame.append method is deprecated and will be removed from pandas in a future version. Use pandas.concat instead.\n",
      "  TS_df_arm = TS_df_arm.append([TS_arm])\n"
     ]
    },
    {
     "name": "stdout",
     "output_type": "stream",
     "text": [
      "trial 8 TS time: 6.312923192977905\n"
     ]
    },
    {
     "name": "stderr",
     "output_type": "stream",
     "text": [
      "<ipython-input-10-8e78e3575a62>:49: FutureWarning: The frame.append method is deprecated and will be removed from pandas in a future version. Use pandas.concat instead.\n",
      "  TS_df = TS_df.append([np.cumsum(TS_re)])\n",
      "<ipython-input-10-8e78e3575a62>:50: FutureWarning: The frame.append method is deprecated and will be removed from pandas in a future version. Use pandas.concat instead.\n",
      "  TS_df_arm = TS_df_arm.append([TS_arm])\n"
     ]
    },
    {
     "name": "stdout",
     "output_type": "stream",
     "text": [
      "trial 9 TS time: 6.319889068603516\n"
     ]
    },
    {
     "name": "stderr",
     "output_type": "stream",
     "text": [
      "<ipython-input-10-8e78e3575a62>:49: FutureWarning: The frame.append method is deprecated and will be removed from pandas in a future version. Use pandas.concat instead.\n",
      "  TS_df = TS_df.append([np.cumsum(TS_re)])\n",
      "<ipython-input-10-8e78e3575a62>:50: FutureWarning: The frame.append method is deprecated and will be removed from pandas in a future version. Use pandas.concat instead.\n",
      "  TS_df_arm = TS_df_arm.append([TS_arm])\n"
     ]
    },
    {
     "name": "stdout",
     "output_type": "stream",
     "text": [
      "trial 0 EG 0.05 time: 0.9491572380065918\n"
     ]
    },
    {
     "name": "stderr",
     "output_type": "stream",
     "text": [
      "<ipython-input-10-8e78e3575a62>:61: FutureWarning: The frame.append method is deprecated and will be removed from pandas in a future version. Use pandas.concat instead.\n",
      "  EG_1_df = EG_1_df.append([np.cumsum(EG_re)])\n",
      "<ipython-input-10-8e78e3575a62>:62: FutureWarning: The frame.append method is deprecated and will be removed from pandas in a future version. Use pandas.concat instead.\n",
      "  EG_1_df_arm = EG_1_df_arm.append([EG_arm])\n"
     ]
    },
    {
     "name": "stdout",
     "output_type": "stream",
     "text": [
      "trial 1 EG 0.05 time: 0.9500150680541992\n",
      "trial 2 EG 0.05 time: 0.9526488780975342\n"
     ]
    },
    {
     "name": "stderr",
     "output_type": "stream",
     "text": [
      "<ipython-input-10-8e78e3575a62>:62: FutureWarning: The frame.append method is deprecated and will be removed from pandas in a future version. Use pandas.concat instead.\n",
      "  EG_1_df_arm = EG_1_df_arm.append([EG_arm])\n"
     ]
    },
    {
     "name": "stdout",
     "output_type": "stream",
     "text": [
      "trial 3 EG 0.05 time: 0.9471859931945801\n"
     ]
    },
    {
     "name": "stderr",
     "output_type": "stream",
     "text": [
      "<ipython-input-10-8e78e3575a62>:61: FutureWarning: The frame.append method is deprecated and will be removed from pandas in a future version. Use pandas.concat instead.\n",
      "  EG_1_df = EG_1_df.append([np.cumsum(EG_re)])\n",
      "<ipython-input-10-8e78e3575a62>:62: FutureWarning: The frame.append method is deprecated and will be removed from pandas in a future version. Use pandas.concat instead.\n",
      "  EG_1_df_arm = EG_1_df_arm.append([EG_arm])\n"
     ]
    },
    {
     "name": "stdout",
     "output_type": "stream",
     "text": [
      "trial 4 EG 0.05 time: 0.9406068325042725\n"
     ]
    },
    {
     "name": "stderr",
     "output_type": "stream",
     "text": [
      "<ipython-input-10-8e78e3575a62>:61: FutureWarning: The frame.append method is deprecated and will be removed from pandas in a future version. Use pandas.concat instead.\n",
      "  EG_1_df = EG_1_df.append([np.cumsum(EG_re)])\n",
      "<ipython-input-10-8e78e3575a62>:62: FutureWarning: The frame.append method is deprecated and will be removed from pandas in a future version. Use pandas.concat instead.\n",
      "  EG_1_df_arm = EG_1_df_arm.append([EG_arm])\n"
     ]
    },
    {
     "name": "stdout",
     "output_type": "stream",
     "text": [
      "trial 5 EG 0.05 time: 0.950042724609375\n"
     ]
    },
    {
     "name": "stderr",
     "output_type": "stream",
     "text": [
      "<ipython-input-10-8e78e3575a62>:61: FutureWarning: The frame.append method is deprecated and will be removed from pandas in a future version. Use pandas.concat instead.\n",
      "  EG_1_df = EG_1_df.append([np.cumsum(EG_re)])\n",
      "<ipython-input-10-8e78e3575a62>:62: FutureWarning: The frame.append method is deprecated and will be removed from pandas in a future version. Use pandas.concat instead.\n",
      "  EG_1_df_arm = EG_1_df_arm.append([EG_arm])\n"
     ]
    },
    {
     "name": "stdout",
     "output_type": "stream",
     "text": [
      "trial 6 EG 0.05 time: 0.9437251091003418\n"
     ]
    },
    {
     "name": "stderr",
     "output_type": "stream",
     "text": [
      "<ipython-input-10-8e78e3575a62>:61: FutureWarning: The frame.append method is deprecated and will be removed from pandas in a future version. Use pandas.concat instead.\n",
      "  EG_1_df = EG_1_df.append([np.cumsum(EG_re)])\n",
      "<ipython-input-10-8e78e3575a62>:62: FutureWarning: The frame.append method is deprecated and will be removed from pandas in a future version. Use pandas.concat instead.\n",
      "  EG_1_df_arm = EG_1_df_arm.append([EG_arm])\n"
     ]
    },
    {
     "name": "stdout",
     "output_type": "stream",
     "text": [
      "trial 7 EG 0.05 time: 0.9441790580749512\n"
     ]
    },
    {
     "name": "stderr",
     "output_type": "stream",
     "text": [
      "<ipython-input-10-8e78e3575a62>:61: FutureWarning: The frame.append method is deprecated and will be removed from pandas in a future version. Use pandas.concat instead.\n",
      "  EG_1_df = EG_1_df.append([np.cumsum(EG_re)])\n",
      "<ipython-input-10-8e78e3575a62>:62: FutureWarning: The frame.append method is deprecated and will be removed from pandas in a future version. Use pandas.concat instead.\n",
      "  EG_1_df_arm = EG_1_df_arm.append([EG_arm])\n"
     ]
    },
    {
     "name": "stdout",
     "output_type": "stream",
     "text": [
      "trial 8 EG 0.05 time: 0.9474329948425293\n"
     ]
    },
    {
     "name": "stderr",
     "output_type": "stream",
     "text": [
      "<ipython-input-10-8e78e3575a62>:61: FutureWarning: The frame.append method is deprecated and will be removed from pandas in a future version. Use pandas.concat instead.\n",
      "  EG_1_df = EG_1_df.append([np.cumsum(EG_re)])\n",
      "<ipython-input-10-8e78e3575a62>:62: FutureWarning: The frame.append method is deprecated and will be removed from pandas in a future version. Use pandas.concat instead.\n",
      "  EG_1_df_arm = EG_1_df_arm.append([EG_arm])\n"
     ]
    },
    {
     "name": "stdout",
     "output_type": "stream",
     "text": [
      "trial 9 EG 0.05 time: 0.9428188800811768\n"
     ]
    },
    {
     "name": "stderr",
     "output_type": "stream",
     "text": [
      "<ipython-input-10-8e78e3575a62>:61: FutureWarning: The frame.append method is deprecated and will be removed from pandas in a future version. Use pandas.concat instead.\n",
      "  EG_1_df = EG_1_df.append([np.cumsum(EG_re)])\n",
      "<ipython-input-10-8e78e3575a62>:62: FutureWarning: The frame.append method is deprecated and will be removed from pandas in a future version. Use pandas.concat instead.\n",
      "  EG_1_df_arm = EG_1_df_arm.append([EG_arm])\n"
     ]
    },
    {
     "name": "stdout",
     "output_type": "stream",
     "text": [
      "trial 0 EG 0.1 time: 0.9418330192565918\n"
     ]
    },
    {
     "name": "stderr",
     "output_type": "stream",
     "text": [
      "<ipython-input-10-8e78e3575a62>:73: FutureWarning: The frame.append method is deprecated and will be removed from pandas in a future version. Use pandas.concat instead.\n",
      "  EG_2_df = EG_2_df.append([np.cumsum(EG_re)])\n",
      "<ipython-input-10-8e78e3575a62>:74: FutureWarning: The frame.append method is deprecated and will be removed from pandas in a future version. Use pandas.concat instead.\n",
      "  EG_2_df_arm = EG_2_df_arm.append([EG_arm])\n"
     ]
    },
    {
     "name": "stdout",
     "output_type": "stream",
     "text": [
      "trial 1 EG 0.1 time: 0.947584867477417\n",
      "trial 2 EG 0.1 time: 0.9558451175689697\n"
     ]
    },
    {
     "name": "stderr",
     "output_type": "stream",
     "text": [
      "<ipython-input-10-8e78e3575a62>:74: FutureWarning: The frame.append method is deprecated and will be removed from pandas in a future version. Use pandas.concat instead.\n",
      "  EG_2_df_arm = EG_2_df_arm.append([EG_arm])\n"
     ]
    },
    {
     "name": "stdout",
     "output_type": "stream",
     "text": [
      "trial 3 EG 0.1 time: 0.9495840072631836\n"
     ]
    },
    {
     "name": "stderr",
     "output_type": "stream",
     "text": [
      "<ipython-input-10-8e78e3575a62>:73: FutureWarning: The frame.append method is deprecated and will be removed from pandas in a future version. Use pandas.concat instead.\n",
      "  EG_2_df = EG_2_df.append([np.cumsum(EG_re)])\n",
      "<ipython-input-10-8e78e3575a62>:74: FutureWarning: The frame.append method is deprecated and will be removed from pandas in a future version. Use pandas.concat instead.\n",
      "  EG_2_df_arm = EG_2_df_arm.append([EG_arm])\n"
     ]
    },
    {
     "name": "stdout",
     "output_type": "stream",
     "text": [
      "trial 4 EG 0.1 time: 0.9531588554382324\n"
     ]
    },
    {
     "name": "stderr",
     "output_type": "stream",
     "text": [
      "<ipython-input-10-8e78e3575a62>:73: FutureWarning: The frame.append method is deprecated and will be removed from pandas in a future version. Use pandas.concat instead.\n",
      "  EG_2_df = EG_2_df.append([np.cumsum(EG_re)])\n",
      "<ipython-input-10-8e78e3575a62>:74: FutureWarning: The frame.append method is deprecated and will be removed from pandas in a future version. Use pandas.concat instead.\n",
      "  EG_2_df_arm = EG_2_df_arm.append([EG_arm])\n"
     ]
    },
    {
     "name": "stdout",
     "output_type": "stream",
     "text": [
      "trial 5 EG 0.1 time: 0.9430332183837891\n"
     ]
    },
    {
     "name": "stderr",
     "output_type": "stream",
     "text": [
      "<ipython-input-10-8e78e3575a62>:73: FutureWarning: The frame.append method is deprecated and will be removed from pandas in a future version. Use pandas.concat instead.\n",
      "  EG_2_df = EG_2_df.append([np.cumsum(EG_re)])\n",
      "<ipython-input-10-8e78e3575a62>:74: FutureWarning: The frame.append method is deprecated and will be removed from pandas in a future version. Use pandas.concat instead.\n",
      "  EG_2_df_arm = EG_2_df_arm.append([EG_arm])\n"
     ]
    },
    {
     "name": "stdout",
     "output_type": "stream",
     "text": [
      "trial 6 EG 0.1 time: 0.945871114730835\n"
     ]
    },
    {
     "name": "stderr",
     "output_type": "stream",
     "text": [
      "<ipython-input-10-8e78e3575a62>:73: FutureWarning: The frame.append method is deprecated and will be removed from pandas in a future version. Use pandas.concat instead.\n",
      "  EG_2_df = EG_2_df.append([np.cumsum(EG_re)])\n",
      "<ipython-input-10-8e78e3575a62>:74: FutureWarning: The frame.append method is deprecated and will be removed from pandas in a future version. Use pandas.concat instead.\n",
      "  EG_2_df_arm = EG_2_df_arm.append([EG_arm])\n"
     ]
    },
    {
     "name": "stdout",
     "output_type": "stream",
     "text": [
      "trial 7 EG 0.1 time: 0.9436337947845459\n"
     ]
    },
    {
     "name": "stderr",
     "output_type": "stream",
     "text": [
      "<ipython-input-10-8e78e3575a62>:73: FutureWarning: The frame.append method is deprecated and will be removed from pandas in a future version. Use pandas.concat instead.\n",
      "  EG_2_df = EG_2_df.append([np.cumsum(EG_re)])\n",
      "<ipython-input-10-8e78e3575a62>:74: FutureWarning: The frame.append method is deprecated and will be removed from pandas in a future version. Use pandas.concat instead.\n",
      "  EG_2_df_arm = EG_2_df_arm.append([EG_arm])\n"
     ]
    },
    {
     "name": "stdout",
     "output_type": "stream",
     "text": [
      "trial 8 EG 0.1 time: 0.9475347995758057\n"
     ]
    },
    {
     "name": "stderr",
     "output_type": "stream",
     "text": [
      "<ipython-input-10-8e78e3575a62>:73: FutureWarning: The frame.append method is deprecated and will be removed from pandas in a future version. Use pandas.concat instead.\n",
      "  EG_2_df = EG_2_df.append([np.cumsum(EG_re)])\n",
      "<ipython-input-10-8e78e3575a62>:74: FutureWarning: The frame.append method is deprecated and will be removed from pandas in a future version. Use pandas.concat instead.\n",
      "  EG_2_df_arm = EG_2_df_arm.append([EG_arm])\n"
     ]
    },
    {
     "name": "stdout",
     "output_type": "stream",
     "text": [
      "trial 9 EG 0.1 time: 0.9502551555633545\n"
     ]
    },
    {
     "name": "stderr",
     "output_type": "stream",
     "text": [
      "<ipython-input-10-8e78e3575a62>:73: FutureWarning: The frame.append method is deprecated and will be removed from pandas in a future version. Use pandas.concat instead.\n",
      "  EG_2_df = EG_2_df.append([np.cumsum(EG_re)])\n",
      "<ipython-input-10-8e78e3575a62>:74: FutureWarning: The frame.append method is deprecated and will be removed from pandas in a future version. Use pandas.concat instead.\n",
      "  EG_2_df_arm = EG_2_df_arm.append([EG_arm])\n"
     ]
    },
    {
     "name": "stdout",
     "output_type": "stream",
     "text": [
      "trial 0 EG 0.15 time: 0.9378888607025146\n"
     ]
    },
    {
     "name": "stderr",
     "output_type": "stream",
     "text": [
      "<ipython-input-10-8e78e3575a62>:85: FutureWarning: The frame.append method is deprecated and will be removed from pandas in a future version. Use pandas.concat instead.\n",
      "  EG_3_df = EG_3_df.append([np.cumsum(EG_re)])\n",
      "<ipython-input-10-8e78e3575a62>:86: FutureWarning: The frame.append method is deprecated and will be removed from pandas in a future version. Use pandas.concat instead.\n",
      "  EG_3_df_arm = EG_3_df_arm.append([EG_arm])\n"
     ]
    },
    {
     "name": "stdout",
     "output_type": "stream",
     "text": [
      "trial 1 EG 0.15 time: 0.9443891048431396\n",
      "trial 2 EG 0.15 time: 0.936553955078125\n"
     ]
    },
    {
     "name": "stderr",
     "output_type": "stream",
     "text": [
      "<ipython-input-10-8e78e3575a62>:86: FutureWarning: The frame.append method is deprecated and will be removed from pandas in a future version. Use pandas.concat instead.\n",
      "  EG_3_df_arm = EG_3_df_arm.append([EG_arm])\n"
     ]
    },
    {
     "name": "stdout",
     "output_type": "stream",
     "text": [
      "trial 3 EG 0.15 time: 0.9501979351043701\n"
     ]
    },
    {
     "name": "stderr",
     "output_type": "stream",
     "text": [
      "<ipython-input-10-8e78e3575a62>:85: FutureWarning: The frame.append method is deprecated and will be removed from pandas in a future version. Use pandas.concat instead.\n",
      "  EG_3_df = EG_3_df.append([np.cumsum(EG_re)])\n",
      "<ipython-input-10-8e78e3575a62>:86: FutureWarning: The frame.append method is deprecated and will be removed from pandas in a future version. Use pandas.concat instead.\n",
      "  EG_3_df_arm = EG_3_df_arm.append([EG_arm])\n"
     ]
    },
    {
     "name": "stdout",
     "output_type": "stream",
     "text": [
      "trial 4 EG 0.15 time: 0.93585205078125\n"
     ]
    },
    {
     "name": "stderr",
     "output_type": "stream",
     "text": [
      "<ipython-input-10-8e78e3575a62>:85: FutureWarning: The frame.append method is deprecated and will be removed from pandas in a future version. Use pandas.concat instead.\n",
      "  EG_3_df = EG_3_df.append([np.cumsum(EG_re)])\n",
      "<ipython-input-10-8e78e3575a62>:86: FutureWarning: The frame.append method is deprecated and will be removed from pandas in a future version. Use pandas.concat instead.\n",
      "  EG_3_df_arm = EG_3_df_arm.append([EG_arm])\n"
     ]
    },
    {
     "name": "stdout",
     "output_type": "stream",
     "text": [
      "trial 5 EG 0.15 time: 0.9540579319000244\n"
     ]
    },
    {
     "name": "stderr",
     "output_type": "stream",
     "text": [
      "<ipython-input-10-8e78e3575a62>:85: FutureWarning: The frame.append method is deprecated and will be removed from pandas in a future version. Use pandas.concat instead.\n",
      "  EG_3_df = EG_3_df.append([np.cumsum(EG_re)])\n",
      "<ipython-input-10-8e78e3575a62>:86: FutureWarning: The frame.append method is deprecated and will be removed from pandas in a future version. Use pandas.concat instead.\n",
      "  EG_3_df_arm = EG_3_df_arm.append([EG_arm])\n"
     ]
    },
    {
     "name": "stdout",
     "output_type": "stream",
     "text": [
      "trial 6 EG 0.15 time: 0.942418098449707\n"
     ]
    },
    {
     "name": "stderr",
     "output_type": "stream",
     "text": [
      "<ipython-input-10-8e78e3575a62>:85: FutureWarning: The frame.append method is deprecated and will be removed from pandas in a future version. Use pandas.concat instead.\n",
      "  EG_3_df = EG_3_df.append([np.cumsum(EG_re)])\n",
      "<ipython-input-10-8e78e3575a62>:86: FutureWarning: The frame.append method is deprecated and will be removed from pandas in a future version. Use pandas.concat instead.\n",
      "  EG_3_df_arm = EG_3_df_arm.append([EG_arm])\n"
     ]
    },
    {
     "name": "stdout",
     "output_type": "stream",
     "text": [
      "trial 7 EG 0.15 time: 0.9461920261383057\n"
     ]
    },
    {
     "name": "stderr",
     "output_type": "stream",
     "text": [
      "<ipython-input-10-8e78e3575a62>:85: FutureWarning: The frame.append method is deprecated and will be removed from pandas in a future version. Use pandas.concat instead.\n",
      "  EG_3_df = EG_3_df.append([np.cumsum(EG_re)])\n",
      "<ipython-input-10-8e78e3575a62>:86: FutureWarning: The frame.append method is deprecated and will be removed from pandas in a future version. Use pandas.concat instead.\n",
      "  EG_3_df_arm = EG_3_df_arm.append([EG_arm])\n"
     ]
    },
    {
     "name": "stdout",
     "output_type": "stream",
     "text": [
      "trial 8 EG 0.15 time: 0.9439120292663574\n"
     ]
    },
    {
     "name": "stderr",
     "output_type": "stream",
     "text": [
      "<ipython-input-10-8e78e3575a62>:85: FutureWarning: The frame.append method is deprecated and will be removed from pandas in a future version. Use pandas.concat instead.\n",
      "  EG_3_df = EG_3_df.append([np.cumsum(EG_re)])\n",
      "<ipython-input-10-8e78e3575a62>:86: FutureWarning: The frame.append method is deprecated and will be removed from pandas in a future version. Use pandas.concat instead.\n",
      "  EG_3_df_arm = EG_3_df_arm.append([EG_arm])\n"
     ]
    },
    {
     "name": "stdout",
     "output_type": "stream",
     "text": [
      "trial 9 EG 0.15 time: 0.9476878643035889\n"
     ]
    },
    {
     "name": "stderr",
     "output_type": "stream",
     "text": [
      "<ipython-input-10-8e78e3575a62>:85: FutureWarning: The frame.append method is deprecated and will be removed from pandas in a future version. Use pandas.concat instead.\n",
      "  EG_3_df = EG_3_df.append([np.cumsum(EG_re)])\n",
      "<ipython-input-10-8e78e3575a62>:86: FutureWarning: The frame.append method is deprecated and will be removed from pandas in a future version. Use pandas.concat instead.\n",
      "  EG_3_df_arm = EG_3_df_arm.append([EG_arm])\n"
     ]
    }
   ],
   "source": [
    "segments=1\n",
    "# UCB1 c=1\n",
    "UCB_1_df = pd.DataFrame()\n",
    "UCB_1_df_arm = pd.DataFrame()\n",
    "for i in range(trial_rounds):\n",
    "    start = time.time()\n",
    "    UCB1 = UCBPI_pull(price_list=price_list, segments=segments, c=1, bias=0, UCB1=True, tuned=False)\n",
    "    UCB1_sum, UCB1_pt, UCB1_re, UCB1_arm = UCB1.UCBPI(T=T, pricing_MAB=exp_MAB_1)\n",
    "    end = time.time()\n",
    "    print('trial',i, 'UCB_1 time:',end-start)\n",
    "    UCB_1_df = UCB_1_df.append([np.cumsum(UCB1_re)])\n",
    "    UCB_1_df_arm = UCB_1_df_arm.append([UCB1_arm])\n",
    "\n",
    "# UCB1 c=2\n",
    "UCB_2_df = pd.DataFrame()\n",
    "UCB_2_df_arm = pd.DataFrame()\n",
    "for i in range(trial_rounds):\n",
    "    start = time.time()\n",
    "    UCB1 = UCBPI_pull(price_list=price_list, segments=segments, c=2, bias=0, UCB1=True, tuned=False)\n",
    "    UCB1_sum, UCB1_pt, UCB1_re, UCB1_arm = UCB1.UCBPI(T=T, pricing_MAB=exp_MAB_1)\n",
    "    end = time.time()\n",
    "    print('trial',i, 'UCB_2 time:',end-start)\n",
    "    UCB_2_df = UCB_2_df.append([np.cumsum(UCB1_re)])\n",
    "    UCB_2_df_arm = UCB_2_df_arm.append([UCB1_arm])\n",
    "    \n",
    "\n",
    "# UCB-tuned\n",
    "UCBT_df = pd.DataFrame()\n",
    "UCBT_df_arm = pd.DataFrame()\n",
    "for i in range(trial_rounds):\n",
    "    start = time.time()\n",
    "    UCB1 = UCBPI_pull(price_list=price_list, segments=segments, c=2, bias=0, UCB1=True, tuned=True)\n",
    "    UCB1_sum, UCB1_pt, UCB1_re, UCB1_arm = UCB1.UCBPI(T=T, pricing_MAB=exp_MAB_1)\n",
    "    end = time.time()\n",
    "    print('trial',i, 'UCB-tuned time:',end-start)\n",
    "    UCBT_df = UCBT_df.append([np.cumsum(UCB1_re)])\n",
    "    UCBT_df_arm = UCBT_df_arm.append([UCB1_arm])\n",
    "    \n",
    "    \n",
    "# TS\n",
    "TS_df = pd.DataFrame()\n",
    "TS_df_arm = pd.DataFrame()\n",
    "for i in range(trial_rounds):\n",
    "    start = time.time()\n",
    "    TS = TS_pull(price_list=price_list, est='MEAN', update_freq=update_freq)\n",
    "    TS_sum, TS_pt, TS_re, TS_arm = TS.TS(T=T, pricing_MAB=exp_MAB_1)\n",
    "    end = time.time()\n",
    "    print('trial',i, 'TS time:',end-start)\n",
    "    TS_df = TS_df.append([np.cumsum(TS_re)])\n",
    "    TS_df_arm = TS_df_arm.append([TS_arm])\n",
    "\n",
    "# EG e=0.05\n",
    "EG_1_df = pd.DataFrame()\n",
    "EG_1_df_arm = pd.DataFrame()\n",
    "for i in range(trial_rounds):\n",
    "    start = time.time()\n",
    "    EG = EG_pull(price_list=price_list)\n",
    "    EG_sum, EG_pt, EG_re, EG_arm = EG.EG(T=T, pricing_MAB=exp_MAB_1, e=0.05)\n",
    "    end = time.time()\n",
    "    print('trial',i, 'EG 0.05 time:',end-start)\n",
    "    EG_1_df = EG_1_df.append([np.cumsum(EG_re)])\n",
    "    EG_1_df_arm = EG_1_df_arm.append([EG_arm])\n",
    "\n",
    "# EG p=0.1\n",
    "EG_2_df = pd.DataFrame()\n",
    "EG_2_df_arm = pd.DataFrame()\n",
    "for i in range(trial_rounds):\n",
    "    start = time.time()\n",
    "    EG = EG_pull(price_list=price_list)\n",
    "    EG_sum, EG_pt, EG_re, EG_arm = EG.EG(T=T, pricing_MAB=exp_MAB_1, e=0.1)\n",
    "    end = time.time()\n",
    "    print('trial',i, 'EG 0.1 time:',end-start)\n",
    "    EG_2_df = EG_2_df.append([np.cumsum(EG_re)])\n",
    "    EG_2_df_arm = EG_2_df_arm.append([EG_arm])\n",
    "    \n",
    "# EG e=0.15\n",
    "EG_3_df = pd.DataFrame()\n",
    "EG_3_df_arm = pd.DataFrame()\n",
    "for i in range(trial_rounds):\n",
    "    start = time.time()\n",
    "    EG = EG_pull(price_list=price_list)\n",
    "    EG_sum, EG_pt, EG_re, EG_arm = EG.EG(T=T, pricing_MAB=exp_MAB_1, e=0.15)\n",
    "    end = time.time()\n",
    "    print('trial',i, 'EG 0.15 time:',end-start)\n",
    "    EG_3_df = EG_3_df.append([np.cumsum(EG_re)])\n",
    "    EG_3_df_arm = EG_3_df_arm.append([EG_arm])"
   ]
  },
  {
   "cell_type": "code",
   "execution_count": 12,
   "id": "6e403818",
   "metadata": {},
   "outputs": [],
   "source": [
    "def draw_regret_criteo(optimal_reward, IDS_2, IDSW, UCB_1, UCB_2, UCBT, TS, EG_1, EG_2, EG_3, title, bounds=True):\n",
    "\n",
    "    IDS_2_mean = (optimal_reward - IDS_2.mean().values)\n",
    "    IDSW_mean = (optimal_reward - IDSW.mean().values)\n",
    "    UCB_1_mean = (optimal_reward - UCB_1.mean().values)\n",
    "    UCB_2_mean = (optimal_reward - UCB_2.mean().values)\n",
    "    UCBT_mean = (optimal_reward - UCBT.mean().values)\n",
    "    TS_mean = (optimal_reward - TS.mean().values)\n",
    "    EG_1_mean = (optimal_reward - EG_1.mean().values)\n",
    "    EG_2_mean = (optimal_reward - EG_2.mean().values)\n",
    "    EG_3_mean = (optimal_reward - EG_3.mean().values)\n",
    "    \n",
    "    T = np.arange(EG_1.shape[1])\n",
    "    trial = EG_1.shape[0]\n",
    "    \n",
    "    plt.figure(figsize=(30,20))\n",
    "    sns.set(font_scale=2, style='white')\n",
    "    \n",
    "    plt.plot(EG_1_mean,alpha=1,color='#000000', linestyle='-')\n",
    "    plt.plot(EG_2_mean,alpha=1,color='#000000', linestyle='-.')    \n",
    "    plt.plot(EG_3_mean,alpha=1,color='#000000', linestyle='--')\n",
    "    \n",
    "    plt.plot(TS_mean,alpha=1,color='#666666', linestyle='-')\n",
    "    \n",
    "    plt.plot(UCB_1_mean,alpha=1,color='#666600', linestyle='-')\n",
    "    plt.plot(UCB_2_mean,alpha=1,color='#666600', linestyle='-.')\n",
    "    plt.plot(UCBT_mean,alpha=1,color='#666600', linestyle='--')\n",
    "    plt.plot(IDS_2_mean,alpha=1,color='#FF6666', linestyle='-.')\n",
    "    plt.plot(IDSW_mean,alpha=1,color='#FFA500', linestyle='-')\n",
    "                 \n",
    "    plt.legend(['EG $ε$=0.05', 'EG $ε$=0.1', 'EG $ε$-0.15', 'TS', 'UCB c=1', 'UCB c=2', 'UCB-tuned',\n",
    "                'ACIDP L=4, n=1', 'ACIDP-Variant L=2, n=1'],\n",
    "              bbox_to_anchor=(1, -0.05), ncol=7, fancybox=True)\n",
    "    plt.title(title)\n",
    "    plt.xlabel('Horizon')\n",
    "    plt.ylabel('Cumulative Regret')\n",
    "    plt.show()"
   ]
  },
  {
   "cell_type": "code",
   "execution_count": 13,
   "id": "9a2ce594",
   "metadata": {},
   "outputs": [],
   "source": [
    "r_star_1 = df[(df['t'] == 0) & (df['arm']==6)]['reward'].mean()\n",
    "r_star_2 = df[(df['t'] == 2000) & (df['arm']==27)]['reward'].mean()\n",
    "r_star_3 = df[(df['t'] == 4000) & (df['arm']==14)]['reward'].mean()\n",
    "optimal_reward = np.append(np.repeat(r_star_1, T/3), \n",
    "                           np.append(np.repeat(r_star_2, T/3), np.repeat(r_star_3, T/3)))\n",
    "optimal_reward = optimal_reward.cumsum()"
   ]
  },
  {
   "cell_type": "code",
   "execution_count": 14,
   "id": "2721c05d",
   "metadata": {},
   "outputs": [
    {
     "data": {
      "image/png": "[encoded data removed]",
      "text/plain": [
       "<Figure size 2160x1440 with 1 Axes>"
      ]
     },
     "metadata": {
      "needs_background": "light"
     },
     "output_type": "display_data"
    }
   ],
   "source": [
    "title = 'Real Data: Criteo Search Conversion'\n",
    "draw_regret_criteo(optimal_reward, IDS_2_df, IDSW_df, UCB_1_df, UCB_2_df, UCBT_df,\n",
    "                   TS_df,EG_1_df, EG_2_df, EG_3_df, title, bounds=False)"
   ]
  },
  {
   "cell_type": "code",
   "execution_count": 31,
   "id": "5cb5cbaf",
   "metadata": {},
   "outputs": [],
   "source": [
    "optimal_arm = np.append(np.repeat(5, 2000), np.append(np.repeat(27, 2000), np.repeat(14, 2000)))\n",
    "draw_arm_withopt_criteo(IDS_2_df_arm.drop(columns='policy'),\n",
    "                 IDSW_df_arm.drop(columns='policy'),\n",
    "                 UCB_2_df_arm.drop(columns='policy'),\n",
    "                 EG_1_df_arm.drop(columns='policy'),\n",
    "                 optimal_arm=optimal_arm)"
   ]
  },
  {
   "cell_type": "code",
   "execution_count": 15,
   "id": "24033981",
   "metadata": {},
   "outputs": [],
   "source": [
    "IDS_2_df['policy'] = 'IDS_2'\n",
    "IDSW_df['policy'] = 'IDSW'\n",
    "UCB_1_df['policy'] = 'UCB_1'\n",
    "UCB_2_df['policy'] = 'UCB_2'\n",
    "UCBT_df['policy'] = 'UCBT'\n",
    "TS_df['policy'] = 'TS'\n",
    "EG_1_df['policy'] = 'EG_1'\n",
    "EG_2_df['policy'] = 'EG_2'\n",
    "EG_3_df['policy'] = 'EG_3'\n",
    "all_df = pd.concat([IDS_2_df, IDSW_df, UCB_1_df, UCB_2_df, UCBT_df, TS_df, EG_1_df, EG_2_df, EG_3_df])\n",
    "all_df.to_csv('criteo_demo_result.csv')\n",
    "all_df.groupby('policy')[5999].agg(['mean', 'std']).to_csv('criteo_regret_stats.csv')"
   ]
  },
  {
   "cell_type": "code",
   "execution_count": 18,
   "id": "5201d7c0",
   "metadata": {},
   "outputs": [],
   "source": [
    "IDS_2_df_arm['policy'] = 'IDS_2'\n",
    "IDSW_df_arm['policy'] = 'IDSW'\n",
    "UCB_1_df_arm['policy'] = 'UCB_1'\n",
    "UCB_2_df_arm['policy'] = 'UCB_2'\n",
    "UCBT_df_arm['policy'] = 'UCBT'\n",
    "TS_df_arm['policy'] = 'TS'\n",
    "EG_1_df_arm['policy'] = 'EG_1'\n",
    "EG_2_df_arm['policy'] = 'EG_2'\n",
    "EG_3_df_arm['policy'] = 'EG_3'\n",
    "all_df_arm = pd.concat([IDS_2_df_arm, IDSW_df_arm, UCB_1_df_arm, UCB_2_df_arm, UCBT_df_arm,\n",
    "                        TS_df_arm, EG_1_df_arm, EG_2_df_arm, EG_3_df_arm])\n",
    "all_df_arm.to_csv('criteo_demo_result_arm.csv')"
   ]
  },
  {
   "cell_type": "code",
   "execution_count": 37,
   "id": "679f3ec2",
   "metadata": {},
   "outputs": [],
   "source": [
    "def draw_arm_withopt_criteo(IDS, IDSW, UCB, EG, optimal_arm):\n",
    "    sns.set(font_scale=1.5, style='white')\n",
    "    figure, axis = plt.subplots(2, 2, figsize=(20,12))\n",
    "\n",
    "    trial = EG.shape[0]\n",
    "    X = np.arange(EG.shape[1])\n",
    "    for i in range(trial):\n",
    "        axis[0, 0].scatter(x=X, y=IDS.iloc[i], alpha=0.1, s=10, color='#FF6666')\n",
    "    axis[0, 0].plot(optimal_arm, color='r', linewidth=3, linestyle='--')\n",
    "    axis[0, 0].set_ylim([-1, 50])\n",
    "    axis[0, 0].set_ylabel('Pulled Arms')\n",
    "    axis[0, 0].set_title('ACIDP')\n",
    "\n",
    "    for i in range(trial):\n",
    "        axis[0, 1].scatter(x=X, y=IDSW.iloc[i], alpha=0.1, s=10, color='#666666')\n",
    "    axis[0, 1].plot(optimal_arm, color='r', linewidth=3, linestyle='--')\n",
    "    axis[0, 1].set_ylim([-1, 50])\n",
    "    axis[0, 1].set_ylabel('Pulled Arms')\n",
    "    axis[0, 1].set_title('ACIDP-Variant')\n",
    "\n",
    "    for i in range(trial):\n",
    "        axis[1, 0].scatter(x=X, y=UCB.iloc[i], alpha=0.1, s=10, color='#666600')\n",
    "    axis[1, 0].plot(optimal_arm, color='r', linewidth=3, linestyle='--')\n",
    "    axis[1, 0].set_ylim([-1, 50])\n",
    "    axis[1, 0].set_ylabel('Pulled Arms')\n",
    "    axis[1, 0].set_title('UCB')\n",
    "\n",
    "    for i in range(trial):\n",
    "        axis[1, 1].scatter(x=X, y=EG.iloc[i], alpha=0.1, s=10, color='#996633')\n",
    "    axis[1, 1].plot(optimal_arm, color='r', linewidth=3, linestyle='--')\n",
    "    axis[1, 1].set_ylim([-1, 50])\n",
    "    axis[1, 1].set_ylabel('Pulled Arms')\n",
    "    axis[1, 1].set_title('EG')\n",
    "\n",
    "    figure.text(0.5, 0.05, 'Horizon')\n",
    "    plt.show()"
   ]
  },
  {
   "cell_type": "code",
   "execution_count": 38,
   "id": "ba649f2a",
   "metadata": {},
   "outputs": [
    {
     "data": {
      "image/png": "[encoded data removed]",
      "text/plain": [
       "<Figure size 1440x864 with 4 Axes>"
      ]
     },
     "metadata": {},
     "output_type": "display_data"
    }
   ],
   "source": [
    "draw_arm_withopt(IDS_2_df_arm.drop(columns='policy'),\n",
    "                 IDSW_df_arm.drop(columns='policy'),\n",
    "                 UCB_2_df_arm.drop(columns='policy'),\n",
    "                 EG_1_df_arm.drop(columns='policy'),\n",
    "                 optimal_arm=optimal_arm)\n"
   ]
  },
  {
   "cell_type": "code",
   "execution_count": 40,
   "id": "9302f376",
   "metadata": {},
   "outputs": [
    {
     "data": {
      "text/plain": [
       "543011.6000000231"
      ]
     },
     "execution_count": 40,
     "metadata": {},
     "output_type": "execute_result"
    }
   ],
   "source": [
    "optimal_reward[-1]"
   ]
  }
 ],
 "metadata": {
  "kernelspec": {
   "display_name": "Python 3",
   "language": "python",
   "name": "python3"
  },
  "language_info": {
   "codemirror_mode": {
    "name": "ipython",
    "version": 3
   },
   "file_extension": ".py",
   "mimetype": "text/x-python",
   "name": "python",
   "nbconvert_exporter": "python",
   "pygments_lexer": "ipython3",
   "version": "3.8.8"
  }
 },
 "nbformat": 4,
 "nbformat_minor": 5
}
