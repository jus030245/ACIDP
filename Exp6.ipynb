{
 "cells": [
  {
   "cell_type": "code",
   "execution_count": 1,
   "id": "429f1299",
   "metadata": {},
   "outputs": [],
   "source": [
    "import numpy as np\n",
    "import pandas as pd \n",
    "import matplotlib.pyplot as plt\n",
    "import time\n",
    "from algo import *\n",
    "from util import *\n",
    "from environment import *\n",
    "from ids import *"
   ]
  },
  {
   "cell_type": "code",
   "execution_count": 2,
   "id": "d2dbd33c",
   "metadata": {},
   "outputs": [],
   "source": [
    "def set_experiment6(price_list=np.linspace(0.01,1,100), segments=1000, update_freq=10, T=2000):\n",
    "    start = time.time()\n",
    "    exp_MAB_1 = pricing_MAB(price_list=price_list, segments=segments,update_freq=update_freq, exp='exp6', T=T)\n",
    "    exp_MAB_1.segments_means(param1=3,param2=6)\n",
    "    df1, df2 = exp_MAB_1.true_optimal()\n",
    "    print('time:',time.time()-start)\n",
    "    return exp_MAB_1, df1, df2"
   ]
  },
  {
   "cell_type": "code",
   "execution_count": 3,
   "id": "26915739",
   "metadata": {},
   "outputs": [
    {
     "name": "stdout",
     "output_type": "stream",
     "text": [
      "The true optimal arm in first 1000 rounds is: 14\n",
      "The true optimal arm in the rest is: 32\n",
      "time: 67.33841109275818\n"
     ]
    },
    {
     "data": {
      "text/plain": [
       "<AxesSubplot:ylabel='Density'>"
      ]
     },
     "execution_count": 3,
     "metadata": {},
     "output_type": "execute_result"
    },
    {
     "data": {
      "image/png": "[encoded data removed]",
      "text/plain": [
       "<Figure size 432x288 with 1 Axes>"
      ]
     },
     "metadata": {
      "needs_background": "light"
     },
     "output_type": "display_data"
    }
   ],
   "source": [
    "#changeable parameters\n",
    "np.random.seed(666)\n",
    "price_list=np.linspace(0.01,1,50)\n",
    "T = 2000\n",
    "\n",
    "#fix parameters\n",
    "segments = 1000\n",
    "update_freq = 10\n",
    "trial_rounds = 5\n",
    "exp_MAB_1, df1, df2 = set_experiment6(price_list=price_list, segments=segments, update_freq =10, T=T)\n",
    "sns.kdeplot(exp_MAB_1.seg_means, color='orange')\n",
    "sns.kdeplot(exp_MAB_1.seg_means_2)"
   ]
  },
  {
   "cell_type": "code",
   "execution_count": null,
   "id": "9ec87aff",
   "metadata": {
    "scrolled": true
   },
   "outputs": [],
   "source": [
    "#IDS_1\n",
    "IDS_1_df = pd.DataFrame()\n",
    "IDS_1_df_arm = pd.DataFrame()\n",
    "for i in range(trial_rounds):\n",
    "    start = time.time()\n",
    "    IDS_1 = IDS_pull(price_list=price_list, N=update_freq+1, start_L=2, update_L=2,\n",
    "                     simulate_time_initiate=1, simulate_time_update=1, window_width=100)\n",
    "    IDS_1_sum, IDS_1_pt, IDS_1_re, IDS_1_arm, IDS_1_post = IDS_1.IDS(T=T, pricing_MAB=exp_MAB_1, mode='mode1',\n",
    "                                                                     update_style='none', base=1000, p=np.nan,\n",
    "                                                                     p_y=np.nan, R=np.nan)\n",
    "    end = time.time()\n",
    "    print('trial',i, 'IDS_1 time:',end-start)\n",
    "    IDS_1_df = IDS_1_df.append([np.cumsum(IDS_1_re)])\n",
    "    IDS_1_df_arm = IDS_1_df_arm.append([IDS_1_arm])"
   ]
  },
  {
   "cell_type": "code",
   "execution_count": null,
   "id": "50f44b2a",
   "metadata": {
    "scrolled": false
   },
   "outputs": [],
   "source": [
    "#IDST_1\n",
    "IDST_1_df = pd.DataFrame()\n",
    "for i in range(trial_rounds):\n",
    "    start = time.time()\n",
    "    IDST_1 = IDS_theta_pull(price_list=price_list, N=update_freq+1, start_L=2, update_L=2,\n",
    "                     simulate_time_initiate=1, simulate_time_update=1, window_width=100)\n",
    "    IDST_1_sum, IDST_1_pt, IDST_1_re, IDST_1_arm, IDST_1_post = IDST_1.IDS(T=T, pricing_MAB=exp_MAB_1, mode='mode1',\n",
    "                                                                     update_style='none', base=1000, p=np.nan,\n",
    "                                                                     p_y=np.nan, R=np.nan)\n",
    "    end = time.time()\n",
    "    print('trial',i, 'IDST_1 time:',end-start)\n",
    "    IDST_1_df = IDST_1_df.append([np.cumsum(IDST_1_re)])"
   ]
  },
  {
   "cell_type": "code",
   "execution_count": null,
   "id": "d1cfabe1",
   "metadata": {},
   "outputs": [],
   "source": [
    "# UCB1 \n",
    "UCB_df = pd.DataFrame()\n",
    "for i in range(trial_rounds):\n",
    "    start = time.time()\n",
    "    UCB1 = UCBPI_pull(price_list=price_list, segments=segments, c=1, bias=0, UCB1=True)\n",
    "    UCB1_sum, UCB1_pt, UCB1_re, UCB1_arm = UCB1.UCBPI(T=T, pricing_MAB=exp_MAB_1)\n",
    "    end = time.time()\n",
    "    print('trial',i, 'UCB time:',end-start)\n",
    "    UCB_df = UCB_df.append([np.cumsum(UCB1_re)])\n",
    "    \n",
    "# UCBPI family\n",
    "UCBPI_df = pd.DataFrame()\n",
    "for i in range(trial_rounds):\n",
    "    start = time.time()\n",
    "    UCBPI = UCBPI_pull(price_list=price_list, segments=segments, c=4, bias=0, UCB1=False)\n",
    "    UCBPI_sum, UCBPI_pt, UCBPI_re, UCBPI_arm = UCBPI.UCBPI(T=T, pricing_MAB=exp_MAB_1)\n",
    "    end = time.time()\n",
    "    print('trial',i, 'UCBPI time:',end-start)\n",
    "    UCBPI_df = UCBPI_df.append([np.cumsum(UCBPI_re)])\n",
    "    \n",
    "# TS\n",
    "TS_df = pd.DataFrame()\n",
    "for i in range(trial_rounds):\n",
    "    start = time.time()\n",
    "    TS = TS_pull(price_list=price_list, est='MEAN')\n",
    "    TS_sum, TS_pt, TS_re, TS_arm = TS.TS(T=T, pricing_MAB=exp_MAB_1)\n",
    "    end = time.time()\n",
    "    print('trial',i, 'TS time:',end-start)\n",
    "    TS_df = TS_df.append([np.cumsum(TS_re)])\n",
    "\n",
    "# EG\n",
    "EG_df = pd.DataFrame()\n",
    "EG_df_arm = pd.DataFrame()\n",
    "for i in range(trial_rounds):\n",
    "    start = time.time()\n",
    "    EG = EG_pull(price_list=price_list)\n",
    "    EG_sum, EG_pt, EG_re, EG_arm = EG.EG(T=T, pricing_MAB=exp_MAB_1, e=0.1)\n",
    "    end = time.time()\n",
    "    print('trial',i, 'EG time:',end-start)\n",
    "    EG_df = EG_df.append([np.cumsum(EG_re)])"
   ]
  },
  {
   "cell_type": "code",
   "execution_count": null,
   "id": "b5a387a5",
   "metadata": {},
   "outputs": [],
   "source": [
    "import matplotlib.patches as mpatches\n",
    "def draw_exp_graph(IDS_1,IDST_1,UCB,UCBPI,TS, EG,sd=2):\n",
    "    IDS_1_mean = IDS_1.mean()\n",
    "    IDST_1_mean = IDST_1.mean()\n",
    "    UCB_mean = UCB.mean()\n",
    "    UCBPI_mean = UCBPI.mean()\n",
    "    TS_mean = TS.mean()\n",
    "    EG_mean = EG.mean()\n",
    "    \n",
    "    T = np.arange(IDS_1.shape[1])\n",
    "    \n",
    "    plt.figure(figsize=(30,20))\n",
    "    sns.set(font_scale=2)\n",
    "    \n",
    "    for i in range(EG.shape[0]):\n",
    "        plt.plot(EG.iloc[i],alpha=0.2,color='pink')\n",
    "    plt.plot(EG_mean,alpha=1,color='pink')\n",
    "    plt.fill_between(T, EG.min(), EG.max(), color='pink', alpha=0.2)\n",
    "    \n",
    "    for i in range(TS.shape[0]):\n",
    "        plt.plot(TS.iloc[i],alpha=0.2,color='purple')\n",
    "    plt.plot(TS_mean,alpha=1,color='purple')\n",
    "    plt.fill_between(T, TS.min(), TS.max(), color='purple', alpha=0.2)\n",
    "    \n",
    "    for i in range(UCB.shape[0]):\n",
    "        plt.plot(UCB.iloc[i],alpha=0.2,color='gray')\n",
    "    plt.plot(UCB_mean,alpha=1,color='gray')\n",
    "    plt.fill_between(T, UCB.min(), UCB.max(), color='gray', alpha=0.2)\n",
    "    \n",
    "    for i in range(UCBPI.shape[0]):\n",
    "        plt.plot(UCBPI.iloc[i],alpha=0.2,color='black')\n",
    "    plt.plot(UCBPI_mean,alpha=1,color='black')\n",
    "    plt.fill_between(T, UCBPI.min(), UCBPI.max(), color='black', alpha=0.2)\n",
    "\n",
    "    for i in range(IDS_1.shape[0]):\n",
    "        plt.plot(IDS_1.iloc[i],alpha=0.2,color='red')\n",
    "    plt.plot(IDS_1_mean,alpha=1,color='red')\n",
    "    plt.fill_between(T, IDS_1.min(), IDS_1.max(), color='red', alpha=0.2)\n",
    "    \n",
    "    for i in range(IDST_1.shape[0]):\n",
    "        plt.plot(IDST_1.iloc[i],alpha=0.2,color='blue')\n",
    "    plt.plot(IDST_1_mean,alpha=1,color='blue')\n",
    "    plt.fill_between(T, IDST_1.min(), IDST_1.max(), color='blue', alpha=0.2)\n",
    "    \n",
    "    leg_UCB = mpatches.Patch(color='gray', label='UCB')\n",
    "    leg_UCBPI = mpatches.Patch(color='black', label='UCBPI')\n",
    "    leg_IDS_1 = mpatches.Patch(color='red', label='IDS_1')\n",
    "    leg_IDST_1 = mpatches.Patch(color='blue', label='IDST_1')\n",
    "    leg_TS = mpatches.Patch(color='purple', label='TS')\n",
    "    leg_EG = mpatches.Patch(color='pink', label='EG')\n",
    "    \n",
    "    plt.legend(handles=[leg_UCB, leg_UCBPI, leg_IDS_1, leg_IDST_1, leg_TS, leg_EG], loc= 'lower right')\n",
    "    plt.show()\n",
    "\n",
    "    \n",
    "draw_exp_graph(IDS_1_df,IDST_1_df,UCB_df,UCBPI_df,TS_df,EG_df,sd=1)"
   ]
  },
  {
   "cell_type": "code",
   "execution_count": null,
   "id": "be883d54",
   "metadata": {
    "scrolled": false
   },
   "outputs": [],
   "source": [
    "sns.set(font_scale=1)\n",
    "print('IDS_1')\n",
    "plt.plot(IDS_1_arm)\n",
    "plt.show()\n",
    "print(IDS_1_re[-300:].mean())\n",
    "print('collection rounds:', IDS_1.collection_rounds)\n",
    "\n",
    "print('IDST_1')\n",
    "plt.plot(IDST_1_arm)\n",
    "plt.show()\n",
    "print(IDST_1_re[-300:].mean())\n",
    "print('collection rounds:', IDST_1.collection_rounds)\n",
    "\n",
    "print('UCB1')\n",
    "plt.plot(UCB1_arm)\n",
    "plt.show()\n",
    "print(UCB1_re[-300:].mean())\n",
    "\n",
    "print('UCBPI')\n",
    "plt.plot(UCBPI_arm)\n",
    "plt.show()\n",
    "print(UCBPI_re[-300:].mean())\n",
    "\n",
    "print('TS')\n",
    "plt.plot(TS_arm)\n",
    "plt.show()\n",
    "print(UCBPI_re[-300:].mean())\n",
    "\n",
    "print('EG')\n",
    "plt.plot(EG_arm)\n",
    "plt.show()\n",
    "print(UCBPI_re[-300:].mean())"
   ]
  },
  {
   "cell_type": "code",
   "execution_count": null,
   "id": "a380f0b7",
   "metadata": {},
   "outputs": [],
   "source": [
    "#Est\n",
    "sns.lineplot(data=IDS_1.get_p_a_y() @ np.linspace(1, 10, 11), color='blue')\n",
    "sns.lineplot(data=IDST_1.get_p_a_y() @ np.linspace(1, 10, 11), color='green')\n",
    "#True\n",
    "df2['demand'] = df2['reward'] / df2['price']\n",
    "sns.lineplot(data=df2.groupby('arm').demand.mean(), color='red')\n",
    "plt.show()"
   ]
  },
  {
   "cell_type": "code",
   "execution_count": null,
   "id": "a38f193b",
   "metadata": {},
   "outputs": [],
   "source": [
    "#Est\n",
    "sns.lineplot(data=IDS_1.get_p_a_y() @ np.linspace(1, 10, 11) * price_list, color='blue')\n",
    "sns.lineplot(data=IDST_1.get_p_a_y() @ np.linspace(1, 10, 11) * price_list, color='green')\n",
    "#True\n",
    "df2['demand'] = df2['reward'] / df2['price']\n",
    "sns.lineplot(data=df2.groupby('arm').demand.mean() * price_list, color='red')\n",
    "plt.show()"
   ]
  },
  {
   "cell_type": "code",
   "execution_count": null,
   "id": "ae371805",
   "metadata": {},
   "outputs": [],
   "source": [
    "IDS_1.observation[900:1000].mean()"
   ]
  },
  {
   "cell_type": "code",
   "execution_count": null,
   "id": "8a0ff82f",
   "metadata": {},
   "outputs": [],
   "source": [
    "IDS_1.observation[1000:1100].mean()"
   ]
  },
  {
   "cell_type": "code",
   "execution_count": null,
   "id": "b8045a82",
   "metadata": {},
   "outputs": [],
   "source": [
    "IDS_1.arm_sequence[995:1010]"
   ]
  }
 ],
 "metadata": {
  "kernelspec": {
   "display_name": "Python 3",
   "language": "python",
   "name": "python3"
  },
  "language_info": {
   "codemirror_mode": {
    "name": "ipython",
    "version": 3
   },
   "file_extension": ".py",
   "mimetype": "text/x-python",
   "name": "python",
   "nbconvert_exporter": "python",
   "pygments_lexer": "ipython3",
   "version": "3.8.8"
  }
 },
 "nbformat": 4,
 "nbformat_minor": 5
}
