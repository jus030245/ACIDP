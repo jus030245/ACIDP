{
 "cells": [
  {
   "cell_type": "code",
   "execution_count": 1,
   "id": "d345c52c",
   "metadata": {},
   "outputs": [],
   "source": [
    "import numpy as np\n",
    "import pandas as pd \n",
    "import matplotlib.pyplot as plt\n",
    "import time\n",
    "from algo import *\n",
    "from util import *\n",
    "from environment import *\n",
    "from ids import *"
   ]
  },
  {
   "cell_type": "code",
   "execution_count": 2,
   "id": "2f8fee8c",
   "metadata": {},
   "outputs": [],
   "source": [
    "def set_experiment_app(price_list=np.linspace(0.01,1,100), segments=1000, update_freq=10, T=2000):\n",
    "    start = time.time()\n",
    "    exp_MAB_1 = pricing_MAB(price_list=price_list, segments=segments,update_freq=update_freq, exp='exp3', T=T)\n",
    "    exp_MAB_1.segments_means(param1=2,param2=8)\n",
    "    df1, df2 = exp_MAB_1.true_optimal()\n",
    "    print('time:',time.time()-start)\n",
    "    return exp_MAB_1, df1, df2"
   ]
  },
  {
   "cell_type": "code",
   "execution_count": 3,
   "id": "6f7fbe32",
   "metadata": {},
   "outputs": [
    {
     "name": "stdout",
     "output_type": "stream",
     "text": [
      "The true optimal arm in first 300 rounds is: 19\n",
      "The true optimal arm in the rest is: 9\n",
      "time: 64.43098878860474\n"
     ]
    }
   ],
   "source": [
    "#changeable parameters\n",
    "np.random.seed(777)\n",
    "price_list=np.linspace(0.01,1,20)\n",
    "T = 600\n",
    "\n",
    "#fix parameters\n",
    "segments = 1000\n",
    "update_freq = 10\n",
    "trial_rounds = 10\n",
    "exp_MAB_1, df1, df2 = set_experiment_app(price_list=price_list, segments=segments, update_freq =update_freq, T=T)"
   ]
  },
  {
   "cell_type": "code",
   "execution_count": 4,
   "id": "f241a13f",
   "metadata": {
    "scrolled": true
   },
   "outputs": [
    {
     "name": "stdout",
     "output_type": "stream",
     "text": [
      "Reward change detected at time: 302\n",
      "Detected Sign: -1\n",
      "Detector cooling\n",
      "trial 0 IDS_1 time: 88.40494203567505\n",
      "Reward change detected at time: 302\n",
      "Detected Sign: -1\n",
      "trial 1 IDS_1 time: 88.46106004714966\n",
      "Reward change detected at time: 301\n",
      "Detected Sign: -1\n",
      "Detector cooling\n",
      "trial 2 IDS_1 time: 87.75318479537964\n",
      "Reward change detected at time: 302\n",
      "Detected Sign: -1\n",
      "Detector cooling\n",
      "trial 3 IDS_1 time: 87.40500020980835\n",
      "Reward change detected at time: 302\n",
      "Detected Sign: -1\n",
      "Detector cooling\n",
      "Reward change detected at time: 463\n",
      "Detected Sign: -1\n",
      "Detector cooling\n",
      "Detector cooling\n",
      "trial 4 IDS_1 time: 163.77235317230225\n",
      "Reward change detected at time: 301\n",
      "Detected Sign: -1\n",
      "Detector cooling\n",
      "trial 5 IDS_1 time: 88.53567790985107\n",
      "Reward change detected at time: 302\n",
      "Detected Sign: -1\n",
      "Detector cooling\n",
      "trial 6 IDS_1 time: 88.21045970916748\n",
      "Reward change detected at time: 302\n",
      "Detected Sign: -1\n",
      "Detector cooling\n",
      "trial 7 IDS_1 time: 88.48923778533936\n",
      "Reward change detected at time: 303\n",
      "Detected Sign: -1\n",
      "Detector cooling\n",
      "trial 8 IDS_1 time: 88.62777495384216\n",
      "Reward change detected at time: 303\n",
      "Detected Sign: -1\n",
      "Detector cooling\n",
      "trial 9 IDS_1 time: 88.24337410926819\n"
     ]
    }
   ],
   "source": [
    "#IDS_1\n",
    "IDS_1_df = pd.DataFrame()\n",
    "IDS_1_df_arm = pd.DataFrame()\n",
    "for i in range(trial_rounds):\n",
    "    start = time.time()\n",
    "    IDS_1 = IDS_pull(price_list=price_list, N=update_freq+1, start_L=2, update_L=0,\n",
    "                     simulate_time_initiate=1, simulate_time_update=1, window_width=100, eg_p=0)\n",
    "    IDS_1_sum, IDS_1_pt, IDS_1_re, IDS_1_arm, IDS_1_post = IDS_1.IDS(T=T, pricing_MAB=exp_MAB_1, mode='mode1',\n",
    "                                                                     update_style='none', base=1000, p=np.nan,\n",
    "                                                                     p_y=np.nan, R=np.nan)\n",
    "    end = time.time()\n",
    "    print('trial',i, 'IDS_1 time:',end-start)\n",
    "    IDS_1_df = IDS_1_df.append([np.cumsum(IDS_1_re)])\n",
    "    IDS_1_df_arm = IDS_1_df_arm.append([IDS_1_arm])"
   ]
  },
  {
   "cell_type": "code",
   "execution_count": 5,
   "id": "d618b079",
   "metadata": {
    "scrolled": false
   },
   "outputs": [
    {
     "name": "stdout",
     "output_type": "stream",
     "text": [
      "Reward change detected at time: 302\n",
      "Detected Sign: -1\n",
      "Detector cooling\n",
      "trial 0 IDST_1 time: 92.55396604537964\n",
      "Reward change detected at time: 302\n",
      "Detected Sign: -1\n",
      "trial 1 IDST_1 time: 92.9185471534729\n",
      "Reward change detected at time: 246\n",
      "Detected Sign: -1\n",
      "Detector cooling\n",
      "Reward change detected at time: 504\n",
      "Detected Sign: -1\n",
      "Reward change detected at time: 531\n",
      "Detected Sign: -1\n",
      "trial 2 IDST_1 time: 251.26338410377502\n",
      "Reward change detected at time: 303\n",
      "Detected Sign: -1\n",
      "trial 3 IDST_1 time: 92.41978311538696\n",
      "Reward change detected at time: 302\n",
      "Detected Sign: -1\n",
      "Detector cooling\n",
      "trial 4 IDST_1 time: 92.37396097183228\n",
      "Reward change detected at time: 302\n",
      "Detected Sign: -1\n",
      "trial 5 IDST_1 time: 92.20397996902466\n",
      "Reward change detected at time: 302\n",
      "Detected Sign: -1\n",
      "trial 6 IDST_1 time: 92.74755096435547\n",
      "Reward change detected at time: 293\n",
      "Detected Sign: -1\n",
      "Detector cooling\n",
      "Reward change detected at time: 449\n",
      "Detected Sign: -1\n",
      "trial 7 IDST_1 time: 174.92543983459473\n",
      "Reward change detected at time: 302\n",
      "Detected Sign: -1\n",
      "Detector cooling\n",
      "Reward change detected at time: 450\n",
      "Detected Sign: -1\n",
      "trial 8 IDST_1 time: 383.55548191070557\n",
      "Reward change detected at time: 302\n",
      "Detected Sign: -1\n",
      "Reward change detected at time: 432\n",
      "Detected Sign: -1\n",
      "Detector cooling\n",
      "Detector cooling\n",
      "trial 9 IDST_1 time: 177.35563898086548\n"
     ]
    }
   ],
   "source": [
    "#IDST_1\n",
    "IDST_1_df = pd.DataFrame()\n",
    "IDST_1_df_arm = pd.DataFrame()\n",
    "for i in range(trial_rounds):\n",
    "    start = time.time()\n",
    "    IDST_1 = IDS_theta_pull(price_list=price_list, N=update_freq+1, start_L=2, update_L=0,\n",
    "                     simulate_time_initiate=1, simulate_time_update=1, window_width=100, eg_p=0)\n",
    "    IDST_1_sum, IDST_1_pt, IDST_1_re, IDST_1_arm, IDST_1_post = IDST_1.IDS(T=T, pricing_MAB=exp_MAB_1, mode='mode1',\n",
    "                                                                     update_style='none', base=1000, p=np.nan,\n",
    "                                                                     p_y=np.nan, R=np.nan)\n",
    "    end = time.time()\n",
    "    print('trial',i, 'IDST_1 time:',end-start)\n",
    "    IDST_1_df = IDST_1_df.append([np.cumsum(IDST_1_re)])\n",
    "    IDST_1_df_arm = IDST_1_df_arm.append([IDST_1_arm])"
   ]
  },
  {
   "cell_type": "code",
   "execution_count": 4,
   "id": "379588e9",
   "metadata": {},
   "outputs": [],
   "source": [
    "T = 305"
   ]
  },
  {
   "cell_type": "code",
   "execution_count": 13,
   "id": "eb86fa18",
   "metadata": {},
   "outputs": [],
   "source": [
    "exp_MAB_1.t = 0"
   ]
  },
  {
   "cell_type": "code",
   "execution_count": 14,
   "id": "9bf677eb",
   "metadata": {},
   "outputs": [
    {
     "name": "stdout",
     "output_type": "stream",
     "text": [
      "Reward change detected at time: 205\n",
      "Detected Sign: -1\n",
      "Reward change detected at time: 302\n",
      "Detected Sign: 1\n"
     ]
    }
   ],
   "source": [
    "IDS_1 = IDS_pull(price_list=price_list, N=update_freq+1, start_L=2, update_L=0,\n",
    "                     simulate_time_initiate=1, simulate_time_update=1, window_width=100, eg_p=0)\n",
    "IDS_1_sum, IDS_1_pt, IDS_1_re, IDS_1_arm, IDS_1_post = IDS_1.IDS(T=T, pricing_MAB=exp_MAB_1, mode='mode1',\n",
    "                                                                     update_style='none', base=1000, p=np.nan,\n",
    "                                                                     p_y=np.nan, R=np.nan)\n",
    "exp_MAB_1.t = 0"
   ]
  },
  {
   "cell_type": "code",
   "execution_count": 15,
   "id": "47fa2123",
   "metadata": {},
   "outputs": [
    {
     "name": "stdout",
     "output_type": "stream",
     "text": [
      "Reward change detected at time: 302\n",
      "Detected Sign: -1\n",
      "Detector cooling\n"
     ]
    }
   ],
   "source": [
    "IDST_1 = IDS_theta_pull(price_list=price_list, N=update_freq+1, start_L=2, update_L=0,\n",
    "                     simulate_time_initiate=1, simulate_time_update=1, window_width=100, eg_p=0)\n",
    "IDST_1_sum, IDST_1_pt, IDST_1_re, IDST_1_arm, IDST_1_post = IDST_1.IDS(T=T, pricing_MAB=exp_MAB_1, mode='mode1',\n",
    "                                                                     update_style='none', base=1000, p=np.nan,\n",
    "                                                                     p_y=np.nan, R=np.nan)\n",
    "exp_MAB_1.t = T"
   ]
  },
  {
   "cell_type": "code",
   "execution_count": 16,
   "id": "27ded483",
   "metadata": {
    "scrolled": false
   },
   "outputs": [],
   "source": [
    "IDS_1_sum, IDS_1_pt, IDS_1_re, IDS_1_arm, IDS_1_post = IDS_1.IDS(T=T, pricing_MAB=exp_MAB_1, mode='mode2',\n",
    "                                                                     update_style='none', base=1000, p=IDS_1.p,\n",
    "                                                                     p_y=IDS_1.p_y, R=IDS_1.R)\n",
    "IDST_1_sum, IDST_1_pt, IDST_1_re, IDST_1_arm, IDST_1_post = IDST_1.IDS(T=T, pricing_MAB=exp_MAB_1, mode='mode2',\n",
    "                                                                     update_style='none', base=1000, p=IDST_1.p,\n",
    "                                                                     p_y=IDST_1.p_y, R=IDST_1.R)"
   ]
  },
  {
   "cell_type": "code",
   "execution_count": 43,
   "id": "1204a7bc",
   "metadata": {},
   "outputs": [],
   "source": [
    "t = 304\n",
    "lamb = 1"
   ]
  },
  {
   "cell_type": "code",
   "execution_count": 44,
   "id": "f28e33f6",
   "metadata": {},
   "outputs": [
    {
     "name": "stdout",
     "output_type": "stream",
     "text": [
      "p(a_star)\n",
      "[0.   0.   0.   0.   0.   0.   0.   0.25 0.2  0.19 0.18 0.18 0.   0.\n",
      " 0.   0.   0.   0.   0.   0.   0.   0.   0.   0.   0.   0.   0.   0.\n",
      " 0.   0.   0.   0.   0.   0.   0.   0.   0.   0.   0.   0.   0.   0.\n",
      " 0.   0.   0.   0.   0.   0.   0.   0.  ]\n",
      "[ 7  8  9 10 11 12 13 14 15  6 16 18 21  5 22 29 24 32 30 17 27 35 33 23\n",
      " 37 25 26 28 34 38 20 19 31  4  3  2  1 49 48 36 39 40 41 42 43 44 45 46\n",
      " 47  0]\n",
      "\n",
      "posterior\n",
      "[0.   0.   0.   0.   0.   0.   0.   0.   0.   0.   0.01 0.05 0.07 0.15\n",
      " 0.22 0.14 0.08 0.02 0.   0.   0.   0.   0.   0.   0.   0.   0.   0.\n",
      " 0.   0.   0.   0.   0.   0.   0.   0.   0.   0.   0.   0.   0.   0.\n",
      " 0.   0.   0.   0.   0.   0.   0.   0.   0.   0.   0.   0.   0.   0.\n",
      " 0.   0.   0.   0.   0.   0.   0.01 0.02 0.03 0.04 0.05 0.04 0.02 0.02\n",
      " 0.01 0.   0.   0.   0.   0.   0.   0.   0.   0.   0.   0.   0.   0.\n",
      " 0.   0.   0.   0.   0.   0.   0.   0.   0.   0.   0.   0.   0.   0.\n",
      " 0.   0.   0.   0.   0.  ]\n",
      "\n",
      "delta\n",
      "[1.1  0.92 0.75 0.59 0.45 0.33 0.22 0.14 0.08 0.05 0.04 0.05 0.07 0.1\n",
      " 0.14 0.17 0.23 0.29 0.36 0.45 0.52 0.61 0.69 0.76 0.81 0.87 0.91 0.96\n",
      " 1.01 1.05 1.1  1.14 1.16 1.17 1.18 1.18 1.18 1.19 1.19 1.19 1.19 1.19\n",
      " 1.19 1.19 1.19 1.19 1.19 1.19 1.19 1.19]\n",
      "[10  9 11 12  8 13 14  7 15  6 16 17  5 18 19  4 20  3 21 22  2 23 24 25\n",
      " 26  1 27 28 29 30  0 31 32 33 34 35 36 37 49 48 47 46 45 38 44 43 42 41\n",
      " 39 40]\n",
      "\n",
      "info gain\n",
      "[0.02 0.02 0.02 0.03 0.03 0.04 0.04 0.05 0.06 0.08 0.1  0.1  0.09 0.07\n",
      " 0.07 0.06 0.06 0.05 0.06 0.07 0.07 0.07 0.07 0.06 0.05 0.04 0.03 0.03\n",
      " 0.05 0.06 0.07 0.07 0.06 0.04 0.03 0.02 0.01 0.01 0.   0.   0.   0.\n",
      " 0.   0.   0.   0.   0.   0.   0.   0.  ]\n",
      "[10 11 12  9 30 31 14 20 13 21 22 19 15  8 29 16 23 18 32 24 17 28  7  6\n",
      " 25 33  5 26 27  4 34  3  2 35  0  1 36 37 38 39 40 41 42 43 44 45 46 47\n",
      " 48 49]\n",
      "\n",
      "IR\n",
      "[1.19 0.83 0.55 0.34 0.2  0.11 0.05 0.02 0.01 0.   0.   0.   0.01 0.01\n",
      " 0.02 0.03 0.05 0.08 0.12 0.19 0.26 0.34 0.44 0.55 0.63 0.72 0.81 0.89\n",
      " 0.96 1.04 1.12 1.2  1.27 1.31 1.34 1.37 1.38 1.4  1.41 1.41 1.41 1.41\n",
      " 1.41 1.41 1.41 1.41 1.41 1.41 1.41 1.41]\n",
      "[10  9 11 12  8 13 14  7 15  6 16 17  5 18 19  4 20  3 21 22 23  2 24 25\n",
      " 26  1 27 28 29 30  0 31 32 33 34 35 36 37 38 49 48 39 47 46 45 44 40 43\n",
      " 42 41]\n",
      "\n",
      "tunable\n",
      "[ 1.08  0.9   0.73  0.56  0.42  0.29  0.18  0.09  0.02 -0.04 -0.06 -0.05\n",
      " -0.01  0.03  0.07  0.11  0.17  0.24  0.3   0.38  0.45  0.54  0.62  0.7\n",
      "  0.76  0.82  0.88  0.92  0.96  0.99  1.03  1.06  1.1   1.13  1.15  1.16\n",
      "  1.17  1.18  1.18  1.19  1.19  1.19  1.19  1.19  1.19  1.19  1.19  1.19\n",
      "  1.19  1.19]\n",
      "[10 11  9 12  8 13 14  7 15 16  6 17  5 18 19  4 20 21  3 22 23  2 24 25\n",
      " 26  1 27 28 29 30 31  0 32 33 34 35 36 37 38 39 49 48 47 46 40 45 44 43\n",
      " 41 42]\n"
     ]
    }
   ],
   "source": [
    "print('p(a_star)')\n",
    "print(IDS_1.get_pa_star().round(2))\n",
    "print(np.argsort(IDS_1.get_pa_star())[::-1])\n",
    "print('\\nposterior')\n",
    "print(IDS_1.all_posterior[t].round(2))\n",
    "print('\\ndelta')\n",
    "print(np.array(IDS_1.IDS_results['delta'][t]).round(2))\n",
    "print(np.argsort(np.array(IDS_1.IDS_results['delta'][t])))\n",
    "print('\\ninfo gain')\n",
    "print(np.array(IDS_1.IDS_results['g'][t]).round(2))\n",
    "print(np.argsort(np.array(IDS_1.IDS_results['g'][t]))[::-1])\n",
    "print('\\nIR')\n",
    "print(np.array(IDS_1.IDS_results['IR'][t]).round(2))\n",
    "print(np.argsort(np.array(IDS_1.IDS_results['IR'][t])))\n",
    "print('\\ntunable')\n",
    "print((IDS_1.IDS_results['delta'][t] - lamb * IDS_1.IDS_results['g'][t]).round(2))\n",
    "print(np.argsort(IDS_1.IDS_results['delta'][t] - lamb * IDS_1.IDS_results['g'][t]))"
   ]
  },
  {
   "cell_type": "code",
   "execution_count": 45,
   "id": "bea177bf",
   "metadata": {
    "scrolled": false
   },
   "outputs": [
    {
     "name": "stdout",
     "output_type": "stream",
     "text": [
      "p(a_star)\n",
      "[0.   0.   0.   0.   0.   0.   0.   0.   0.16 0.04 0.28 0.16 0.18 0.18\n",
      " 0.   0.   0.   0.   0.   0.   0.   0.   0.   0.   0.   0.   0.   0.\n",
      " 0.   0.   0.   0.   0.   0.   0.   0.   0.   0.   0.   0.   0.   0.\n",
      " 0.   0.   0.   0.   0.   0.   0.   0.  ]\n",
      "[10 12 13 11  8  9  7  6  5  4 18 21 28 30 23 25 20 26 14 22 19 16 17 24\n",
      " 27 29 32 33 34 35 36 37 38 31  3  2  1 49 15 48 39 40 41 42 43 44 45 46\n",
      " 47  0]\n",
      "\n",
      "posterior\n",
      "[0.   0.   0.   0.   0.   0.   0.   0.   0.   0.03 0.1  0.18 0.16 0.18\n",
      " 0.18 0.1  0.06 0.01 0.   0.   0.   0.   0.   0.   0.   0.   0.   0.\n",
      " 0.   0.   0.   0.   0.   0.   0.   0.   0.   0.   0.   0.   0.   0.\n",
      " 0.   0.   0.   0.   0.   0.   0.   0.   0.   0.   0.  ]\n",
      "\n",
      "delta\n",
      "[0.84 0.67 0.52 0.38 0.27 0.19 0.13 0.1  0.07 0.06 0.04 0.04 0.05 0.1\n",
      " 0.14 0.2  0.27 0.34 0.4  0.47 0.56 0.65 0.73 0.8  0.86 0.89 0.91 0.92\n",
      " 0.92 0.93 0.93 0.93 0.93 0.92 0.92 0.92 0.92 0.92 0.92 0.92 0.92 0.92\n",
      " 0.92 0.92 0.92 0.92 0.92 0.92 0.92 0.92]\n",
      "[10 11 12  9  8 13  7  6 14  5 15 16  4 17  3 18 19  2 20 21  1 22 23  0\n",
      " 24 25 26 27 49 48 47 46 45 44 43 42 41 40 39 28 38 37 36 35 34 33 32 29\n",
      " 31 30]\n",
      "\n",
      "info gain\n",
      "[0.18 0.17 0.16 0.18 0.23 0.26 0.28 0.24 0.18 0.13 0.1  0.09 0.1  0.13\n",
      " 0.14 0.14 0.12 0.11 0.1  0.13 0.17 0.2  0.22 0.2  0.15 0.1  0.05 0.02\n",
      " 0.01 0.   0.   0.   0.   0.   0.   0.   0.   0.   0.   0.   0.   0.\n",
      " 0.   0.   0.   0.   0.   0.   0.   0.  ]\n",
      "[ 6  5  7  4 22 21 23  0  3  8  1 20  2 24 15 14  9 13 19 16 17 12 18 10\n",
      " 25 11 26 27 28 29 30 31 32 33 34 35 37 38 36 39 40 41 42 43 44 45 46 47\n",
      " 48 49]\n",
      "\n",
      "IR\n",
      "[0.6  0.38 0.23 0.12 0.06 0.03 0.01 0.01 0.   0.   0.   0.   0.   0.01\n",
      " 0.02 0.03 0.06 0.1  0.14 0.19 0.27 0.35 0.44 0.53 0.64 0.73 0.8  0.83\n",
      " 0.85 0.85 0.86 0.86 0.86 0.86 0.86 0.86 0.85 0.85 0.85 0.85 0.85 0.85\n",
      " 0.85 0.85 0.85 0.85 0.85 0.85 0.85 0.85]\n",
      "[10 11 12  9  8  7 13  6 14  5 15  4 16 17  3 18 19  2 20 21  1 22 23  0\n",
      " 24 25 26 27 28 49 48 47 46 45 44 43 42 29 41 40 39 38 37 36 35 34 30 33\n",
      " 32 31]\n",
      "\n",
      "tunable\n",
      "[ 0.66  0.5   0.35  0.2   0.04 -0.07 -0.14 -0.14 -0.1  -0.07 -0.06 -0.05\n",
      " -0.05 -0.04 -0.    0.05  0.14  0.22  0.3   0.34  0.39  0.45  0.51  0.6\n",
      "  0.71  0.8   0.86  0.9   0.92  0.92  0.92  0.92  0.92  0.92  0.92  0.92\n",
      "  0.92  0.92  0.92  0.92  0.92  0.92  0.92  0.92  0.92  0.92  0.92  0.92\n",
      "  0.92  0.92]\n",
      "[ 6  7  8  9  5 10 12 11 13 14  4 15 16  3 17 18 19  2 20 21  1 22 23  0\n",
      " 24 25 26 27 28 29 49 48 47 46 45 44 43 42 41 40 39 38 37 30 36 35 34 33\n",
      " 31 32]\n"
     ]
    }
   ],
   "source": [
    "print('p(a_star)')\n",
    "print(IDST_1.get_pa_star().round(2))\n",
    "print(np.argsort(IDST_1.get_pa_star())[::-1])\n",
    "print('\\nposterior')\n",
    "print(IDST_1.all_posterior[t].round(2))\n",
    "print('\\ndelta')\n",
    "print(np.array(IDST_1.IDS_results['delta'][t]).round(2))\n",
    "print(np.argsort(np.array(IDST_1.IDS_results['delta'][t])))\n",
    "print('\\ninfo gain')\n",
    "print(np.array(IDST_1.IDS_results['g'][t]).round(2))\n",
    "print(np.argsort(np.array(IDST_1.IDS_results['g'][t]))[::-1])\n",
    "print('\\nIR')\n",
    "print(np.array(IDST_1.IDS_results['IR'][t]).round(2))\n",
    "print(np.argsort(np.array(IDST_1.IDS_results['IR'][t])))\n",
    "print('\\ntunable')\n",
    "print((IDST_1.IDS_results['delta'][t] - lamb * IDST_1.IDS_results['g'][t]).round(2))\n",
    "print(np.argsort(IDST_1.IDS_results['delta'][t] - lamb * IDST_1.IDS_results['g'][t]))"
   ]
  },
  {
   "cell_type": "code",
   "execution_count": 35,
   "id": "a85ab688",
   "metadata": {},
   "outputs": [
    {
     "name": "stdout",
     "output_type": "stream",
     "text": [
      "[0.37 0.41 0.45 0.5  0.54 0.58 0.61 0.64 0.67 0.68 0.69 0.7  0.72 0.73\n",
      " 0.75 0.76 0.78 0.78 0.8  0.79 0.82 0.82 0.8  0.79 0.78 0.76 0.75 0.73\n",
      " 0.71 0.71 0.71 0.67 0.62 0.59 0.55 0.52 0.48 0.44 0.42 0.4  0.37 0.33\n",
      " 0.31 0.31 0.29 0.27 0.25 0.23 0.21 0.19]\n"
     ]
    }
   ],
   "source": [
    "print(np.array(IDS_1.IDS_results['g'][302]).round(2))"
   ]
  },
  {
   "cell_type": "code",
   "execution_count": 33,
   "id": "f1bece47",
   "metadata": {},
   "outputs": [
    {
     "name": "stdout",
     "output_type": "stream",
     "text": [
      "[0.34 0.36 0.39 0.41 0.44 0.47 0.5  0.52 0.54 0.57 0.6  0.62 0.65 1.08\n",
      " 1.02 0.77 0.79 0.81 0.85 1.11 1.1  1.12 1.12 1.11 1.12 1.12 1.11 1.18\n",
      " 1.1  1.08 1.08 1.05 1.05 0.8  0.78 0.76 0.69 0.97 0.67 0.6  0.57 0.54\n",
      " 0.52 0.49 0.45 0.42 0.39 0.37 0.34 0.32]\n"
     ]
    }
   ],
   "source": [
    "print(np.array(IDST_1.IDS_results['g'][302]).round(2))"
   ]
  }
 ],
 "metadata": {
  "kernelspec": {
   "display_name": "Python 3",
   "language": "python",
   "name": "python3"
  },
  "language_info": {
   "codemirror_mode": {
    "name": "ipython",
    "version": 3
   },
   "file_extension": ".py",
   "mimetype": "text/x-python",
   "name": "python",
   "nbconvert_exporter": "python",
   "pygments_lexer": "ipython3",
   "version": "3.8.8"
  }
 },
 "nbformat": 4,
 "nbformat_minor": 5
}
